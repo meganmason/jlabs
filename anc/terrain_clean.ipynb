{
 "cells": [
  {
   "cell_type": "code",
   "execution_count": 1,
   "metadata": {},
   "outputs": [],
   "source": [
    "import glob\n",
    "import numpy as np\n",
    "import matplotlib.pyplot as plt\n",
    "import xarray as xr"
   ]
  },
  {
   "cell_type": "code",
   "execution_count": null,
   "metadata": {},
   "outputs": [],
   "source": [
    "# **note, this works for the whole dataset\n",
    "# terrain = terrain.where(ds.mask==1) - you don't have to do individual layers"
   ]
  },
  {
   "cell_type": "code",
   "execution_count": 2,
   "metadata": {},
   "outputs": [],
   "source": [
    "#load lidar (needed to mask terrain layers)\n",
    "fname = '~/Documents/research/sierra/data/compiled_SUPERsnow.nc' #BSU\n",
    "ds = xr.open_dataset(fname,  chunks={'time':1,'x':1000,'y':1000}); ds.close()\n",
    "\n",
    "#path to terrain layers\n",
    "path_hil = '/Users/meganmason491/Documents/research/sierra/data/terrain/hillshade.nc'\n",
    "path_asp = '/Users/meganmason491/Documents/research/sierra/data/terrain/aspect.nc'\n",
    "path_slp = '/Users/meganmason491/Documents/research/sierra/data/terrain/slope.nc'\n",
    "\n",
    "#load each terrain layer\n",
    "hil = xr.open_dataset(path_hil, chunks={'x':1000, 'y':1000}).rename({'Band1':'hillshade'}).drop('transverse_mercator'); hil.close()   \n",
    "asp = xr.open_dataset(path_asp, chunks={'x':1000, 'y':1000}).drop('transverse_mercator'); asp.close()\n",
    "slp = xr.open_dataset(path_slp, chunks={'x':1000, 'y':1000}).drop('transverse_mercator'); slp.close()\n",
    "\n",
    "#flip layers\n",
    "hil_ = np.flip(hil.hillshade,0); hil_.where(ds.mask==1); hil_= hil_.to_dataset(); hil_.close()\n",
    "asp_ = np.flip(asp.aspect,0); asp_.where(ds.mask==1); asp_ = asp_.to_dataset(); asp_.close()\n",
    "slp_ = np.flip(slp.slope,0); slp_.where(ds.mask==1); slp_ = slp_.to_dataset(); slp_.close()\n",
    "\n",
    "#save to netCDF\n",
    "hil_.to_netcdf('/Users/meganmason491/Documents/research/sierra/data/terrain/hillshade_flipped.nc')\n",
    "asp_.to_netcdf('/Users/meganmason491/Documents/research/sierra/data/terrain/aspect_flipped.nc')\n",
    "slp_.to_netcdf('/Users/meganmason491/Documents/research/sierra/data/terrain/slope_flipped.nc')\n",
    "\n",
    "#plot - takes long time!\n",
    "# plt.imshow(hil_.hillshade)\n",
    "# plt.imshow(asp_.aspect)\n",
    "# plt.imshow(slp_.slope)"
   ]
  },
  {
   "cell_type": "markdown",
   "metadata": {},
   "source": [
    "THIS ONLY CLEANS (flips and isolates via mask) THE HILLSLOPE...complete/compile for aspect/slope too!"
   ]
  },
  {
   "cell_type": "code",
   "execution_count": null,
   "metadata": {},
   "outputs": [],
   "source": [
    "# #load lidar (needed to mask terrain layers)\n",
    "# fname = '~/Documents/research/sierra/data/compiled_SUPERsnow.nc' #BSU\n",
    "# ds = xr.open_dataset(fname,  chunks={'time':1,'x':1000,'y':1000}); ds.close()\n",
    "\n",
    "# #load terrain layers\n",
    "# path = '/Users/meganmason491/Documents/research/sierra/data/terrain/*.nc' #BSU\n",
    "# fpath = glob.glob(path)\n",
    "# terrain=xr.open_mfdataset(fpath, \n",
    "#                           concat_dim=None, \n",
    "#                           combine='nested', \n",
    "#                           chunks={'x':1000, 'y':1000}, \n",
    "#                           parallel=True).rename({'Band1':'hillshade'}).drop('transverse_mercator') \n",
    "# terrain.close()\n",
    "\n",
    "# terrain_hill=np.flip(terrain.hillshade,0) #terrain needs to be flipped!\n",
    "# terrain_hill=terrain_hill.where(ds.mask==1)\n",
    "# terrain_hill=terrain_hill.to_dataset()\n",
    "# terrain_hill.close()\n",
    "\n",
    "# plt.imshow(terrain_hill.hillshade) #takes a really long time!\n",
    "\n",
    "# terrain_hill.to_netcdf('/Users/meganmason491/Documents/research/sierra/data/terrain_hill.nc')"
   ]
  }
 ],
 "metadata": {
  "kernelspec": {
   "display_name": "Python 3",
   "language": "python",
   "name": "python3"
  },
  "language_info": {
   "codemirror_mode": {
    "name": "ipython",
    "version": 3
   },
   "file_extension": ".py",
   "mimetype": "text/x-python",
   "name": "python",
   "nbconvert_exporter": "python",
   "pygments_lexer": "ipython3",
   "version": "3.6.9"
  }
 },
 "nbformat": 4,
 "nbformat_minor": 4
}
