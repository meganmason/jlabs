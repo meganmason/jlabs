{
 "cells": [
  {
   "cell_type": "code",
   "execution_count": 1,
   "metadata": {},
   "outputs": [],
   "source": [
    "import pandas as pd\n",
    "import numpy as np\n",
    "\n",
    "from skimage import io\n",
    "from datetime import timedelta\n",
    "from datetime import datetime\n",
    "from scipy.stats import pearsonr\n",
    "from subprocess import run\n",
    "import imageio # for gifs\n",
    "import glob\n",
    "import os\n",
    "\n",
    "from sklearn import linear_model\n",
    "from sklearn.metrics import mean_squared_error, r2_score\n",
    "from sklearn.model_selection import train_test_split\n",
    "\n",
    "# Imports for plotting\n",
    "import matplotlib.pyplot as plt\n",
    "import matplotlib.dates as dates\n",
    "from matplotlib.ticker import NullFormatter \n",
    "from matplotlib.ticker import MultipleLocator, FormatStrFormatter \n",
    "from matplotlib.dates import MonthLocator\n",
    "from matplotlib.dates import YearLocator\n",
    "import matplotlib.patheffects as PathEffects\n",
    "import matplotlib.dates as mdates\n",
    "\n",
    "from mpl_toolkits.axes_grid1 import make_axes_locatable"
   ]
  },
  {
   "cell_type": "code",
   "execution_count": 2,
   "metadata": {},
   "outputs": [],
   "source": [
    "#dataset notes discovered\n",
    "     # aspect layer has -9999 at all the lakes"
   ]
  },
  {
   "cell_type": "markdown",
   "metadata": {},
   "source": [
    "### Create DataFrame for Multiple Linear Regression"
   ]
  },
  {
   "cell_type": "code",
   "execution_count": 3,
   "metadata": {},
   "outputs": [],
   "source": [
    "msk_20m_path = '/Users/meganmason491/Documents/research/sierra/data/20m_analysis/terrain/tuolumne_msk_20m.asc'\n",
    "dem_20m_path = '/Users/meganmason491/Documents/research/sierra/data/20m_analysis/terrain/tuolumne_dem_20m.asc'\n",
    "asp_20m_path = '/Users/meganmason491/Documents/research/sierra/data/20m_analysis/terrain/tuolumne_asp_20m.asc'\n",
    "slp_20m_path = '/Users/meganmason491/Documents/research/sierra/data/20m_analysis/terrain/tuolumne_slp_20m.asc'\n",
    "\n",
    "dep_20m_path = '/Users/meganmason491/Documents/research/sierra/data/20m_analysis/ascii/20160426_SUPERsnow_depth_20m.asc' #just one depth image...\n",
    "years = list(range(2013, 2019))"
   ]
  },
  {
   "cell_type": "code",
   "execution_count": 4,
   "metadata": {},
   "outputs": [],
   "source": [
    "#open\n",
    "msk_ = np.loadtxt(msk_20m_path, skiprows=6)\n",
    "dem_ = np.loadtxt(dem_20m_path, skiprows=6)\n",
    "asp_ = np.loadtxt(asp_20m_path, skiprows=7) \n",
    "slp_ = np.loadtxt(slp_20m_path, skiprows=7) \n",
    "dep_ = np.loadtxt(dep_20m_path, skiprows=7) / 10                      #convert mm to cm"
   ]
  },
  {
   "cell_type": "code",
   "execution_count": 5,
   "metadata": {},
   "outputs": [],
   "source": [
    "#flatten\n",
    "msk = msk_.flatten()\n",
    "dem = dem_.flatten()\n",
    "asp = asp_.flatten()\n",
    "slp = slp_.flatten()\n",
    "dep = dep_.flatten()"
   ]
  },
  {
   "cell_type": "code",
   "execution_count": 6,
   "metadata": {},
   "outputs": [],
   "source": [
    "#filters: (1) Tuolumne Basin, (2) Snow Covered Areas, (3) No Data Values for Aspect, -9999\n",
    "dem = dem[(msk==1) & (dep>0)]\n",
    "asp = asp[(msk==1) & (dep>0)]\n",
    "slp = slp[(msk==1) & (dep>0)] \n",
    "dep = dep[(msk==1) & (dep>0)]"
   ]
  },
  {
   "cell_type": "code",
   "execution_count": 7,
   "metadata": {},
   "outputs": [
    {
     "name": "stdout",
     "output_type": "stream",
     "text": [
      "2486979\n",
      "2486979\n",
      "2486979\n",
      "2486979\n"
     ]
    }
   ],
   "source": [
    "#size check\n",
    "print(dem.size)\n",
    "print(asp.size)\n",
    "print(slp.size)\n",
    "print(dep.size)"
   ]
  },
  {
   "cell_type": "code",
   "execution_count": 8,
   "metadata": {},
   "outputs": [],
   "source": [
    "#scatter plots.....to show dependent variable's correlation with independent variable\n"
   ]
  },
  {
   "cell_type": "code",
   "execution_count": 9,
   "metadata": {},
   "outputs": [
    {
     "data": {
      "text/html": [
       "<div>\n",
       "<style scoped>\n",
       "    .dataframe tbody tr th:only-of-type {\n",
       "        vertical-align: middle;\n",
       "    }\n",
       "\n",
       "    .dataframe tbody tr th {\n",
       "        vertical-align: top;\n",
       "    }\n",
       "\n",
       "    .dataframe thead th {\n",
       "        text-align: right;\n",
       "    }\n",
       "</style>\n",
       "<table border=\"1\" class=\"dataframe\">\n",
       "  <thead>\n",
       "    <tr style=\"text-align: right;\">\n",
       "      <th></th>\n",
       "      <th>dep</th>\n",
       "      <th>dem</th>\n",
       "      <th>asp</th>\n",
       "      <th>slp</th>\n",
       "    </tr>\n",
       "  </thead>\n",
       "  <tbody>\n",
       "    <tr>\n",
       "      <th>0</th>\n",
       "      <td>100.5</td>\n",
       "      <td>3173.589355</td>\n",
       "      <td>231.494385</td>\n",
       "      <td>2.798378</td>\n",
       "    </tr>\n",
       "    <tr>\n",
       "      <th>1</th>\n",
       "      <td>44.1</td>\n",
       "      <td>3174.205078</td>\n",
       "      <td>224.230560</td>\n",
       "      <td>2.318916</td>\n",
       "    </tr>\n",
       "    <tr>\n",
       "      <th>2</th>\n",
       "      <td>142.0</td>\n",
       "      <td>3174.610107</td>\n",
       "      <td>277.199219</td>\n",
       "      <td>0.770132</td>\n",
       "    </tr>\n",
       "    <tr>\n",
       "      <th>3</th>\n",
       "      <td>152.5</td>\n",
       "      <td>3172.035645</td>\n",
       "      <td>199.983109</td>\n",
       "      <td>3.083293</td>\n",
       "    </tr>\n",
       "    <tr>\n",
       "      <th>4</th>\n",
       "      <td>118.1</td>\n",
       "      <td>3172.527100</td>\n",
       "      <td>218.970459</td>\n",
       "      <td>4.072806</td>\n",
       "    </tr>\n",
       "  </tbody>\n",
       "</table>\n",
       "</div>"
      ],
      "text/plain": [
       "     dep          dem         asp       slp\n",
       "0  100.5  3173.589355  231.494385  2.798378\n",
       "1   44.1  3174.205078  224.230560  2.318916\n",
       "2  142.0  3174.610107  277.199219  0.770132\n",
       "3  152.5  3172.035645  199.983109  3.083293\n",
       "4  118.1  3172.527100  218.970459  4.072806"
      ]
     },
     "execution_count": 9,
     "metadata": {},
     "output_type": "execute_result"
    }
   ],
   "source": [
    "#dataframe\n",
    "d = {'dep': dep, 'dem': dem, 'asp': asp, 'slp': slp}                 #data to be put in df\n",
    "df_ = pd.DataFrame(d)                                                #create df\n",
    "df = df_.dropna()                                                    #remove all rows with any NaN's\n",
    "df.drop(df[df['asp'] < 0].index, inplace=True)                       #remove all -9999 in aspect values (i.e. the lakes, water bodies)\n",
    "df.head()                                                            #shows first 5 rows of df"
   ]
  },
  {
   "cell_type": "code",
   "execution_count": 10,
   "metadata": {},
   "outputs": [
    {
     "data": {
      "text/html": [
       "<div>\n",
       "<style scoped>\n",
       "    .dataframe tbody tr th:only-of-type {\n",
       "        vertical-align: middle;\n",
       "    }\n",
       "\n",
       "    .dataframe tbody tr th {\n",
       "        vertical-align: top;\n",
       "    }\n",
       "\n",
       "    .dataframe thead th {\n",
       "        text-align: right;\n",
       "    }\n",
       "</style>\n",
       "<table border=\"1\" class=\"dataframe\">\n",
       "  <thead>\n",
       "    <tr style=\"text-align: right;\">\n",
       "      <th></th>\n",
       "      <th>dep</th>\n",
       "      <th>dem</th>\n",
       "      <th>asp</th>\n",
       "      <th>slp</th>\n",
       "    </tr>\n",
       "  </thead>\n",
       "  <tbody>\n",
       "    <tr>\n",
       "      <th>count</th>\n",
       "      <td>2486231.00</td>\n",
       "      <td>2486231.00</td>\n",
       "      <td>2486231.00</td>\n",
       "      <td>2486231.00</td>\n",
       "    </tr>\n",
       "    <tr>\n",
       "      <th>mean</th>\n",
       "      <td>135.96</td>\n",
       "      <td>2866.75</td>\n",
       "      <td>201.33</td>\n",
       "      <td>19.01</td>\n",
       "    </tr>\n",
       "    <tr>\n",
       "      <th>std</th>\n",
       "      <td>92.45</td>\n",
       "      <td>328.64</td>\n",
       "      <td>98.44</td>\n",
       "      <td>11.99</td>\n",
       "    </tr>\n",
       "    <tr>\n",
       "      <th>min</th>\n",
       "      <td>0.10</td>\n",
       "      <td>1078.79</td>\n",
       "      <td>0.00</td>\n",
       "      <td>0.00</td>\n",
       "    </tr>\n",
       "    <tr>\n",
       "      <th>25%</th>\n",
       "      <td>68.10</td>\n",
       "      <td>2653.10</td>\n",
       "      <td>121.60</td>\n",
       "      <td>9.44</td>\n",
       "    </tr>\n",
       "    <tr>\n",
       "      <th>50%</th>\n",
       "      <td>126.50</td>\n",
       "      <td>2876.96</td>\n",
       "      <td>209.88</td>\n",
       "      <td>17.01</td>\n",
       "    </tr>\n",
       "    <tr>\n",
       "      <th>75%</th>\n",
       "      <td>188.30</td>\n",
       "      <td>3081.61</td>\n",
       "      <td>288.27</td>\n",
       "      <td>26.80</td>\n",
       "    </tr>\n",
       "    <tr>\n",
       "      <th>max</th>\n",
       "      <td>1265.20</td>\n",
       "      <td>3984.03</td>\n",
       "      <td>360.00</td>\n",
       "      <td>76.27</td>\n",
       "    </tr>\n",
       "  </tbody>\n",
       "</table>\n",
       "</div>"
      ],
      "text/plain": [
       "             dep        dem        asp        slp\n",
       "count 2486231.00 2486231.00 2486231.00 2486231.00\n",
       "mean      135.96    2866.75     201.33      19.01\n",
       "std        92.45     328.64      98.44      11.99\n",
       "min         0.10    1078.79       0.00       0.00\n",
       "25%        68.10    2653.10     121.60       9.44\n",
       "50%       126.50    2876.96     209.88      17.01\n",
       "75%       188.30    3081.61     288.27      26.80\n",
       "max      1265.20    3984.03     360.00      76.27"
      ]
     },
     "execution_count": 10,
     "metadata": {},
     "output_type": "execute_result"
    }
   ],
   "source": [
    "pd.set_option('display.float_format', lambda x: '%.2f' % x)           #float value to the hundredths place\n",
    "df.describe()                                                         #summary stats, 50%=median, note Aspect and Slope mins=0, ~2.48 million values in remaining dataset "
   ]
  },
  {
   "cell_type": "markdown",
   "metadata": {},
   "source": [
    "### Multiple Linear Regression\n",
    "- independent variable = snow depth [cm]\n",
    "- dependent variables = (1) Elevation [m], (2) Aspect [degrees], (3) Slope [degrees]"
   ]
  },
  {
   "cell_type": "code",
   "execution_count": 11,
   "metadata": {},
   "outputs": [],
   "source": [
    "#set up training and testing dataset\n",
    "X = df.iloc[:,df.columns != 'dep']                                                        #all dependent variables, excludes snow depth\n",
    "Y = df.iloc[:, 0]                                                                         #independent variable\n",
    "X_train, X_test, Y_train, Y_test = train_test_split(X, Y, test_size=0.5, random_state=0)  #train_test_split imported from sklearn.model_selection\n",
    "\n",
    "#ASK HP ABOUT RANDOM_STATE and what it means for the random seed: https://scikit-learn.org/stable/modules/generated/sklearn.model_selection.train_test_split.html"
   ]
  },
  {
   "cell_type": "code",
   "execution_count": 12,
   "metadata": {},
   "outputs": [
    {
     "data": {
      "text/plain": [
       "LinearRegression(copy_X=True, fit_intercept=True, n_jobs=None, normalize=False)"
      ]
     },
     "execution_count": 12,
     "metadata": {},
     "output_type": "execute_result"
    }
   ],
   "source": [
    "model = linear_model.LinearRegression()\n",
    "model.fit(X_train, Y_train)                                                               #train the model with 20% of the data (20% set in above cell)"
   ]
  },
  {
   "cell_type": "code",
   "execution_count": 13,
   "metadata": {},
   "outputs": [
    {
     "data": {
      "text/html": [
       "<div>\n",
       "<style scoped>\n",
       "    .dataframe tbody tr th:only-of-type {\n",
       "        vertical-align: middle;\n",
       "    }\n",
       "\n",
       "    .dataframe tbody tr th {\n",
       "        vertical-align: top;\n",
       "    }\n",
       "\n",
       "    .dataframe thead th {\n",
       "        text-align: right;\n",
       "    }\n",
       "</style>\n",
       "<table border=\"1\" class=\"dataframe\">\n",
       "  <thead>\n",
       "    <tr style=\"text-align: right;\">\n",
       "      <th></th>\n",
       "      <th>Coefficient</th>\n",
       "    </tr>\n",
       "  </thead>\n",
       "  <tbody>\n",
       "    <tr>\n",
       "      <th>dem</th>\n",
       "      <td>0.11</td>\n",
       "    </tr>\n",
       "    <tr>\n",
       "      <th>asp</th>\n",
       "      <td>0.01</td>\n",
       "    </tr>\n",
       "    <tr>\n",
       "      <th>slp</th>\n",
       "      <td>-0.51</td>\n",
       "    </tr>\n",
       "  </tbody>\n",
       "</table>\n",
       "</div>"
      ],
      "text/plain": [
       "     Coefficient\n",
       "dem         0.11\n",
       "asp         0.01\n",
       "slp        -0.51"
      ]
     },
     "execution_count": 13,
     "metadata": {},
     "output_type": "execute_result"
    }
   ],
   "source": [
    "coeff_df = pd.DataFrame(model.coef_, X.columns, columns=['Coefficient'])\n",
    "coeff_df"
   ]
  },
  {
   "cell_type": "code",
   "execution_count": 14,
   "metadata": {},
   "outputs": [],
   "source": [
    "y_pred = model.predict(X_test)"
   ]
  },
  {
   "cell_type": "code",
   "execution_count": 15,
   "metadata": {},
   "outputs": [
    {
     "data": {
      "text/html": [
       "<div>\n",
       "<style scoped>\n",
       "    .dataframe tbody tr th:only-of-type {\n",
       "        vertical-align: middle;\n",
       "    }\n",
       "\n",
       "    .dataframe tbody tr th {\n",
       "        vertical-align: top;\n",
       "    }\n",
       "\n",
       "    .dataframe thead th {\n",
       "        text-align: right;\n",
       "    }\n",
       "</style>\n",
       "<table border=\"1\" class=\"dataframe\">\n",
       "  <thead>\n",
       "    <tr style=\"text-align: right;\">\n",
       "      <th></th>\n",
       "      <th>Actual</th>\n",
       "      <th>Predicted</th>\n",
       "    </tr>\n",
       "  </thead>\n",
       "  <tbody>\n",
       "    <tr>\n",
       "      <th>1434712</th>\n",
       "      <td>127.10</td>\n",
       "      <td>99.68</td>\n",
       "    </tr>\n",
       "    <tr>\n",
       "      <th>1685876</th>\n",
       "      <td>54.40</td>\n",
       "      <td>57.92</td>\n",
       "    </tr>\n",
       "    <tr>\n",
       "      <th>1020530</th>\n",
       "      <td>6.70</td>\n",
       "      <td>99.77</td>\n",
       "    </tr>\n",
       "    <tr>\n",
       "      <th>1075598</th>\n",
       "      <td>71.00</td>\n",
       "      <td>112.89</td>\n",
       "    </tr>\n",
       "    <tr>\n",
       "      <th>1207515</th>\n",
       "      <td>208.00</td>\n",
       "      <td>147.86</td>\n",
       "    </tr>\n",
       "    <tr>\n",
       "      <th>...</th>\n",
       "      <td>...</td>\n",
       "      <td>...</td>\n",
       "    </tr>\n",
       "    <tr>\n",
       "      <th>962532</th>\n",
       "      <td>365.10</td>\n",
       "      <td>171.04</td>\n",
       "    </tr>\n",
       "    <tr>\n",
       "      <th>951101</th>\n",
       "      <td>172.30</td>\n",
       "      <td>143.09</td>\n",
       "    </tr>\n",
       "    <tr>\n",
       "      <th>427773</th>\n",
       "      <td>131.00</td>\n",
       "      <td>110.67</td>\n",
       "    </tr>\n",
       "    <tr>\n",
       "      <th>252836</th>\n",
       "      <td>61.20</td>\n",
       "      <td>108.83</td>\n",
       "    </tr>\n",
       "    <tr>\n",
       "      <th>712516</th>\n",
       "      <td>200.90</td>\n",
       "      <td>161.62</td>\n",
       "    </tr>\n",
       "  </tbody>\n",
       "</table>\n",
       "<p>1243116 rows × 2 columns</p>\n",
       "</div>"
      ],
      "text/plain": [
       "         Actual  Predicted\n",
       "1434712  127.10      99.68\n",
       "1685876   54.40      57.92\n",
       "1020530    6.70      99.77\n",
       "1075598   71.00     112.89\n",
       "1207515  208.00     147.86\n",
       "...         ...        ...\n",
       "962532   365.10     171.04\n",
       "951101   172.30     143.09\n",
       "427773   131.00     110.67\n",
       "252836    61.20     108.83\n",
       "712516   200.90     161.62\n",
       "\n",
       "[1243116 rows x 2 columns]"
      ]
     },
     "execution_count": 15,
     "metadata": {},
     "output_type": "execute_result"
    }
   ],
   "source": [
    "mod_df = pd.DataFrame({'Actual': Y_test, 'Predicted': y_pred})\n",
    "mod_df"
   ]
  },
  {
   "cell_type": "code",
   "execution_count": null,
   "metadata": {},
   "outputs": [],
   "source": []
  },
  {
   "cell_type": "code",
   "execution_count": 16,
   "metadata": {},
   "outputs": [
    {
     "data": {
      "text/plain": [
       "(0, 500)"
      ]
     },
     "execution_count": 16,
     "metadata": {},
     "output_type": "execute_result"
    },
    {
     "data": {
      "image/png": "[encoded data removed]",
      "text/plain": [
       "<Figure size 1440x576 with 1 Axes>"
      ]
     },
     "metadata": {
      "needs_background": "light"
     },
     "output_type": "display_data"
    }
   ],
   "source": [
    "mod_df[::5000].plot(kind='bar', figsize=(20,8)) #every 5000th value\n",
    "plt.ylim(0,500)"
   ]
  },
  {
   "cell_type": "code",
   "execution_count": 17,
   "metadata": {},
   "outputs": [
    {
     "data": {
      "text/html": [
       "<div>\n",
       "<style scoped>\n",
       "    .dataframe tbody tr th:only-of-type {\n",
       "        vertical-align: middle;\n",
       "    }\n",
       "\n",
       "    .dataframe tbody tr th {\n",
       "        vertical-align: top;\n",
       "    }\n",
       "\n",
       "    .dataframe thead th {\n",
       "        text-align: right;\n",
       "    }\n",
       "</style>\n",
       "<table border=\"1\" class=\"dataframe\">\n",
       "  <thead>\n",
       "    <tr style=\"text-align: right;\">\n",
       "      <th></th>\n",
       "      <th>Actual</th>\n",
       "      <th>Predicted</th>\n",
       "    </tr>\n",
       "  </thead>\n",
       "  <tbody>\n",
       "    <tr>\n",
       "      <th>1434712</th>\n",
       "      <td>127.10</td>\n",
       "      <td>99.68</td>\n",
       "    </tr>\n",
       "    <tr>\n",
       "      <th>1685876</th>\n",
       "      <td>54.40</td>\n",
       "      <td>57.92</td>\n",
       "    </tr>\n",
       "    <tr>\n",
       "      <th>1020530</th>\n",
       "      <td>6.70</td>\n",
       "      <td>99.77</td>\n",
       "    </tr>\n",
       "    <tr>\n",
       "      <th>1075598</th>\n",
       "      <td>71.00</td>\n",
       "      <td>112.89</td>\n",
       "    </tr>\n",
       "    <tr>\n",
       "      <th>1207515</th>\n",
       "      <td>208.00</td>\n",
       "      <td>147.86</td>\n",
       "    </tr>\n",
       "    <tr>\n",
       "      <th>...</th>\n",
       "      <td>...</td>\n",
       "      <td>...</td>\n",
       "    </tr>\n",
       "    <tr>\n",
       "      <th>962532</th>\n",
       "      <td>365.10</td>\n",
       "      <td>171.04</td>\n",
       "    </tr>\n",
       "    <tr>\n",
       "      <th>951101</th>\n",
       "      <td>172.30</td>\n",
       "      <td>143.09</td>\n",
       "    </tr>\n",
       "    <tr>\n",
       "      <th>427773</th>\n",
       "      <td>131.00</td>\n",
       "      <td>110.67</td>\n",
       "    </tr>\n",
       "    <tr>\n",
       "      <th>252836</th>\n",
       "      <td>61.20</td>\n",
       "      <td>108.83</td>\n",
       "    </tr>\n",
       "    <tr>\n",
       "      <th>712516</th>\n",
       "      <td>200.90</td>\n",
       "      <td>161.62</td>\n",
       "    </tr>\n",
       "  </tbody>\n",
       "</table>\n",
       "<p>1243116 rows × 2 columns</p>\n",
       "</div>"
      ],
      "text/plain": [
       "         Actual  Predicted\n",
       "1434712  127.10      99.68\n",
       "1685876   54.40      57.92\n",
       "1020530    6.70      99.77\n",
       "1075598   71.00     112.89\n",
       "1207515  208.00     147.86\n",
       "...         ...        ...\n",
       "962532   365.10     171.04\n",
       "951101   172.30     143.09\n",
       "427773   131.00     110.67\n",
       "252836    61.20     108.83\n",
       "712516   200.90     161.62\n",
       "\n",
       "[1243116 rows x 2 columns]"
      ]
     },
     "execution_count": 17,
     "metadata": {},
     "output_type": "execute_result"
    }
   ],
   "source": [
    "mod_df"
   ]
  },
  {
   "cell_type": "code",
   "execution_count": 18,
   "metadata": {},
   "outputs": [
    {
     "data": {
      "text/plain": [
       "<matplotlib.axes._subplots.AxesSubplot at 0x1c25ac17b8>"
      ]
     },
     "execution_count": 18,
     "metadata": {},
     "output_type": "execute_result"
    },
    {
     "data": {
      "image/png": "[encoded data removed]",
      "text/plain": [
       "<Figure size 432x288 with 1 Axes>"
      ]
     },
     "metadata": {
      "needs_background": "light"
     },
     "output_type": "display_data"
    }
   ],
   "source": [
    "mod_df['Actual'][::5000].plot()"
   ]
  },
  {
   "cell_type": "code",
   "execution_count": null,
   "metadata": {},
   "outputs": [],
   "source": []
  },
  {
   "cell_type": "code",
   "execution_count": 19,
   "metadata": {},
   "outputs": [
    {
     "ename": "SyntaxError",
     "evalue": "'break' outside loop (<ipython-input-19-6aaf1f276005>, line 4)",
     "output_type": "error",
     "traceback": [
      "\u001b[0;36m  File \u001b[0;32m\"<ipython-input-19-6aaf1f276005>\"\u001b[0;36m, line \u001b[0;32m4\u001b[0m\n\u001b[0;31mSyntaxError\u001b[0m\u001b[0;31m:\u001b[0m 'break' outside loop\n"
     ]
    }
   ],
   "source": [
    "break"
   ]
  },
  {
   "cell_type": "markdown",
   "metadata": {},
   "source": [
    "#### TEST STUFF HERE"
   ]
  },
  {
   "cell_type": "code",
   "execution_count": null,
   "metadata": {},
   "outputs": [],
   "source": [
    "#mini example\n",
    "\n",
    "#np array\n",
    "a1_ = np.random.random((4,4))\n",
    "a2_ = np.random.random((4,4))\n",
    "a3_ = np.random.random((4,4))\n",
    "a4_ = np.random.random((4,4))\n",
    "\n",
    "#flatten\n",
    "a1 = a1_.flatten()\n",
    "a2 = a2_.flatten()\n",
    "a3 = a3_.flatten()\n",
    "a4 = a4_.flatten()\n",
    "\n",
    "#give it some nans\n",
    "a1.ravel()[np.random.choice(a1.size, 3, replace=False)] = np.nan\n",
    "a2.ravel()[np.random.choice(a2.size, 3, replace=False)] = np.nan\n",
    "a3.ravel()[np.random.choice(a3.size, 3, replace=False)] = np.nan\n",
    "a4.ravel()[np.random.choice(a4.size, 3, replace=False)] = np.nan\n",
    "\n",
    "#make it a dataframe\n",
    "d = {'col1': a1, 'col2': a2, 'col3': a3, 'col4': a4}\n",
    "df = pd.DataFrame(d)\n",
    "df\n",
    "\n"
   ]
  },
  {
   "cell_type": "code",
   "execution_count": null,
   "metadata": {},
   "outputs": [],
   "source": [
    "ddf = df.dropna()\n",
    "ddf.describe()"
   ]
  },
  {
   "cell_type": "markdown",
   "metadata": {},
   "source": [
    "### could use"
   ]
  },
  {
   "cell_type": "code",
   "execution_count": null,
   "metadata": {},
   "outputs": [],
   "source": [
    "#filter-1, Tuolumne Basin\n",
    "dem = np.where(msk==1, dem, np.nan)\n",
    "asp = np.where(msk==1, asp, np.nan)\n",
    "slp = np.where(msk==1, slp, np.nan)\n",
    "dep = np.where(msk==1, dep, np.nan)\n",
    "\n",
    "#filter-2, Snow Covered Areas\n",
    "dem = np.where(dep>0, dem, np.nan)\n",
    "asp = np.where(dep>0, asp, np.nan)\n",
    "slp = np.where(dep>0, slp, np.nan)\n",
    "dep = np.where(dep>0, dep, np.nan)"
   ]
  },
  {
   "cell_type": "code",
   "execution_count": null,
   "metadata": {},
   "outputs": [],
   "source": [
    "#count the number with a condition\n",
    "sum(1 for i in asp if i < 0) #number of values <0 in aspect"
   ]
  }
 ],
 "metadata": {
  "kernelspec": {
   "display_name": "Python 3",
   "language": "python",
   "name": "python3"
  },
  "language_info": {
   "codemirror_mode": {
    "name": "ipython",
    "version": 3
   },
   "file_extension": ".py",
   "mimetype": "text/x-python",
   "name": "python",
   "nbconvert_exporter": "python",
   "pygments_lexer": "ipython3",
   "version": "3.6.9"
  }
 },
 "nbformat": 4,
 "nbformat_minor": 4
}
