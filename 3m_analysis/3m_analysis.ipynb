{
 "cells": [
  {
   "cell_type": "code",
   "execution_count": 1,
   "metadata": {},
   "outputs": [],
   "source": [
    "import os\n",
    "import glob\n",
    "\n",
    "import pandas as pd\n",
    "import numpy as np\n",
    "\n",
    "from skimage import io\n",
    "from datetime import timedelta\n",
    "from datetime import datetime\n",
    "from scipy.stats import pearsonr\n",
    "\n",
    "# Imports for plotting\n",
    "import matplotlib.pyplot as plt\n",
    "import matplotlib.dates as dates\n",
    "from matplotlib.ticker import NullFormatter \n",
    "from matplotlib.ticker import MultipleLocator, FormatStrFormatter \n",
    "from matplotlib.dates import MonthLocator\n",
    "import matplotlib.patheffects as PathEffects"
   ]
  },
  {
   "cell_type": "code",
   "execution_count": 2,
   "metadata": {},
   "outputs": [],
   "source": [
    "#base path\n",
    "base_path = '/home/meganmason/Documents/projects/thesis/data/processing_lidar/'\n",
    "#data paths and years\n",
    "depth_3m_path = 'depths_3m/{}/*.tif'\n",
    "# mask files\n",
    "# [INSERT]\n",
    "# dem \n",
    "dem_3m_file = 'TB20140827_snow_free_dtm_vf_3p0m.tif'"
   ]
  },
  {
   "cell_type": "code",
   "execution_count": 13,
   "metadata": {},
   "outputs": [],
   "source": [
    "# years and flight dates\n",
    "years = list(range(2013,2019)) # 2013-2018\n",
    "\n",
    "flist = []\n",
    "for year in sorted(years):\n",
    "    flist_yr = glob.glob(base_path + depth_3m_path.format(year))\n",
    "    flist.append(flist_yr)\n",
    "# print(flist) \n",
    "\n",
    "    \n",
    "# ~~~~~~~~~~~~~~ASK MICAH FOR HELP - LIST COMPREHENSION!?!?!? :):)  ~~~~~~~~~~~~  \n",
    "# flist = ([glob.glob(flist_yr).append for year in years])\n",
    "# print(flist)\n",
    "# flist = (glob.glob(base_path + depth_3m_path.format(year)) for year in years)\n",
    "# print(flist)"
   ]
  },
  {
   "cell_type": "code",
   "execution_count": null,
   "metadata": {},
   "outputs": [],
   "source": []
  },
  {
   "cell_type": "code",
   "execution_count": null,
   "metadata": {},
   "outputs": [],
   "source": []
  }
 ],
 "metadata": {
  "kernelspec": {
   "display_name": "Python 3",
   "language": "python",
   "name": "python3"
  },
  "language_info": {
   "codemirror_mode": {
    "name": "ipython",
    "version": 3
   },
   "file_extension": ".py",
   "mimetype": "text/x-python",
   "name": "python",
   "nbconvert_exporter": "python",
   "pygments_lexer": "ipython3",
   "version": "3.6.7"
  }
 },
 "nbformat": 4,
 "nbformat_minor": 2
}
