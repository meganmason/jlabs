{
 "cells": [
  {
   "cell_type": "code",
   "execution_count": 1,
   "metadata": {},
   "outputs": [],
   "source": [
    "import os\n",
    "import glob\n",
    "\n",
    "import pandas as pd\n",
    "import numpy as np\n",
    "\n",
    "from skimage import io\n",
    "from datetime import timedelta\n",
    "from datetime import datetime\n",
    "from scipy.stats import pearsonr\n",
    "\n",
    "from netCDF4 import Dataset\n",
    "\n",
    "# Imports for plotting\n",
    "import matplotlib.pyplot as plt\n",
    "import matplotlib.dates as dates\n",
    "from matplotlib.ticker import NullFormatter \n",
    "from matplotlib.ticker import MultipleLocator, FormatStrFormatter \n",
    "from matplotlib.dates import MonthLocator\n",
    "import matplotlib.patheffects as PathEffects"
   ]
  },
  {
   "cell_type": "markdown",
   "metadata": {},
   "source": [
    "### LOAD AND SET UP DATA "
   ]
  },
  {
   "cell_type": "code",
   "execution_count": 122,
   "metadata": {},
   "outputs": [],
   "source": [
    "#base path\n",
    "base_path = '/home/meganmason/Documents/projects/thesis/data/processing_lidar/'\n",
    "\n",
    "#data paths\n",
    "depth_3m_path = 'depths_3m/{}/*.tif'\n",
    "# mask files\n",
    "mask_3m_file = '/home/meganmason/Documents/projects/thesis/maps/map_layers/basin_ops/tuolumne/topo/basin_setup/topo.nc'\n",
    "mask_50m_file = '/home/meganmason/Documents/projects/thesis/maps/map_layers/basin_ops/tuolumne/topo/topo_50m.nc'\n",
    "# dem \n",
    "dem_3m_file = 'TB20140827_snow_free_dtm_vf_3p0m.tif'"
   ]
  },
  {
   "cell_type": "code",
   "execution_count": 124,
   "metadata": {},
   "outputs": [],
   "source": [
    "# years and flight dates (3m)\n",
    "years = list(range(2013,2019)) # 2013-2018\n",
    "\n",
    "flist = []\n",
    "for year in sorted(years):\n",
    "    flist_yr = glob.glob(base_path + depth_3m_path.format(year))\n",
    "    flist.extend(flist_yr) #.append adds list to lists (ie multiple lists), .extend tacks on to og list (ie one list) \n",
    "\n",
    "dates=[]\n",
    "for f in flist:\n",
    "#     print(f)\n",
    "    dt_str = f.split(\"/\")[-1] #splits on / and saves the last one\n",
    "    dt_str = \"\".join([c for c in dt_str if c.isnumeric()]) #grabs numeric values\n",
    "    dt = pd.to_datetime(dt_str[:8]) #convert to datetime, grabs digits for dates only\n",
    "#     print('flight date:',dt.date())\n",
    "    dates.append(dt.date()) #.date to exclude time (00:00:00)\n",
    "    \n",
    "dates = pd.to_datetime(dates) #could revisit (seems like I put it in datetime 2x, w/o here it's a class 'list')\n",
    "# print(type(date))\n",
    "# print(date)\n",
    "\n",
    "    \n",
    "# ~~~~~~~~~~~~~~ASK MICAH FOR HELP - LIST COMPREHENSION  ~~~~~~~~~~~~  \n",
    "# flist = ([glob.glob(flist_yr).extend for year in years])\n",
    "# print(flist)\n",
    "# flist = (glob.glob(base_path + depth_3m_path.format(year)) for year in years)\n",
    "# print(flist)"
   ]
  },
  {
   "cell_type": "code",
   "execution_count": 114,
   "metadata": {},
   "outputs": [],
   "source": [
    "#~~~~~~~~~~~~~~~~~~~~~~~\n",
    "#test with 50m lidar .tifs (use this until you get 3 meter mask - gdalme, veg data, Makefile.....)\n",
    "#~~~~~~~~~~~~~~~~~~~~~~~\n",
    "\n",
    "# path_50m_tifs = '/home/meganmason/Documents/projects/thesis/data/processing_lidar/depths_50m/all/tmp/*.tif'\n",
    "# flist = sorted(glob.glob(path_50m_tifs))\n",
    "\n",
    "\n",
    "# path_50m_tifs = '/home/meganmason/Documents/projects/thesis/data/processing_lidar/depths_50m/{}/*.tif'\n",
    "# years = list(range(2013,2019)) # 2013-2018\n",
    "# flist = []\n",
    "# for year in sorted(years):\n",
    "#     flist_yr = glob.glob(path_50m_tifs.format(year))\n",
    "#     flist.extend(flist_yr) #.append adds list to lists (ie multiple lists), .extend tacks on to og list (ie one list) \n",
    "# # flist\n"
   ]
  },
  {
   "cell_type": "code",
   "execution_count": 123,
   "metadata": {},
   "outputs": [
    {
     "name": "stdout",
     "output_type": "stream",
     "text": [
      "mask shape: (18649, 21909) \n",
      "mask value to use: 1 \n",
      "# of pixels in mask: 131291320\n"
     ]
    },
    {
     "data": {
      "text/plain": [
       "<matplotlib.colorbar.Colorbar at 0x7fa5f6e86d30>"
      ]
     },
     "execution_count": 123,
     "metadata": {},
     "output_type": "execute_result"
    },
    {
     "data": {
      "image/png": "[encoded data removed]",
      "text/plain": [
       "<Figure size 432x288 with 2 Axes>"
      ]
     },
     "metadata": {
      "needs_background": "light"
     },
     "output_type": "display_data"
    }
   ],
   "source": [
    "#mask checking (3m)\n",
    "ds = Dataset(mask_3m_file) #using 'from netCDF4 import Dataset'\n",
    "mask = ds.variables['Tuolumne mask'] #grab tum mask variable, use ds.variables.keys() to list all possible variables\n",
    "print('mask shape:', mask.shape, \n",
    "      '\\nmask value to use:', np.max(mask), \n",
    "      '\\n# of pixels in mask:', np.sum(mask))\n",
    "plt.imshow(mask, cmap='gray')\n",
    "plt.colorbar()"
   ]
  },
  {
   "cell_type": "markdown",
   "metadata": {},
   "source": [
    "### ANALYSIS..testing"
   ]
  },
  {
   "cell_type": "code",
   "execution_count": 131,
   "metadata": {},
   "outputs": [],
   "source": [
    "def describe_lidar_data(depth_array, mask_array = None, mask_value = None):\n",
    "    \n",
    "    '''calculates the mean of a lidar flight -- will add more summary statistics'''\n",
    "    \n",
    "    if mask_array is None:\n",
    "        return np.nanmean(depth_array[depth_array>0])\n",
    "    \n",
    "    else: \n",
    "        return np.nanmean(depth_array[(mask_array == mask_value) & depth_array > 0])"
   ]
  },
  {
   "cell_type": "code",
   "execution_count": 129,
   "metadata": {},
   "outputs": [
    {
     "name": "stdout",
     "output_type": "stream",
     "text": [
      "file: /home/meganmason/Documents/projects/thesis/data/processing_lidar/depths_3m/2013/TB20130403_SUPERsnow_depth_3p0m.tif\n",
      "type: <class 'numpy.ndarray'> \n",
      "shape: (16780, 17699)\n"
     ]
    },
    {
     "ename": "TypeError",
     "evalue": "ufunc 'bitwise_and' not supported for the input types, and the inputs could not be safely coerced to any supported types according to the casting rule ''safe''",
     "output_type": "error",
     "traceback": [
      "\u001b[0;31m---------------------------------------------------------------------------\u001b[0m",
      "\u001b[0;31mTypeError\u001b[0m                                 Traceback (most recent call last)",
      "\u001b[0;32m<ipython-input-129-40f9813ef1c9>\u001b[0m in \u001b[0;36m<module>\u001b[0;34m\u001b[0m\n\u001b[1;32m     24\u001b[0m     \u001b[0mprint\u001b[0m\u001b[0;34m(\u001b[0m\u001b[0;34m'type:'\u001b[0m\u001b[0;34m,\u001b[0m \u001b[0mtype\u001b[0m\u001b[0;34m(\u001b[0m\u001b[0md\u001b[0m\u001b[0;34m)\u001b[0m\u001b[0;34m,\u001b[0m \u001b[0;34m'\\nshape:'\u001b[0m\u001b[0;34m,\u001b[0m \u001b[0md\u001b[0m\u001b[0;34m.\u001b[0m\u001b[0mshape\u001b[0m\u001b[0;34m)\u001b[0m\u001b[0;34m\u001b[0m\u001b[0;34m\u001b[0m\u001b[0m\n\u001b[1;32m     25\u001b[0m \u001b[0;31m#     depth_tum.append(int(describe_lidar_data(d, mask_array = mask, mask_value=np.max(mask))))\u001b[0m\u001b[0;34m\u001b[0m\u001b[0;34m\u001b[0m\u001b[0;34m\u001b[0m\u001b[0m\n\u001b[0;32m---> 26\u001b[0;31m     \u001b[0mdepth_tum\u001b[0m\u001b[0;34m.\u001b[0m\u001b[0mappend\u001b[0m\u001b[0;34m(\u001b[0m\u001b[0mdescribe_lidar_data\u001b[0m\u001b[0;34m(\u001b[0m\u001b[0md\u001b[0m\u001b[0;34m,\u001b[0m \u001b[0mmask_array\u001b[0m \u001b[0;34m=\u001b[0m \u001b[0mmask\u001b[0m\u001b[0;34m,\u001b[0m \u001b[0mmask_value\u001b[0m\u001b[0;34m=\u001b[0m\u001b[0mnp\u001b[0m\u001b[0;34m.\u001b[0m\u001b[0mmax\u001b[0m\u001b[0;34m(\u001b[0m\u001b[0mmask\u001b[0m\u001b[0;34m)\u001b[0m\u001b[0;34m)\u001b[0m\u001b[0;34m)\u001b[0m\u001b[0;34m\u001b[0m\u001b[0;34m\u001b[0m\u001b[0m\n\u001b[0m",
      "\u001b[0;32m<ipython-input-125-c796230f4a98>\u001b[0m in \u001b[0;36mdescribe_lidar_data\u001b[0;34m(depth_array, mask_array, mask_value)\u001b[0m\n\u001b[1;32m      7\u001b[0m \u001b[0;34m\u001b[0m\u001b[0m\n\u001b[1;32m      8\u001b[0m     \u001b[0;32melse\u001b[0m\u001b[0;34m:\u001b[0m\u001b[0;34m\u001b[0m\u001b[0;34m\u001b[0m\u001b[0m\n\u001b[0;32m----> 9\u001b[0;31m         \u001b[0;32mreturn\u001b[0m \u001b[0mnp\u001b[0m\u001b[0;34m.\u001b[0m\u001b[0mnanmean\u001b[0m\u001b[0;34m(\u001b[0m\u001b[0mdepth_array\u001b[0m\u001b[0;34m[\u001b[0m\u001b[0;34m(\u001b[0m\u001b[0mmask_array\u001b[0m \u001b[0;34m==\u001b[0m \u001b[0mmask_value\u001b[0m\u001b[0;34m)\u001b[0m \u001b[0;34m&\u001b[0m \u001b[0mdepth_array\u001b[0m \u001b[0;34m>\u001b[0m \u001b[0;36m0\u001b[0m\u001b[0;34m]\u001b[0m\u001b[0;34m)\u001b[0m\u001b[0;34m\u001b[0m\u001b[0;34m\u001b[0m\u001b[0m\n\u001b[0m",
      "\u001b[0;31mTypeError\u001b[0m: ufunc 'bitwise_and' not supported for the input types, and the inputs could not be safely coerced to any supported types according to the casting rule ''safe''"
     ]
    }
   ],
   "source": [
    "# print(flist[:2])\n",
    "# d = io.imread(flist[40]) #is numpy array\n",
    "# print('type:', type(d), '\\nshape:', d.shape)\n",
    "# print('meanfooo', np.nanmean(d[d>0]))\n",
    "##no indexing\n",
    "# plt.imshow(d)\n",
    "# plt.colorbar()\n",
    "# plt.show()\n",
    "\n",
    "##copies, indexs>0, and plots\n",
    "# idx = d>0\n",
    "# d_tmp = d.copy()\n",
    "# d_tmp[~idx]=np.nan\n",
    "\n",
    "# plt.imshow(d_tmp, cmap='jet')\n",
    "# plt.colorbar()\n",
    "\n",
    "\n",
    "depth_tum = []\n",
    "\n",
    "for f in flist:\n",
    "    print('file:',f)\n",
    "    d = io.imread(f) #is numpy array \n",
    "    print('type:', type(d), '\\nshape:', d.shape)\n",
    "    depth_tum.append(int(describe_lidar_data(d, mask_array = mask, mask_value=np.max(mask))))\n",
    "    "
   ]
  },
  {
   "cell_type": "code",
   "execution_count": null,
   "metadata": {},
   "outputs": [],
   "source": []
  }
 ],
 "metadata": {
  "kernelspec": {
   "display_name": "Python 3",
   "language": "python",
   "name": "python3"
  },
  "language_info": {
   "codemirror_mode": {
    "name": "ipython",
    "version": 3
   },
   "file_extension": ".py",
   "mimetype": "text/x-python",
   "name": "python",
   "nbconvert_exporter": "python",
   "pygments_lexer": "ipython3",
   "version": "3.6.7"
  }
 },
 "nbformat": 4,
 "nbformat_minor": 2
}
