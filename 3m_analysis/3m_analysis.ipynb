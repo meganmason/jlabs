{
 "cells": [
  {
   "cell_type": "code",
   "execution_count": 29,
   "metadata": {},
   "outputs": [],
   "source": [
    "import os\n",
    "import glob\n",
    "\n",
    "import pandas as pd\n",
    "import numpy as np\n",
    "import datetime\n",
    "\n",
    "from skimage import io\n",
    "from datetime import timedelta\n",
    "from datetime import datetime\n",
    "from scipy.stats import pearsonr\n",
    "\n",
    "from netCDF4 import Dataset\n",
    "\n",
    "# Imports for plotting\n",
    "import matplotlib.pyplot as plt\n",
    "import matplotlib.dates as mdates #changed from Ernesto\n",
    "from matplotlib.ticker import NullFormatter \n",
    "from matplotlib.ticker import MultipleLocator, FormatStrFormatter \n",
    "from matplotlib.dates import MonthLocator\n",
    "import matplotlib.patheffects as PathEffects"
   ]
  },
  {
   "cell_type": "markdown",
   "metadata": {},
   "source": [
    "### LOAD AND SET UP DATA (ARS)"
   ]
  },
  {
   "cell_type": "code",
   "execution_count": 30,
   "metadata": {},
   "outputs": [],
   "source": [
    "#base path\n",
    "base_path = '/home/meganmason/Documents/projects/thesis/data/processing_lidar/'\n",
    "\n",
    "#data paths\n",
    "# depth_3m_path = 'depths_3m/equal_extent_data_downsize/{}/*.tif'\n",
    "depth_3m_path = 'depths_3m/{}/*.tif'\n",
    "# mask files\n",
    "mask_3m_file = '/home/meganmason/Documents/projects/thesis/maps/map_layers/basin_ops/tuolumne/topo/basin_setup/topo.nc' #this is 3m, only TB, downloaded 8-8 with Micah\n",
    "mask_50m_file = '/home/meganmason/Documents/projects/thesis/maps/map_layers/basin_ops/tuolumne/topo/topo_50m.nc' #first topo.nc downloaded, renamed to _50m.nc\n",
    "# dem \n",
    "dem_3m_file = 'TB20140827_snow_free_dtm_vf_3p0m.tif'"
   ]
  },
  {
   "cell_type": "markdown",
   "metadata": {},
   "source": [
    "#### load/set up (mm)"
   ]
  },
  {
   "cell_type": "code",
   "execution_count": 3,
   "metadata": {},
   "outputs": [],
   "source": [
    "base_path = '/Users/megmason/Desktop/'\n",
    "depth_3m_path = 'equal_extent_data_downsize/{}/*.tif'\n",
    "# mask_3m_file = '/Users/megmason/Desktop/topo.nc'"
   ]
  },
  {
   "cell_type": "code",
   "execution_count": 31,
   "metadata": {},
   "outputs": [
    {
     "name": "stdout",
     "output_type": "stream",
     "text": [
      "number of input files: 51\n"
     ]
    }
   ],
   "source": [
    "# years and flight dates (3m)\n",
    "years = list(range(2013,2019)) # 2013-2018\n",
    "\n",
    "flist = []\n",
    "for year in sorted(years):\n",
    "    flist_yr = glob.glob(base_path + depth_3m_path.format(year))\n",
    "    flist.extend(flist_yr) #.append adds list to lists (ie multiple lists), .extend tacks on to og list (ie one list) \n",
    "print('number of input files:', len(flist))\n",
    "    \n",
    "# ~~~~~~~~~~~~~~ASK MICAH FOR HELP - LIST COMPREHENSION  ~~~~~~~~~~~~  \n",
    "# flist = ([glob.glob(flist_yr).extend for year in years])\n",
    "# print(flist)\n",
    "# flist = (glob.glob(base_path + depth_3m_path.format(year)) for year in years)\n",
    "# print(flist)"
   ]
  },
  {
   "cell_type": "code",
   "execution_count": 32,
   "metadata": {},
   "outputs": [],
   "source": [
    "# ~~~~~~~~~~~~~~~function for DATETIME\n",
    "def flight_date(f):\n",
    "#     print(f)\n",
    "    dt_str = f.split(\"/\")[-1] #splits on / and saves the last one\n",
    "    dt_str = \"\".join([c for c in dt_str if c.isnumeric()]) #grabs numeric values\n",
    "    dt = pd.to_datetime(dt_str[:8]) #convert to datetime, grabs digits for dates only\n",
    "#     print('flight date:',dt.date())\n",
    "#         dates.append(dt.date()) #.date to exclude time (00:00:00)\n",
    "    \n",
    "    return dt.date() #pd.to_datetime(dt.date)\n",
    "#     return dt\n",
    "# datelist = [flight_date(f) for f in sorted(flist)] \n",
    "#print(datelist[0].strftime('%Y-%m-%d'))"
   ]
  },
  {
   "cell_type": "markdown",
   "metadata": {},
   "source": [
    "#### Mask (from topo.nc)"
   ]
  },
  {
   "cell_type": "code",
   "execution_count": 33,
   "metadata": {},
   "outputs": [
    {
     "name": "stdout",
     "output_type": "stream",
     "text": [
      "odict_keys(['y', 'x', 'veg_height', 'veg_tau', 'veg_k', 'veg_type', 'dem', 'mask', 'projection'])\n",
      "mask shape: (17002, 17569) \n",
      "mask value to use: 1 \n",
      "# of pixels in mask: 131291738\n"
     ]
    },
    {
     "data": {
      "text/plain": [
       "<matplotlib.colorbar.Colorbar at 0x7f7f0a4e2978>"
      ]
     },
     "execution_count": 33,
     "metadata": {},
     "output_type": "execute_result"
    },
    {
     "data": {
      "image/png": "[encoded data removed]",
      "text/plain": [
       "<Figure size 432x288 with 2 Axes>"
      ]
     },
     "metadata": {
      "needs_background": "light"
     },
     "output_type": "display_data"
    }
   ],
   "source": [
    "#mask checking (3m)\n",
    "ds = Dataset(mask_3m_file) #using 'from netCDF4 import Dataset'\n",
    "print(ds.variables.keys())\n",
    "mask = ds.variables['mask'] #grab tum mask variable, use ds.variables.keys() to list all possible variables\n",
    "n_tuolumne_mask = mask[mask == 1].size #Ernesto added ( this can be used to divide in hist df to get percentage)\n",
    "print('mask shape:', mask.shape, \n",
    "      '\\nmask value to use:', np.max(mask), \n",
    "      '\\n# of pixels in mask:', np.sum(mask))\n",
    "plt.imshow(mask, cmap='gray')\n",
    "plt.colorbar()"
   ]
  },
  {
   "cell_type": "markdown",
   "metadata": {},
   "source": [
    "#### font sizes"
   ]
  },
  {
   "cell_type": "code",
   "execution_count": 34,
   "metadata": {},
   "outputs": [],
   "source": [
    "fs_titles = 24\n",
    "fs_labels = 24\n",
    "fs_axes = 20\n",
    "fs_text = 20\n",
    "fs_legend = 20"
   ]
  },
  {
   "cell_type": "markdown",
   "metadata": {},
   "source": [
    "### ANALYSIS..testing"
   ]
  },
  {
   "cell_type": "code",
   "execution_count": 25,
   "metadata": {},
   "outputs": [],
   "source": [
    "#~~~~~~ FUNCTIONS ~~~~~~~~~~~~~~~~~~~~\n",
    "\n",
    "def describe_lidar_data(depth_array, mask_array = None, mask_value = None):\n",
    "    \n",
    "    '''calculates the mean of a lidar flight -- will add more summary statistics'''\n",
    "    \n",
    "    if mask_array is None:\n",
    "        \n",
    "        sn_mean = np.nanmean(depth_array[depth_array > 0])\n",
    "        sn_std  = np.nanstd(depth_array[depth_array > 0])\n",
    "        sn_min  = np.nanmin(depth_array[depth_array > 0])\n",
    "        sn_max  = np.nanmax(depth_array[depth_array > 0])\n",
    "        column = [sn_mean, sn_std, sn_min, sn_max]\n",
    "        return column\n",
    "    \n",
    "    else: \n",
    "        sn_mean = np.nanmean(depth_array[(mask_array == mask_value) & (depth_array > 0)])\n",
    "        sn_std  = np.nanstd(depth_array[(mask_array == mask_value) & (depth_array > 0)])\n",
    "        sn_min  = np.nanmin(depth_array[(mask_array == mask_value) & (depth_array > 0)])\n",
    "        sn_max  = np.nanmax(depth_array[(mask_array == mask_value) & (depth_array > 0)])\n",
    "        column = [sn_mean, sn_std, sn_min, sn_max]\n",
    "        return column \n",
    "        #return {\"mean\":sn_mean, \"std\": sn_std, \"min\": sn_min, \"max\": sn_max}\n",
    "        "
   ]
  },
  {
   "cell_type": "code",
   "execution_count": 35,
   "metadata": {},
   "outputs": [
    {
     "ename": "ValueError",
     "evalue": "operands could not be broadcast together with shapes (17002,17569) (16780,17699) ",
     "output_type": "error",
     "traceback": [
      "\u001b[0;31m---------------------------------------------------------------------------\u001b[0m",
      "\u001b[0;31mValueError\u001b[0m                                Traceback (most recent call last)",
      "\u001b[0;32m<ipython-input-35-bd1ea1b019a1>\u001b[0m in \u001b[0;36m<module>\u001b[0;34m\u001b[0m\n\u001b[1;32m      8\u001b[0m     \u001b[0md\u001b[0m \u001b[0;34m=\u001b[0m \u001b[0mio\u001b[0m\u001b[0;34m.\u001b[0m\u001b[0mimread\u001b[0m\u001b[0;34m(\u001b[0m\u001b[0mf\u001b[0m\u001b[0;34m)\u001b[0m \u001b[0;31m#is numpy array\u001b[0m\u001b[0;34m\u001b[0m\u001b[0;34m\u001b[0m\u001b[0m\n\u001b[1;32m      9\u001b[0m \u001b[0;31m#     print('type:', type(d), 'shape:', d.shape)\u001b[0m\u001b[0;34m\u001b[0m\u001b[0;34m\u001b[0m\u001b[0;34m\u001b[0m\u001b[0m\n\u001b[0;32m---> 10\u001b[0;31m     \u001b[0mcolumn\u001b[0m \u001b[0;34m=\u001b[0m \u001b[0mdescribe_lidar_data\u001b[0m\u001b[0;34m(\u001b[0m\u001b[0md\u001b[0m\u001b[0;34m/\u001b[0m\u001b[0;36m1000\u001b[0m\u001b[0;34m,\u001b[0m \u001b[0mmask_array\u001b[0m \u001b[0;34m=\u001b[0m \u001b[0mmask\u001b[0m\u001b[0;34m,\u001b[0m \u001b[0mmask_value\u001b[0m\u001b[0;34m=\u001b[0m\u001b[0mnp\u001b[0m\u001b[0;34m.\u001b[0m\u001b[0mmax\u001b[0m\u001b[0;34m(\u001b[0m\u001b[0mmask\u001b[0m\u001b[0;34m)\u001b[0m\u001b[0;34m)\u001b[0m\u001b[0;34m\u001b[0m\u001b[0;34m\u001b[0m\u001b[0m\n\u001b[0m\u001b[1;32m     11\u001b[0m \u001b[0;31m#     column = describe_lidar_data(d) #, mask_array = None, mask_value=None)\u001b[0m\u001b[0;34m\u001b[0m\u001b[0;34m\u001b[0m\u001b[0;34m\u001b[0m\u001b[0m\n\u001b[1;32m     12\u001b[0m     \u001b[0mdf\u001b[0m\u001b[0;34m[\u001b[0m\u001b[0mfDate\u001b[0m\u001b[0;34m]\u001b[0m \u001b[0;34m=\u001b[0m \u001b[0mcolumn\u001b[0m\u001b[0;34m\u001b[0m\u001b[0;34m\u001b[0m\u001b[0m\n",
      "\u001b[0;32m<ipython-input-25-d818648762b3>\u001b[0m in \u001b[0;36mdescribe_lidar_data\u001b[0;34m(depth_array, mask_array, mask_value)\u001b[0m\n\u001b[1;32m     15\u001b[0m \u001b[0;34m\u001b[0m\u001b[0m\n\u001b[1;32m     16\u001b[0m     \u001b[0;32melse\u001b[0m\u001b[0;34m:\u001b[0m\u001b[0;34m\u001b[0m\u001b[0;34m\u001b[0m\u001b[0m\n\u001b[0;32m---> 17\u001b[0;31m         \u001b[0msn_mean\u001b[0m \u001b[0;34m=\u001b[0m \u001b[0mnp\u001b[0m\u001b[0;34m.\u001b[0m\u001b[0mnanmean\u001b[0m\u001b[0;34m(\u001b[0m\u001b[0mdepth_array\u001b[0m\u001b[0;34m[\u001b[0m\u001b[0;34m(\u001b[0m\u001b[0mmask_array\u001b[0m \u001b[0;34m==\u001b[0m \u001b[0mmask_value\u001b[0m\u001b[0;34m)\u001b[0m \u001b[0;34m&\u001b[0m \u001b[0;34m(\u001b[0m\u001b[0mdepth_array\u001b[0m \u001b[0;34m>\u001b[0m \u001b[0;36m0\u001b[0m\u001b[0;34m)\u001b[0m\u001b[0;34m]\u001b[0m\u001b[0;34m)\u001b[0m\u001b[0;34m\u001b[0m\u001b[0;34m\u001b[0m\u001b[0m\n\u001b[0m\u001b[1;32m     18\u001b[0m         \u001b[0msn_std\u001b[0m  \u001b[0;34m=\u001b[0m \u001b[0mnp\u001b[0m\u001b[0;34m.\u001b[0m\u001b[0mnanstd\u001b[0m\u001b[0;34m(\u001b[0m\u001b[0mdepth_array\u001b[0m\u001b[0;34m[\u001b[0m\u001b[0;34m(\u001b[0m\u001b[0mmask_array\u001b[0m \u001b[0;34m==\u001b[0m \u001b[0mmask_value\u001b[0m\u001b[0;34m)\u001b[0m \u001b[0;34m&\u001b[0m \u001b[0;34m(\u001b[0m\u001b[0mdepth_array\u001b[0m \u001b[0;34m>\u001b[0m \u001b[0;36m0\u001b[0m\u001b[0;34m)\u001b[0m\u001b[0;34m]\u001b[0m\u001b[0;34m)\u001b[0m\u001b[0;34m\u001b[0m\u001b[0;34m\u001b[0m\u001b[0m\n\u001b[1;32m     19\u001b[0m         \u001b[0msn_min\u001b[0m  \u001b[0;34m=\u001b[0m \u001b[0mnp\u001b[0m\u001b[0;34m.\u001b[0m\u001b[0mnanmin\u001b[0m\u001b[0;34m(\u001b[0m\u001b[0mdepth_array\u001b[0m\u001b[0;34m[\u001b[0m\u001b[0;34m(\u001b[0m\u001b[0mmask_array\u001b[0m \u001b[0;34m==\u001b[0m \u001b[0mmask_value\u001b[0m\u001b[0;34m)\u001b[0m \u001b[0;34m&\u001b[0m \u001b[0;34m(\u001b[0m\u001b[0mdepth_array\u001b[0m \u001b[0;34m>\u001b[0m \u001b[0;36m0\u001b[0m\u001b[0;34m)\u001b[0m\u001b[0;34m]\u001b[0m\u001b[0;34m)\u001b[0m\u001b[0;34m\u001b[0m\u001b[0;34m\u001b[0m\u001b[0m\n",
      "\u001b[0;31mValueError\u001b[0m: operands could not be broadcast together with shapes (17002,17569) (16780,17699) "
     ]
    }
   ],
   "source": [
    "# ~~~~~ CALL FUNCTIONS ~~~~~~~~~~~~ (describe lidar data)\n",
    "\n",
    "df = pd.DataFrame()\n",
    "\n",
    "for f in sorted(flist):\n",
    "#     print('file:',f)\n",
    "    fDate = flight_date(f)\n",
    "    d = io.imread(f) #is numpy array \n",
    "#     print('type:', type(d), 'shape:', d.shape)\n",
    "    column = describe_lidar_data(d/1000, mask_array = mask, mask_value=np.max(mask))\n",
    "#     column = describe_lidar_data(d) #, mask_array = None, mask_value=None)\n",
    "    df[fDate] = column\n",
    "df = df.transpose()\n",
    "df.columns = ['mean','std','min','max']\n",
    "df"
   ]
  },
  {
   "cell_type": "code",
   "execution_count": 28,
   "metadata": {},
   "outputs": [],
   "source": [
    "'''save to csv'''\n",
    "# ars path\n",
    "# export_csv = df.to_csv('/home/meganmason/Documents/projects/thesis/figures/tables/summarystats_df_raw.csv', index = True, header=True) #ind=T stores row names"
   ]
  },
  {
   "cell_type": "code",
   "execution_count": 14,
   "metadata": {},
   "outputs": [
    {
     "data": {
      "text/plain": [
       "<matplotlib.axes._subplots.AxesSubplot at 0x7f7f1d7d2978>"
      ]
     },
     "execution_count": 14,
     "metadata": {},
     "output_type": "execute_result"
    },
    {
     "data": {
      "image/png": "[encoded data removed]",
      "text/plain": [
       "<Figure size 432x288 with 1 Axes>"
      ]
     },
     "metadata": {
      "needs_background": "light"
     },
     "output_type": "display_data"
    }
   ],
   "source": [
    "df.plot() #quick check of dataframe"
   ]
  },
  {
   "cell_type": "code",
   "execution_count": 15,
   "metadata": {},
   "outputs": [],
   "source": [
    "# Histogram Function\n",
    "\n",
    "def histogram_df(depth_array, binx, mask_array = None, mask_value = None):\n",
    "    \n",
    "    ''' histogram dataframe\n",
    "            input:\n",
    "                depth_array: numpy array of snow depths (cm)\n",
    "                binx: np array of start, stop, stepby\n",
    "                mask_array: (optional) mask of area for depth calculation\n",
    "                mask_value: (optional) value of the mask to calculate over\n",
    "                NOTE: depth_array and mask must have save extent size (x min/max and y min/max -->gdalwarp -te <>, -tr <>)\n",
    "                \n",
    "            return:\n",
    "                hist: tuple (frequency[0], bin_edge[1])\n",
    "                num_pix_zero: number of pixels that are zero within the mask'''\n",
    "    \n",
    "    if mask_array is None:\n",
    "        hist = np.histogram(depth_array[depth_array>0], binx)\n",
    "        num_pix_zero = depth_array[depth_array == 0].size\n",
    "    \n",
    "    else: \n",
    "        hist = np.histogram(depth_array[(mask_array == mask_value) & (depth_array > 0)], binx)\n",
    "        num_pix_zero = depth_array[(mask_array == mask_value) & (depth_array == 0)].size\n",
    "        \n",
    "    return hist, num_pix_zero\n"
   ]
  },
  {
   "cell_type": "code",
   "execution_count": 28,
   "metadata": {},
   "outputs": [],
   "source": [
    "# # Histogram Function (normalized)\n",
    "\n",
    "# def histogram_df(depth_array, binx, norm=False, mask_array = None, mask_value = None):\n",
    "    \n",
    "#     ''' histogram dataframe'''\n",
    "#     if mask_array is None:\n",
    "#         hist = np.histogram(depth_array[depth_array>0], binx)\n",
    "#         return hist\n",
    "    \n",
    "#     if norm is True:\n",
    "#         d_norm = depth_array/np.mean(depth_array[depth_array>0])\n",
    "#         hist_norm = np.histogram(d_norm[(mask_array == mask_value) & (depth_array > 0)], binx)\n",
    "#         return hist_norm\n",
    "    \n",
    "#     else: \n",
    "#         hist = np.histogram(depth_array[(mask_array == mask_value) & (depth_array > 0)], binx)\n",
    "#         return hist"
   ]
  },
  {
   "cell_type": "code",
   "execution_count": 16,
   "metadata": {},
   "outputs": [],
   "source": [
    "#call histogram function\n",
    "\n",
    "df_h = pd.DataFrame()\n",
    "num_zeros = []\n",
    "binx = np.arange(0,2500,2) #0-30m, steps by 30cm (2017/18 maxes out at 24m....so went above to compute every pixel)\n",
    "\n",
    "for f in sorted(flist):\n",
    "    fDate = flight_date(f)\n",
    "    d = io.imread(f)\n",
    "    [hist, num_pix_zero] = histogram_df(d, binx) #mm since I dont have mask yet\n",
    "#     [hist, num_pix_zero] = histogram_df(d, binx, mask_array = mask, mask_value=np.max(mask))\n",
    "    df_h[fDate]=hist[0] #each column is a flight date\n",
    "    num_zeros.append(num_pix_zero)\n",
    "    \n",
    "df_h = df_h.set_index(hist[1][:-1])#index first col as left bin edges\n",
    "df_h.loc['zeros'] = num_zeros\n",
    "# df_h"
   ]
  },
  {
   "cell_type": "code",
   "execution_count": 18,
   "metadata": {},
   "outputs": [],
   "source": [
    "'''save to csv!'''\n",
    "\n",
    "# ars path\n",
    "export_csv = df_h.to_csv('/home/meganmason/Documents/projects/thesis/figures/tables/histogram_df_2cm.csv', index = True, header=True) #ind=T stores row names\n",
    "# mm path\n",
    "# export_csv = df_h.to_csv('/Users/megmason/Desktop/outputs/histogram_df.csv', index = True, header=True)"
   ]
  },
  {
   "cell_type": "code",
   "execution_count": 17,
   "metadata": {},
   "outputs": [],
   "source": [
    "# Values Flattened Function (options: mask/no mask, zeros/no zeros)\n",
    "\n",
    "def values_flat(depth_array, zeros = False, mask_array = None, mask_value = None):\n",
    "    \n",
    "    '''snow depth values flattened'''\n",
    "    if mask_array is None:\n",
    "        d = depth_array\n",
    "        d_flat = d.flatten()\n",
    "        return d_flat\n",
    "    \n",
    "    if zeros is True: #include zeros in flattened array (wouldn't want this for SCA)\n",
    "        pass\n",
    "        d = depth_array[(mask_array == mask_value)] #zeros are still included \n",
    "        return d\n",
    "    \n",
    "    else: #do stats without zeros\n",
    "        d = depth_array[(mask_array == mask_value) & (depth_array > 0)] #zeros NOT included\n",
    "        return d"
   ]
  },
  {
   "cell_type": "code",
   "execution_count": 18,
   "metadata": {},
   "outputs": [
    {
     "data": {
      "image/png": "[encoded data removed]",
      "text/plain": [
       "<Figure size 2160x720 with 1 Axes>"
      ]
     },
     "metadata": {
      "needs_background": "light"
     },
     "output_type": "display_data"
    }
   ],
   "source": [
    "fDate_list=[]\n",
    "fig = plt.figure(figsize=(30,10))\n",
    "axs = plt.gca()\n",
    "\n",
    "for i,f in enumerate(sorted(flist)): #[:3]):\n",
    "#     print(i)\n",
    "    fDate = flight_date(f) #class datetime.date type\n",
    "    fDate_list.append(fDate.strftime('%m-%d'))\n",
    "#     print('fDate is:', fDate, 'type is:', type(fDate))\n",
    "    d = io.imread(f)\n",
    "    v = values_flat(d, zeros=False, mask_array = mask, mask_value=np.max(mask)) #zeros=False is default...\n",
    "#     print(fDate.strftime('%Y'))#%m%d'))\n",
    "    axs.boxplot(v, sym='', positions=[i])#, labels=[fDate.strftime('%Y%m%d')]) \n",
    "    \n",
    "axs.set_xlim((-.5,len(flist))) #doesn't cut off left side, and is as long as # of files\n",
    "axs.set_xticks(range(i+1))\n",
    "axs.set_xticklabels(fDate_list, fontsize = fs_axes)\n",
    "# axs.set_xticklabels(fDate_list)\n",
    "axs.set_title(fDate.strftime('%Y'), fontsize=fs_titles)\n",
    "\n",
    "for ax in fig.get_axes():\n",
    "\n",
    "    ax.grid(which='major')\n",
    "#     ax.minorticks_on()\n",
    "#     ax.grid(which='minor', ls='--')\n",
    "    ax.grid(which='major', axis='x', ls='-', lw=1.5, c='darkGrey')\n",
    "\n",
    "plt.savefig('/home/meganmason/Documents/projects/thesis/figures/working/boxplot_{}.png'.format(fDate.strftime('%Y')), dpi=300)   \n",
    "plt.show()"
   ]
  },
  {
   "cell_type": "code",
   "execution_count": 23,
   "metadata": {},
   "outputs": [
    {
     "name": "stdout",
     "output_type": "stream",
     "text": [
      "number of input files: 6\n",
      "number of input files: 11\n",
      "number of input files: 10\n",
      "number of input files: 13\n",
      "number of input files: 9\n",
      "number of input files: 2\n",
      "number of input files: 6\n",
      "number of input files: 11\n",
      "number of input files: 10\n"
     ]
    },
    {
     "ename": "KeyboardInterrupt",
     "evalue": "",
     "output_type": "error",
     "traceback": [
      "\u001b[0;31m---------------------------------------------------------------------------\u001b[0m",
      "\u001b[0;31mKeyboardInterrupt\u001b[0m                         Traceback (most recent call last)",
      "\u001b[0;32m<ipython-input-23-66d864b653b6>\u001b[0m in \u001b[0;36m<module>\u001b[0;34m\u001b[0m\n\u001b[1;32m     25\u001b[0m             \u001b[0mv\u001b[0m \u001b[0;34m=\u001b[0m \u001b[0mvalues_flat\u001b[0m\u001b[0;34m(\u001b[0m\u001b[0md\u001b[0m\u001b[0;34m,\u001b[0m \u001b[0mzeros\u001b[0m\u001b[0;34m=\u001b[0m\u001b[0;32mFalse\u001b[0m\u001b[0;34m,\u001b[0m \u001b[0mmask_array\u001b[0m \u001b[0;34m=\u001b[0m \u001b[0mmask\u001b[0m\u001b[0;34m,\u001b[0m \u001b[0mmask_value\u001b[0m\u001b[0;34m=\u001b[0m\u001b[0mnp\u001b[0m\u001b[0;34m.\u001b[0m\u001b[0mmax\u001b[0m\u001b[0;34m(\u001b[0m\u001b[0mmask\u001b[0m\u001b[0;34m)\u001b[0m\u001b[0;34m)\u001b[0m \u001b[0;31m#zeros=False is default...\u001b[0m\u001b[0;34m\u001b[0m\u001b[0;34m\u001b[0m\u001b[0m\n\u001b[1;32m     26\u001b[0m         \u001b[0;31m#     print(fDate.strftime('%Y'))#%m%d'))\u001b[0m\u001b[0;34m\u001b[0m\u001b[0;34m\u001b[0m\u001b[0;34m\u001b[0m\u001b[0m\n\u001b[0;32m---> 27\u001b[0;31m             \u001b[0maxs\u001b[0m\u001b[0;34m.\u001b[0m\u001b[0mboxplot\u001b[0m\u001b[0;34m(\u001b[0m\u001b[0mv\u001b[0m\u001b[0;34m,\u001b[0m \u001b[0msym\u001b[0m\u001b[0;34m=\u001b[0m\u001b[0;34m''\u001b[0m\u001b[0;34m,\u001b[0m \u001b[0mpositions\u001b[0m\u001b[0;34m=\u001b[0m\u001b[0;34m[\u001b[0m\u001b[0mi\u001b[0m\u001b[0;34m]\u001b[0m\u001b[0;34m)\u001b[0m\u001b[0;31m#, labels=[fDate.strftime('%Y%m%d')])\u001b[0m\u001b[0;34m\u001b[0m\u001b[0;34m\u001b[0m\u001b[0m\n\u001b[0m\u001b[1;32m     28\u001b[0m \u001b[0;34m\u001b[0m\u001b[0m\n\u001b[1;32m     29\u001b[0m         \u001b[0maxs\u001b[0m\u001b[0;34m.\u001b[0m\u001b[0mset_xlim\u001b[0m\u001b[0;34m(\u001b[0m\u001b[0;34m(\u001b[0m\u001b[0;34m-\u001b[0m\u001b[0;36m.5\u001b[0m\u001b[0;34m,\u001b[0m\u001b[0mlen\u001b[0m\u001b[0;34m(\u001b[0m\u001b[0mflist\u001b[0m\u001b[0;34m)\u001b[0m\u001b[0;34m)\u001b[0m\u001b[0;34m)\u001b[0m \u001b[0;31m#doesn't cut off left side, and is as long as # of files\u001b[0m\u001b[0;34m\u001b[0m\u001b[0;34m\u001b[0m\u001b[0m\n",
      "\u001b[0;32m~/Documents/projects/thesis/analysis/virtual_envs/data_analysis/lib/python3.6/site-packages/matplotlib/__init__.py\u001b[0m in \u001b[0;36minner\u001b[0;34m(ax, data, *args, **kwargs)\u001b[0m\n\u001b[1;32m   1808\u001b[0m                         \u001b[0;34m\"the Matplotlib list!)\"\u001b[0m \u001b[0;34m%\u001b[0m \u001b[0;34m(\u001b[0m\u001b[0mlabel_namer\u001b[0m\u001b[0;34m,\u001b[0m \u001b[0mfunc\u001b[0m\u001b[0;34m.\u001b[0m\u001b[0m__name__\u001b[0m\u001b[0;34m)\u001b[0m\u001b[0;34m,\u001b[0m\u001b[0;34m\u001b[0m\u001b[0;34m\u001b[0m\u001b[0m\n\u001b[1;32m   1809\u001b[0m                         RuntimeWarning, stacklevel=2)\n\u001b[0;32m-> 1810\u001b[0;31m             \u001b[0;32mreturn\u001b[0m \u001b[0mfunc\u001b[0m\u001b[0;34m(\u001b[0m\u001b[0max\u001b[0m\u001b[0;34m,\u001b[0m \u001b[0;34m*\u001b[0m\u001b[0margs\u001b[0m\u001b[0;34m,\u001b[0m \u001b[0;34m**\u001b[0m\u001b[0mkwargs\u001b[0m\u001b[0;34m)\u001b[0m\u001b[0;34m\u001b[0m\u001b[0;34m\u001b[0m\u001b[0m\n\u001b[0m\u001b[1;32m   1811\u001b[0m \u001b[0;34m\u001b[0m\u001b[0m\n\u001b[1;32m   1812\u001b[0m         inner.__doc__ = _add_data_doc(inner.__doc__,\n",
      "\u001b[0;32m~/Documents/projects/thesis/analysis/virtual_envs/data_analysis/lib/python3.6/site-packages/matplotlib/axes/_axes.py\u001b[0m in \u001b[0;36mboxplot\u001b[0;34m(self, x, notch, sym, vert, whis, positions, widths, patch_artist, bootstrap, usermedians, conf_intervals, meanline, showmeans, showcaps, showbox, showfliers, boxprops, labels, flierprops, medianprops, meanprops, capprops, whiskerprops, manage_xticks, autorange, zorder)\u001b[0m\n\u001b[1;32m   3501\u001b[0m \u001b[0;34m\u001b[0m\u001b[0m\n\u001b[1;32m   3502\u001b[0m         bxpstats = cbook.boxplot_stats(x, whis=whis, bootstrap=bootstrap,\n\u001b[0;32m-> 3503\u001b[0;31m                                        labels=labels, autorange=autorange)\n\u001b[0m\u001b[1;32m   3504\u001b[0m         \u001b[0;32mif\u001b[0m \u001b[0mnotch\u001b[0m \u001b[0;32mis\u001b[0m \u001b[0;32mNone\u001b[0m\u001b[0;34m:\u001b[0m\u001b[0;34m\u001b[0m\u001b[0;34m\u001b[0m\u001b[0m\n\u001b[1;32m   3505\u001b[0m             \u001b[0mnotch\u001b[0m \u001b[0;34m=\u001b[0m \u001b[0mrcParams\u001b[0m\u001b[0;34m[\u001b[0m\u001b[0;34m'boxplot.notch'\u001b[0m\u001b[0;34m]\u001b[0m\u001b[0;34m\u001b[0m\u001b[0;34m\u001b[0m\u001b[0m\n",
      "\u001b[0;32m~/Documents/projects/thesis/analysis/virtual_envs/data_analysis/lib/python3.6/site-packages/matplotlib/cbook/__init__.py\u001b[0m in \u001b[0;36mboxplot_stats\u001b[0;34m(X, whis, bootstrap, labels, autorange)\u001b[0m\n\u001b[1;32m   1244\u001b[0m \u001b[0;34m\u001b[0m\u001b[0m\n\u001b[1;32m   1245\u001b[0m         \u001b[0;31m# get high extreme\u001b[0m\u001b[0;34m\u001b[0m\u001b[0;34m\u001b[0m\u001b[0;34m\u001b[0m\u001b[0m\n\u001b[0;32m-> 1246\u001b[0;31m         \u001b[0mwiskhi\u001b[0m \u001b[0;34m=\u001b[0m \u001b[0mnp\u001b[0m\u001b[0;34m.\u001b[0m\u001b[0mcompress\u001b[0m\u001b[0;34m(\u001b[0m\u001b[0mx\u001b[0m \u001b[0;34m<=\u001b[0m \u001b[0mhival\u001b[0m\u001b[0;34m,\u001b[0m \u001b[0mx\u001b[0m\u001b[0;34m)\u001b[0m\u001b[0;34m\u001b[0m\u001b[0;34m\u001b[0m\u001b[0m\n\u001b[0m\u001b[1;32m   1247\u001b[0m         \u001b[0;32mif\u001b[0m \u001b[0mlen\u001b[0m\u001b[0;34m(\u001b[0m\u001b[0mwiskhi\u001b[0m\u001b[0;34m)\u001b[0m \u001b[0;34m==\u001b[0m \u001b[0;36m0\u001b[0m \u001b[0;32mor\u001b[0m \u001b[0mnp\u001b[0m\u001b[0;34m.\u001b[0m\u001b[0mmax\u001b[0m\u001b[0;34m(\u001b[0m\u001b[0mwiskhi\u001b[0m\u001b[0;34m)\u001b[0m \u001b[0;34m<\u001b[0m \u001b[0mq3\u001b[0m\u001b[0;34m:\u001b[0m\u001b[0;34m\u001b[0m\u001b[0;34m\u001b[0m\u001b[0m\n\u001b[1;32m   1248\u001b[0m             \u001b[0mstats\u001b[0m\u001b[0;34m[\u001b[0m\u001b[0;34m'whishi'\u001b[0m\u001b[0;34m]\u001b[0m \u001b[0;34m=\u001b[0m \u001b[0mq3\u001b[0m\u001b[0;34m\u001b[0m\u001b[0;34m\u001b[0m\u001b[0m\n",
      "\u001b[0;32m~/Documents/projects/thesis/analysis/virtual_envs/data_analysis/lib/python3.6/site-packages/numpy/core/fromnumeric.py\u001b[0m in \u001b[0;36mcompress\u001b[0;34m(condition, a, axis, out)\u001b[0m\n\u001b[1;32m   1894\u001b[0m \u001b[0;34m\u001b[0m\u001b[0m\n\u001b[1;32m   1895\u001b[0m     \"\"\"\n\u001b[0;32m-> 1896\u001b[0;31m     \u001b[0;32mreturn\u001b[0m \u001b[0m_wrapfunc\u001b[0m\u001b[0;34m(\u001b[0m\u001b[0ma\u001b[0m\u001b[0;34m,\u001b[0m \u001b[0;34m'compress'\u001b[0m\u001b[0;34m,\u001b[0m \u001b[0mcondition\u001b[0m\u001b[0;34m,\u001b[0m \u001b[0maxis\u001b[0m\u001b[0;34m=\u001b[0m\u001b[0maxis\u001b[0m\u001b[0;34m,\u001b[0m \u001b[0mout\u001b[0m\u001b[0;34m=\u001b[0m\u001b[0mout\u001b[0m\u001b[0;34m)\u001b[0m\u001b[0;34m\u001b[0m\u001b[0;34m\u001b[0m\u001b[0m\n\u001b[0m\u001b[1;32m   1897\u001b[0m \u001b[0;34m\u001b[0m\u001b[0m\n\u001b[1;32m   1898\u001b[0m \u001b[0;34m\u001b[0m\u001b[0m\n",
      "\u001b[0;32m~/Documents/projects/thesis/analysis/virtual_envs/data_analysis/lib/python3.6/site-packages/numpy/core/fromnumeric.py\u001b[0m in \u001b[0;36m_wrapfunc\u001b[0;34m(obj, method, *args, **kwds)\u001b[0m\n\u001b[1;32m     54\u001b[0m \u001b[0;32mdef\u001b[0m \u001b[0m_wrapfunc\u001b[0m\u001b[0;34m(\u001b[0m\u001b[0mobj\u001b[0m\u001b[0;34m,\u001b[0m \u001b[0mmethod\u001b[0m\u001b[0;34m,\u001b[0m \u001b[0;34m*\u001b[0m\u001b[0margs\u001b[0m\u001b[0;34m,\u001b[0m \u001b[0;34m**\u001b[0m\u001b[0mkwds\u001b[0m\u001b[0;34m)\u001b[0m\u001b[0;34m:\u001b[0m\u001b[0;34m\u001b[0m\u001b[0;34m\u001b[0m\u001b[0m\n\u001b[1;32m     55\u001b[0m     \u001b[0;32mtry\u001b[0m\u001b[0;34m:\u001b[0m\u001b[0;34m\u001b[0m\u001b[0;34m\u001b[0m\u001b[0m\n\u001b[0;32m---> 56\u001b[0;31m         \u001b[0;32mreturn\u001b[0m \u001b[0mgetattr\u001b[0m\u001b[0;34m(\u001b[0m\u001b[0mobj\u001b[0m\u001b[0;34m,\u001b[0m \u001b[0mmethod\u001b[0m\u001b[0;34m)\u001b[0m\u001b[0;34m(\u001b[0m\u001b[0;34m*\u001b[0m\u001b[0margs\u001b[0m\u001b[0;34m,\u001b[0m \u001b[0;34m**\u001b[0m\u001b[0mkwds\u001b[0m\u001b[0;34m)\u001b[0m\u001b[0;34m\u001b[0m\u001b[0;34m\u001b[0m\u001b[0m\n\u001b[0m\u001b[1;32m     57\u001b[0m \u001b[0;34m\u001b[0m\u001b[0m\n\u001b[1;32m     58\u001b[0m     \u001b[0;31m# An AttributeError occurs if the object does not have\u001b[0m\u001b[0;34m\u001b[0m\u001b[0;34m\u001b[0m\u001b[0;34m\u001b[0m\u001b[0m\n",
      "\u001b[0;31mKeyboardInterrupt\u001b[0m: "
     ]
    },
    {
     "data": {
      "image/png": "[encoded data removed]",
      "text/plain": [
       "<Figure size 1800x1440 with 6 Axes>"
      ]
     },
     "metadata": {
      "needs_background": "light"
     },
     "output_type": "display_data"
    }
   ],
   "source": [
    "#multiple plots\n",
    "\n",
    "fDate_list=[]\n",
    "fig,axes = plt.subplots(6, 1, sharex=True, sharey=True, figsize=(25,20))\n",
    "# ax = plt.gca()\n",
    "\n",
    "\n",
    "years = list(range(2013,2019)) # 2013-2018\n",
    "\n",
    "\n",
    "for axs in axes.flat:\n",
    "    for year in sorted(years):\n",
    "        flist = []\n",
    "        flist_yr = glob.glob(base_path + depth_3m_path.format(year))\n",
    "        flist.extend(flist_yr) #.append adds list to lists (ie multiple lists), .extend tacks on to og list (ie one list) \n",
    "        print('number of input files:', len(flist))\n",
    "\n",
    "\n",
    "\n",
    "        for i,f in enumerate(sorted(flist)): #[:3]):\n",
    "            fDate = flight_date(f) #class datetime.date type\n",
    "            fDate_list.append(fDate.strftime('%m-%d'))\n",
    "        #     print('fDate is:', fDate, 'type is:', type(fDate))\n",
    "            d = io.imread(f)\n",
    "            v = values_flat(d, zeros=False, mask_array = mask, mask_value=np.max(mask)) #zeros=False is default...\n",
    "        #     print(fDate.strftime('%Y'))#%m%d'))\n",
    "            axs.boxplot(v, sym='', positions=[i])#, labels=[fDate.strftime('%Y%m%d')]) \n",
    "\n",
    "        axs.set_xlim((-.5,len(flist))) #doesn't cut off left side, and is as long as # of files\n",
    "        axs.set_xticks(range(i+1))\n",
    "        axs.set_xticklabels(fDate_list, fontsize = fs_axes)\n",
    "        # axs.set_xticklabels(fDate_list)\n",
    "        axs.set_title(fDate.strftime('%Y'), fontsize=fs_titles)\n",
    "\n",
    "        for ax in fig.get_axes():\n",
    "\n",
    "            ax.grid(which='major')\n",
    "        #     ax.minorticks_on()\n",
    "        #     ax.grid(which='minor', ls='--')\n",
    "            ax.grid(which='major', axis='x', ls='-', lw=1.5, c='darkGrey')\n",
    "\n",
    "# plt.savefig('/home/meganmason/Documents/projects/thesis/figures/working/boxplot_{}.png'.format(fDate.strftime('%Y')), dpi=300)   \n",
    "plt.show()\n",
    "\n",
    "#~~~~~~~~~~~~~~~~~~~~~~~~~~~~~~~~~~~~~~~~~~~~~~~~~~~~~~~~~~~~\n"
   ]
  },
  {
   "cell_type": "code",
   "execution_count": null,
   "metadata": {},
   "outputs": [],
   "source": [
    "print(fDate_list)"
   ]
  },
  {
   "cell_type": "code",
   "execution_count": 14,
   "metadata": {},
   "outputs": [
    {
     "data": {
      "image/png": "[encoded data removed]",
      "text/plain": [
       "<Figure size 576x576 with 6 Axes>"
      ]
     },
     "metadata": {
      "needs_background": "light"
     },
     "output_type": "display_data"
    }
   ],
   "source": [
    "# template multiple plots (boxplots)\n",
    "\n",
    "import random\n",
    "d_list = []\n",
    "years = range(2013,2019) # 2013-2018 #NOT A LIST and it works....vs list(range(2013,2019))\n",
    "z=0\n",
    "\n",
    "# plt.figure(figsize = (50, 20))\n",
    "fig,axs=plt.subplots(6,1,figsize = (8,8))\n",
    "\n",
    "\n",
    "for ax in axs.flat:\n",
    "    date=pd.to_datetime(\"10-01-2013\")\n",
    "    d_list.append(date)\n",
    "    arr=np.random.rand(100,np.random.randint(3,10))\n",
    "    bx = ax.boxplot(arr)\n",
    "\n",
    "    ax.set_title('{}'.format(years[z]))\n",
    "    \n",
    "    z+=1\n",
    "\n",
    "    \n",
    "# Set the locator\n",
    "locator = mdates.MonthLocator()  # every month\n",
    "# Specify the format - %b gives us Jan, Feb...\n",
    "fmt = mdates.DateFormatter('%b')\n",
    "X = plt.gca().xaxis\n",
    "X.set_major_locator(locator)\n",
    "X.set_major_formatter(fmt)\n",
    "\n",
    "\n",
    "\n",
    "plt.tight_layout()\n",
    "plt.show()"
   ]
  },
  {
   "cell_type": "code",
   "execution_count": null,
   "metadata": {},
   "outputs": [],
   "source": [
    "# df_values = pd.DataFrame()\n",
    "# lst_values = []\n",
    "    \n",
    "\n",
    "    \n",
    "    #     print(v.shape)\n",
    "#     print(v)\n",
    "    \n",
    "# #     df_values[fDate]=v\n",
    "#     lst_values.append(v)\n",
    "# # plt.boxplot(df_values)\n",
    "    \n",
    "#     hist = histogram_df(d, binx, mask_array = mask, mask_value=np.max(mask))\n",
    "# #     hist = histogram_df(d, binx) \n",
    "# #     print(hist[0])\n",
    "#     df_h[fDate]=hist[0]"
   ]
  },
  {
   "cell_type": "code",
   "execution_count": null,
   "metadata": {},
   "outputs": [],
   "source": [
    "for f in sorted(flist):\n",
    "    print(f)"
   ]
  },
  {
   "cell_type": "code",
   "execution_count": null,
   "metadata": {},
   "outputs": [],
   "source": [
    "# Boxplot Function\n",
    "\n",
    "def boxplot(depth_array,mask_array = None, mask_value = None):\n",
    "    \n",
    "    ''' boxplot by dates'''\n",
    "    if mask_array is None:\n",
    "        pass\n",
    "#         hist = np.histogram(depth_array[depth_array>0], binx)\n",
    "#         return hist\n",
    "    else: \n",
    "        bxplt = plt.boxplot(depth_array[(mask_array == mask_value) & (depth_array > 0)])\n",
    "        return bxplt"
   ]
  },
  {
   "cell_type": "code",
   "execution_count": null,
   "metadata": {},
   "outputs": [],
   "source": [
    "# call boxplot function\n",
    "\n",
    "for f in sorted(flist):\n",
    "    print(f)\n",
    "    fDate = flight_date(f)\n",
    "    d = io.imread(f)\n",
    "    bxplt=boxplot(d, mask_array = mask, mask_value=np.max(mask))\n",
    "    plt.figure(figsize=(15,5))\n",
    "    df_h[column].plot.bar(width=0.85, align='edge')\n",
    "    plt.title(str(column), fontsize=fs_titles)\n",
    "    plt.xlabel('snow depth [cm]', fontsize=fs_axes); plt.ylabel('probability', fontsize=fs_axes)"
   ]
  },
  {
   "cell_type": "code",
   "execution_count": null,
   "metadata": {},
   "outputs": [],
   "source": [
    "#example dataframe..\n",
    "df = pd.DataFrame()\n",
    "df['lidar flight'] = [ 2013 , 2014 , 2015] \n",
    "df['mean'] = ['5','5','5']\n",
    "df['std'] = ['5','5','5']\n",
    "df['min'] = ['5','5','5']\n",
    "df['max'] = ['5','5','5']\n",
    "df['#pixels'] = ['5','5','5']\n",
    "df.set_index('lidar flight', inplace=True)\n",
    "df"
   ]
  },
  {
   "cell_type": "code",
   "execution_count": null,
   "metadata": {},
   "outputs": [],
   "source": [
    "for f in sorted(flist):\n",
    "    d = io.imread(f) #is numpy array \n",
    "    print(f, d.shape)"
   ]
  }
 ],
 "metadata": {
  "kernelspec": {
   "display_name": "Python 3",
   "language": "python",
   "name": "python3"
  },
  "language_info": {
   "codemirror_mode": {
    "name": "ipython",
    "version": 3
   },
   "file_extension": ".py",
   "mimetype": "text/x-python",
   "name": "python",
   "nbconvert_exporter": "python",
   "pygments_lexer": "ipython3",
   "version": "3.6.7"
  }
 },
 "nbformat": 4,
 "nbformat_minor": 4
}
