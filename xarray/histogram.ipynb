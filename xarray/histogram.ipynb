{
 "cells": [
  {
   "cell_type": "code",
   "execution_count": 1,
   "metadata": {},
   "outputs": [],
   "source": [
    "%matplotlib inline \n",
    "\n",
    "import numpy as np\n",
    "import pandas as pd\n",
    "import matplotlib.pyplot as plt\n",
    "import glob\n",
    "import os\n",
    "import time\n",
    "import xarray as xr\n",
    "\n",
    "import dask.array as da\n",
    "from dask.diagnostics import ProgressBar\n",
    "from dask.distributed import Client, LocalCluster\n",
    "\n",
    "import seaborn as sns"
   ]
  },
  {
   "cell_type": "markdown",
   "metadata": {},
   "source": [
    "#### Import compiled_SUPERsnow.nc"
   ]
  },
  {
   "cell_type": "code",
   "execution_count": null,
   "metadata": {},
   "outputs": [],
   "source": [
    "fname = '~/Documents/projects/thesis/results/output/compiled_SUPERsnow.nc'\n",
    "\n",
    "#ds full\n",
    "ds = xr.open_dataset(fname,  chunks={'time':1,'x':1000,'y':1000})\n",
    "ds.close()\n",
    "\n",
    "#~~~~~~~~~~~~~~ds small\n",
    "# dsmall = ds.sel(time='2013')\n",
    "# dsmall.close()\n",
    "\n",
    "# ds = dsmall\n",
    "# ds.close()\n",
    "\n",
    "#~~~~~~~~~~~ds peak\n",
    "dpeak = ds.isel(time=[0,7,18,30,42,49]) #0,7,22,28,41,49]\n",
    "dpeak.close()\n",
    "\n",
    "ds = dpeak\n",
    "ds.close()\n",
    "ds"
   ]
  },
  {
   "cell_type": "markdown",
   "metadata": {},
   "source": [
    "#### Plotting features:"
   ]
  },
  {
   "cell_type": "code",
   "execution_count": null,
   "metadata": {},
   "outputs": [],
   "source": [
    "# legends/labels\n",
    "d_str = pd.to_datetime(ds['time'].values).strftime(\"%m-%d-%Y\")\n",
    "print('number of legend labels:', len(d_str))\n",
    "\n",
    "# fontsize, linewitch, etc.\n",
    "fs_titles = 24\n",
    "fs_labels = 24\n",
    "fs_axes = 20\n",
    "fs_text = 20\n",
    "fs_legend = 20"
   ]
  },
  {
   "cell_type": "markdown",
   "metadata": {},
   "source": [
    "#### FUNCTIONS"
   ]
  },
  {
   "cell_type": "code",
   "execution_count": null,
   "metadata": {},
   "outputs": [],
   "source": [
    "# FUNCTION - standardize lidar by mean\n",
    "def standard(x):\n",
    "    a = np.where(x>0) #, x, np.nan)\n",
    "    return x/np.nanmean(a)\n",
    "\n",
    "s = xr.apply_ufunc(standard, ds.snow, dask='parallelized', output_dtypes=[np.float32])"
   ]
  },
  {
   "cell_type": "code",
   "execution_count": null,
   "metadata": {},
   "outputs": [],
   "source": [
    "# for i in range(s.time.size):\n",
    "   \n",
    "#     plt.imshow(s[i])\n",
    "#     plt.colorbar()\n",
    "#     plt.show()"
   ]
  },
  {
   "cell_type": "code",
   "execution_count": null,
   "metadata": {},
   "outputs": [],
   "source": [
    "# FUNCTION - subtracts mean\n",
    "def minus_mean(x):\n",
    "    a = np.where(x>0) #, x, np.nan)\n",
    "    return x - np.nanmean(a)\n"
   ]
  },
  {
   "cell_type": "code",
   "execution_count": null,
   "metadata": {},
   "outputs": [],
   "source": [
    "# FUNCTION - histogram\n",
    "def histogram(x):\n",
    "    '''makes histogram for all values >0 in lidar images'''\n",
    "    h, bx = np.histogram(x[x !=0], bins=binx)\n",
    "    return h, bx[:-1]"
   ]
  },
  {
   "cell_type": "code",
   "execution_count": null,
   "metadata": {},
   "outputs": [],
   "source": [
    "# FUNCTION - plot histogram\n",
    "def step_hist_plt(hist, bin_x, date_iter, axis, alpha=0.4, lw=2, shaded=True):\n",
    "    \n",
    "    if shaded is True:\n",
    "        a.step(bx,h, lw=lw, label = d_str[i])\n",
    "        a.fill_between(bx,h, step=\"pre\", alpha=alpha)\n",
    "        \n",
    "    if shaded is False:\n",
    "        a.step(bx,h, lw=lw, label = d_str[i])"
   ]
  },
  {
   "cell_type": "markdown",
   "metadata": {},
   "source": [
    "#### call functions and plot"
   ]
  },
  {
   "cell_type": "code",
   "execution_count": null,
   "metadata": {},
   "outputs": [],
   "source": [
    "# binx = np.arange(0,2500,1) #(start, stop, step by [cm])\n",
    "binx = np.arange(0,250,0.01)\n",
    "\n",
    "f=plt.figure(num=0, figsize=(20,10))\n",
    "a=plt.gca()\n",
    "\n",
    "with ProgressBar(): #ATTEMPTING TO RESCALE\n",
    "    for i in range(ds.time.size):\n",
    "        s = xr.apply_ufunc(standard, ds.snow, dask='parallelized', output_dtypes=[np.float32])\n",
    "#         mm_s = xr.apply_ufunc(minus_mean, ds.snow, dask='parallelized', output_dtypes=[np.float32])\n",
    "        h, bx = xr.apply_ufunc(histogram, s[i].values/10, dask='parallelized', output_dtypes=[np.float32])\n",
    "        step_hist_plt(h, bx, i, a, alpha=0.2, lw=1)\n",
    "\n",
    "# with ProgressBar(): #SAVED FIGS FROM HERE\n",
    "#     for i in range(ds.time.size):\n",
    "#         h, bx = xr.apply_ufunc(histogram, ds.snow[i].values/10, dask='parallelized', output_dtypes=[np.float32])\n",
    "#         step_hist_plt(h, bx, i, a, alpha=0.2, lw=5, shaded=False)\n",
    "    \n",
    "    a.set_title('Snow distribution nearest peak SWE flight date', fontsize=fs_titles)\n",
    "    a.set_xlim(0,2.5)\n",
    "    a.set_xlabel('snow depth rescaled by mean',fontsize=fs_axes)\n",
    "    a.set_ylabel('frequency', fontsize=fs_axes)\n",
    "    a.legend(prop={'size': fs_legend})\n",
    "    plt.savefig('/home/meganmason/Documents/projects/thesis/figures/PeakDist_rescaled', dpi=600)\n",
    "#     plt.show()"
   ]
  },
  {
   "cell_type": "code",
   "execution_count": null,
   "metadata": {},
   "outputs": [],
   "source": []
  },
  {
   "cell_type": "code",
   "execution_count": null,
   "metadata": {},
   "outputs": [],
   "source": []
  },
  {
   "cell_type": "code",
   "execution_count": null,
   "metadata": {},
   "outputs": [],
   "source": []
  },
  {
   "cell_type": "code",
   "execution_count": null,
   "metadata": {},
   "outputs": [],
   "source": []
  },
  {
   "cell_type": "code",
   "execution_count": null,
   "metadata": {},
   "outputs": [],
   "source": []
  }
 ],
 "metadata": {
  "kernelspec": {
   "display_name": "Python 3",
   "language": "python",
   "name": "python3"
  },
  "language_info": {
   "codemirror_mode": {
    "name": "ipython",
    "version": 3
   },
   "file_extension": ".py",
   "mimetype": "text/x-python",
   "name": "python",
   "nbconvert_exporter": "python",
   "pygments_lexer": "ipython3",
   "version": "3.6.8"
  }
 },
 "nbformat": 4,
 "nbformat_minor": 4
}
