{
 "cells": [
  {
   "cell_type": "code",
   "execution_count": 1,
   "metadata": {},
   "outputs": [],
   "source": [
    "%matplotlib inline \n",
    "\n",
    "import numpy as np\n",
    "import pandas as pd\n",
    "from scipy.stats import pearsonr \n",
    "import matplotlib.pyplot as plt\n",
    "import glob\n",
    "import os\n",
    "import time\n",
    "import xarray as xr\n",
    "\n",
    "# import dask.array as da\n",
    "from dask.diagnostics import ProgressBar\n",
    "from dask.distributed import Client, LocalCluster\n",
    "\n",
    "import matplotlib.patheffects as PathEffects"
   ]
  },
  {
   "cell_type": "markdown",
   "metadata": {},
   "source": [
    "### load lidar xarray"
   ]
  },
  {
   "cell_type": "code",
   "execution_count": 4,
   "metadata": {},
   "outputs": [],
   "source": [
    "fname = '~/Documents/projects/thesis/results/output/compiled_SUPERsnow.nc' #ARS\n",
    "# fname = '~/Documents/research/sierra/data/compiled_SUPERsnow.nc' #BSU\n",
    "#~~~~ ds full\n",
    "ds = xr.open_dataset(fname,  chunks={'time':1,'x':1000,'y':1000})\n",
    "ds.close()\n",
    "\n",
    "#~~~~ ds peak\n",
    "dpeak = ds.isel(time=[0,7,18,30,42,49]) #0,7,22,28,41,49]\n",
    "dpeak.close()\n",
    "\n",
    "ds = dpeak\n",
    "ds.close()"
   ]
  },
  {
   "cell_type": "markdown",
   "metadata": {},
   "source": [
    "### load terrain xarray"
   ]
  },
  {
   "cell_type": "code",
   "execution_count": 13,
   "metadata": {},
   "outputs": [
    {
     "data": {
      "text/plain": [
       "['/home/meganmason/Documents/projects/thesis/data/processing_lidar/depths_3m/equal_extent/hillshade.nc',\n",
       " '/home/meganmason/Documents/projects/thesis/data/processing_lidar/depths_3m/equal_extent/roughness.nc',\n",
       " '/home/meganmason/Documents/projects/thesis/data/processing_lidar/depths_3m/equal_extent/slope.nc',\n",
       " '/home/meganmason/Documents/projects/thesis/data/processing_lidar/depths_3m/equal_extent/surface_classification.nc',\n",
       " '/home/meganmason/Documents/projects/thesis/data/processing_lidar/depths_3m/equal_extent/aspect.nc']"
      ]
     },
     "execution_count": 13,
     "metadata": {},
     "output_type": "execute_result"
    }
   ],
   "source": [
    "fpath = glob.glob('/home/meganmason/Documents/projects/thesis/data/processing_lidar/depths_3m/equal_extent/*.nc')\n",
    "fpath\n"
   ]
  },
  {
   "cell_type": "code",
   "execution_count": 2,
   "metadata": {},
   "outputs": [],
   "source": [
    "# ds_terr=xr.open_mfdataset(fpath, concat_dim='space') #, chunks={'x':1000, 'y':1000}, parallel=True) # .rename({'Band1':'snow'}).drop('transverse_mercator') combine='nested',\n",
    "# ds_terr\n",
    "\n",
    "# hil = xr.open_dataset(fpath[0])\n",
    "# print(hil)\n",
    "\n",
    "# asp = xr.open_dataset(fpath[4])\n",
    "# print(asp)\n",
    "\n",
    "# slp = xr.open_dataset(fpath[2])\n",
    "# print(slp)\n",
    "\n",
    "# rou = xr.open_dataset(fpath[1])\n",
    "# print(rou)\n",
    "\n",
    "# sur = xr.open_dataset(fpath[3])\n",
    "# print(sur)"
   ]
  },
  {
   "cell_type": "markdown",
   "metadata": {},
   "source": [
    "### flatten"
   ]
  },
  {
   "cell_type": "code",
   "execution_count": null,
   "metadata": {},
   "outputs": [],
   "source": [
    "#terrain\n",
    "dem_flat = ds.dem.values.flatten()\n",
    "aspect_flat = ds_aspect.values.flatten() #need to rename from band1 likely\n",
    "slope_flat = ds_slope.values.flatten()"
   ]
  },
  {
   "cell_type": "code",
   "execution_count": null,
   "metadata": {},
   "outputs": [],
   "source": [
    "# data\n",
    "yrly_means = ds.snow.groupby('time.year').mean('time')\n",
    "yrly_means = yrly_means.values.flatten()\n",
    "\n",
    "yrly_std = ds.snow.groupby('time.year').std('time')\n",
    "yrly_std = yrly_means.values.flatten()\n"
   ]
  },
  {
   "cell_type": "markdown",
   "metadata": {},
   "source": [
    "### plot"
   ]
  },
  {
   "cell_type": "code",
   "execution_count": null,
   "metadata": {},
   "outputs": [],
   "source": [
    "\n",
    "fig = plt.figure(figsize=(15, 10))\n",
    "plt.hexbin(dem_flat, yrly_means, mincnt=1)\n",
    "plt.xlabel('Elevation [m]')\n",
    "plt.ylabel('$\\sigma$')\n",
    "plt.title('Snow depth [50m] STD by elevation')\n",
    "plt.colorbar()\n",
    "plt.show()\n",
    "plt.savefig('figs/elevation_density_13-16', dpi=600)"
   ]
  },
  {
   "cell_type": "code",
   "execution_count": null,
   "metadata": {},
   "outputs": [],
   "source": []
  }
 ],
 "metadata": {
  "kernelspec": {
   "display_name": "Python 3",
   "language": "python",
   "name": "python3"
  },
  "language_info": {
   "codemirror_mode": {
    "name": "ipython",
    "version": 3
   },
   "file_extension": ".py",
   "mimetype": "text/x-python",
   "name": "python",
   "nbconvert_exporter": "python",
   "pygments_lexer": "ipython3",
   "version": "3.6.8"
  }
 },
 "nbformat": 4,
 "nbformat_minor": 4
}
