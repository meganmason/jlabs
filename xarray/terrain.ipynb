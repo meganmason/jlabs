{
 "cells": [
  {
   "cell_type": "code",
   "execution_count": 1,
   "metadata": {},
   "outputs": [],
   "source": [
    "%matplotlib inline \n",
    "\n",
    "import numpy as np\n",
    "import pandas as pd\n",
    "from scipy.stats import pearsonr \n",
    "import matplotlib.pyplot as plt\n",
    "import glob\n",
    "import os\n",
    "import time\n",
    "import xarray as xr\n",
    "\n",
    "# import dask.array as da\n",
    "from dask.diagnostics import ProgressBar\n",
    "from dask.distributed import Client, LocalCluster\n",
    "\n",
    "import matplotlib.patheffects as PathEffects"
   ]
  },
  {
   "cell_type": "markdown",
   "metadata": {},
   "source": [
    "### load lidar xarray"
   ]
  },
  {
   "cell_type": "code",
   "execution_count": 2,
   "metadata": {},
   "outputs": [],
   "source": [
    "# fname = '~/Documents/projects/thesis/results/output/compiled_SUPERsnow.nc' #ARS\n",
    "fname = '~/Documents/research/sierra/data/compiled_SUPERsnow.nc' #BSU\n",
    "# fname = '~/Documents/research/sierra/data/20m_analysis/compiled_SUPERsnow_20m.nc' #BSU\n",
    "#~~~~ ds full\n",
    "ds = xr.open_dataset(fname,  chunks={'time':1,'x':1000,'y':1000})\n",
    "ds.close()\n",
    "\n",
    "#~~~~ ds peak\n",
    "dpeak = ds.isel(time=[0,7,18,30,42,49]) #0,7,22,28,41,49]\n",
    "dpeak.close()\n",
    "\n",
    "ds = dpeak\n",
    "ds.close()"
   ]
  },
  {
   "cell_type": "markdown",
   "metadata": {},
   "source": [
    "### load terrain xarray"
   ]
  },
  {
   "cell_type": "code",
   "execution_count": 3,
   "metadata": {},
   "outputs": [
    {
     "data": {
      "text/plain": [
       "['/Users/meganmason491/Documents/research/sierra/data/terrain/aspect.nc',\n",
       " '/Users/meganmason491/Documents/research/sierra/data/terrain/hillshade.nc',\n",
       " '/Users/meganmason491/Documents/research/sierra/data/terrain/slope.nc']"
      ]
     },
     "execution_count": 3,
     "metadata": {},
     "output_type": "execute_result"
    }
   ],
   "source": [
    "# path = '/home/meganmason/Documents/projects/thesis/data/processing_lidar/depths_3m/equal_extent/terrain/*.nc' #ARS\n",
    "path = '/Users/meganmason491/Documents/research/sierra/data/terrain/*.nc' #BSU\n",
    "fpath = glob.glob(path)\n",
    "fpath\n"
   ]
  },
  {
   "cell_type": "code",
   "execution_count": 4,
   "metadata": {},
   "outputs": [
    {
     "data": {
      "text/plain": [
       "<xarray.Dataset>\n",
       "Dimensions:    (x: 17569, y: 17002)\n",
       "Coordinates:\n",
       "  * x          (x) float64 2.54e+05 2.54e+05 2.54e+05 ... 3.067e+05 3.067e+05\n",
       "  * y          (y) float64 4.179e+06 4.179e+06 4.179e+06 ... 4.23e+06 4.23e+06\n",
       "Data variables:\n",
       "    aspect     (y, x) float32 dask.array<chunksize=(1000, 1000), meta=np.ndarray>\n",
       "    hillshade  (y, x) float32 dask.array<chunksize=(1000, 1000), meta=np.ndarray>\n",
       "    slope      (y, x) float32 dask.array<chunksize=(1000, 1000), meta=np.ndarray>\n",
       "Attributes:\n",
       "    Conventions:  CF-1.5\n",
       "    GDAL:         GDAL 2.2.3, released 2017/11/20\n",
       "    history:      Fri Oct  4 11:46:25 2019: ncrename -v Band1,aspect aspect.n...\n",
       "    NCO:          4.7.2"
      ]
     },
     "execution_count": 4,
     "metadata": {},
     "output_type": "execute_result"
    }
   ],
   "source": [
    "terrain=xr.open_mfdataset(fpath, concat_dim=None, combine='nested', chunks={'x':1000, 'y':1000}, parallel=True).rename({'Band1':'hillshade'}).drop('transverse_mercator') #combine='nested', \n",
    "terrain.close()\n",
    "terrain"
   ]
  },
  {
   "cell_type": "markdown",
   "metadata": {},
   "source": [
    "### flatten"
   ]
  },
  {
   "cell_type": "code",
   "execution_count": null,
   "metadata": {},
   "outputs": [],
   "source": [
    "#terrain\n",
    "dem_flat = ds.dem.values.flatten()\n",
    "asp_flat = terrain.aspect.values.flatten() # subtract 45 degrees so range is -45:345 (i.e N[-45:45], E[46:])\n",
    "slp_flat = terrain.slope.values.flatten()"
   ]
  },
  {
   "cell_type": "code",
   "execution_count": null,
   "metadata": {},
   "outputs": [],
   "source": [
    "dem_flat = dem_flat[::100000] #100,000 of 300,000,000 values = .001% of data\n",
    "asp_flat = asp_flat[::100000]\n",
    "slp_flat = slp_flat[::100000]"
   ]
  },
  {
   "cell_type": "code",
   "execution_count": null,
   "metadata": {},
   "outputs": [],
   "source": [
    "dem_flat = np.where(dem_flat>0, dem_flat, np.nan)"
   ]
  },
  {
   "cell_type": "code",
   "execution_count": null,
   "metadata": {},
   "outputs": [],
   "source": [
    "print(dem_flat.shape)\n",
    "print(asp_flat.shape)\n",
    "print(slp_flat.shape)"
   ]
  },
  {
   "cell_type": "code",
   "execution_count": null,
   "metadata": {},
   "outputs": [],
   "source": [
    "fig, [ax1,ax2,ax3] = plt.subplots(1,3, figsize=(15,5))\n",
    "ax1.hist(dem_flat, bins=25, rwidth=0.8,  label='elevation'); ax1.set_title('Elevation (m)')\n",
    "ax2.hist(asp_flat, bins=([0,90,180,270,360]), rwidth=0.8,  label='aspect'); ax2.set_title('Aspect (deg)')\n",
    "ax3.hist(slp_flat[slp_flat>0], bins=25, rwidth=0.8,  label='slope'); ax3.set_title('Slope (deg)')"
   ]
  },
  {
   "cell_type": "code",
   "execution_count": null,
   "metadata": {},
   "outputs": [],
   "source": [
    "# ax2.hist(asp_flat, bins=([315, 0,90,180,270,360]), rwidth=0.8,  label='aspect'); ax2.set_title('Aspect (deg)')\n",
    "\n",
    "# n = np.where((asp_flat>315) & (asp_flat<=45))\n",
    "# n = np.where(terrain.aspect.values>315)# & (terrain.aspect.values<=45))\n",
    "\n",
    "\n",
    "n = np.where((terrain.aspect>315) and (terrain.aspect<45)) #& terrain.aspect.where(terrain.aspect>315) "
   ]
  },
  {
   "cell_type": "code",
   "execution_count": null,
   "metadata": {},
   "outputs": [],
   "source": [
    "n"
   ]
  },
  {
   "cell_type": "code",
   "execution_count": null,
   "metadata": {},
   "outputs": [],
   "source": [
    "plt.imshow(terrain.aspect)\n",
    "plt.colorbar()"
   ]
  },
  {
   "cell_type": "code",
   "execution_count": null,
   "metadata": {},
   "outputs": [],
   "source": [
    "terrain"
   ]
  },
  {
   "cell_type": "code",
   "execution_count": null,
   "metadata": {},
   "outputs": [],
   "source": [
    "aspect=np.flip(terrain.aspect,0)\n",
    "aspect=aspect.where(ds.mask==1)\n",
    "aspect=aspect.to_dataset()\n",
    "aspect.close()"
   ]
  },
  {
   "cell_type": "code",
   "execution_count": null,
   "metadata": {},
   "outputs": [],
   "source": [
    "# plt.imshow(aspect)"
   ]
  },
  {
   "cell_type": "code",
   "execution_count": null,
   "metadata": {},
   "outputs": [],
   "source": [
    "aspect"
   ]
  },
  {
   "cell_type": "code",
   "execution_count": null,
   "metadata": {},
   "outputs": [],
   "source": []
  },
  {
   "cell_type": "code",
   "execution_count": null,
   "metadata": {},
   "outputs": [],
   "source": [
    "np.random.seed(19680801)\n",
    "\n",
    "# Compute pie slices\n",
    "N = 8\n",
    "theta = np.linspace(0.0, 2 * np.pi, N, endpoint=False)\n",
    "print('theta size', len(theta))\n",
    "#theta = np.array([0, np.pi / 2, np.pi, 3 * np.pi / 2, 2 * np.pi])\n",
    "N = len(theta)\n",
    "radii = 10 * np.random.rand(N)\n",
    "print(max(theta))\n",
    "print(radii.max())\n",
    "width = 2* np.pi / N\n",
    "colors = plt.cm.viridis(radii / 10.)\n",
    "\n",
    "ax = plt.subplot(111, projection='polar')\n",
    "ax.bar(theta, radii, width=width, bottom=0.0, color=colors, alpha=0.5)\n",
    "ax.set_theta_zero_location(\"N\")\n",
    "\n",
    "plt.show()"
   ]
  },
  {
   "cell_type": "code",
   "execution_count": null,
   "metadata": {},
   "outputs": [],
   "source": [
    "# data\n",
    "yrly_means = ds.snow.groupby('time.year').mean(dim=('x','y')) # snow values grouped by year, then the mean\n",
    "yrly_means = yrly_means.values.flatten()\n",
    "\n",
    "print(yrly_means.shape)\n",
    "\n",
    "# yrly_std = ds.snow.groupby('time.year').std('time')\n",
    "# yrly_std = yrly_means.values.flatten()\n",
    "\n",
    "# print(yrly_std.shape)"
   ]
  },
  {
   "cell_type": "code",
   "execution_count": null,
   "metadata": {},
   "outputs": [],
   "source": [
    "plt.plot(ds.time, yrly_means, marker= 'x')"
   ]
  },
  {
   "cell_type": "code",
   "execution_count": null,
   "metadata": {},
   "outputs": [],
   "source": [
    "d = []\n",
    "for layer in list(ds.snow.groupby('time.year')): #.groups:\n",
    "    print('grouped item', layer)\n",
    "    \n",
    "    "
   ]
  },
  {
   "cell_type": "markdown",
   "metadata": {},
   "source": [
    "### plot"
   ]
  },
  {
   "cell_type": "code",
   "execution_count": null,
   "metadata": {},
   "outputs": [],
   "source": [
    "snow=ds.snow.values\n",
    "print(snow.shape)\n",
    "# s=snow.values[::10000]\n",
    "# s"
   ]
  },
  {
   "cell_type": "code",
   "execution_count": null,
   "metadata": {},
   "outputs": [],
   "source": [
    "ds"
   ]
  },
  {
   "cell_type": "code",
   "execution_count": null,
   "metadata": {},
   "outputs": [],
   "source": [
    "for year in ds.groupby('time.year'):\n",
    "    a=ds.snow.values.flatten()\n",
    "    a=a[::100000]\n",
    "    print(a.shape)\n",
    "    b=ds.dem.values.flatten()\n",
    "    b=a[::100000]\n",
    "    print(b.shape)\n",
    "#     plt.hexbin(b,a,mincnt=1)\n",
    "#     plt.show"
   ]
  },
  {
   "cell_type": "code",
   "execution_count": null,
   "metadata": {},
   "outputs": [],
   "source": [
    "\n",
    "# fig = plt.figure(figsize=(15, 10))\n",
    "# plt.hexbin(dem_flat, yrly_means, mincnt=1)\n",
    "# plt.xlabel('Elevation [m]')\n",
    "# plt.ylabel('$\\sigma$')\n",
    "# plt.title('Snow depth [50m] STD by elevation')\n",
    "# plt.colorbar()\n",
    "# plt.show()\n",
    "# plt.savefig('figs/elevation_density_13-16', dpi=600)"
   ]
  },
  {
   "cell_type": "code",
   "execution_count": null,
   "metadata": {},
   "outputs": [],
   "source": [
    "a=ds.snow[0].values.flatten()\n",
    "a=a[::100000]\n",
    "print(a.shape)\n",
    "a[a<=0]=np.nan\n",
    "# b=ds.dem.values.flatten()\n",
    "# b=a[::100000]\n",
    "# print(b.shape)"
   ]
  },
  {
   "cell_type": "code",
   "execution_count": null,
   "metadata": {},
   "outputs": [],
   "source": [
    "plt.hexbin(dem_flat, a>0, mincnt=1)"
   ]
  },
  {
   "cell_type": "code",
   "execution_count": null,
   "metadata": {},
   "outputs": [],
   "source": [
    "print(np.nanmin(dem_flat))"
   ]
  },
  {
   "cell_type": "code",
   "execution_count": null,
   "metadata": {},
   "outputs": [],
   "source": []
  }
 ],
 "metadata": {
  "kernelspec": {
   "display_name": "Python 3",
   "language": "python",
   "name": "python3"
  },
  "language_info": {
   "codemirror_mode": {
    "name": "ipython",
    "version": 3
   },
   "file_extension": ".py",
   "mimetype": "text/x-python",
   "name": "python",
   "nbconvert_exporter": "python",
   "pygments_lexer": "ipython3",
   "version": "3.6.9"
  }
 },
 "nbformat": 4,
 "nbformat_minor": 4
}
