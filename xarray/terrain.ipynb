{
 "cells": [
  {
   "cell_type": "code",
   "execution_count": 3,
   "metadata": {},
   "outputs": [],
   "source": [
    "%matplotlib inline \n",
    "\n",
    "import numpy as np\n",
    "import pandas as pd\n",
    "from scipy.stats import pearsonr \n",
    "import matplotlib.pyplot as plt\n",
    "import glob\n",
    "import os\n",
    "import time\n",
    "import xarray as xr\n",
    "\n",
    "# import dask.array as da\n",
    "from dask.diagnostics import ProgressBar\n",
    "from dask.distributed import Client, LocalCluster\n",
    "\n",
    "import matplotlib.patheffects as PathEffects"
   ]
  },
  {
   "cell_type": "markdown",
   "metadata": {},
   "source": [
    "### load lidar xarray"
   ]
  },
  {
   "cell_type": "code",
   "execution_count": 4,
   "metadata": {},
   "outputs": [],
   "source": [
    "fname = '~/Documents/projects/thesis/results/output/compiled_SUPERsnow.nc' #ARS\n",
    "# fname = '~/Documents/research/sierra/data/compiled_SUPERsnow.nc' #BSU\n",
    "#~~~~ ds full\n",
    "ds = xr.open_dataset(fname,  chunks={'time':1,'x':1000,'y':1000})\n",
    "ds.close()\n",
    "\n",
    "#~~~~ ds peak\n",
    "dpeak = ds.isel(time=[0,7,18,30,42,49]) #0,7,22,28,41,49]\n",
    "dpeak.close()\n",
    "\n",
    "ds = dpeak\n",
    "ds.close()"
   ]
  },
  {
   "cell_type": "markdown",
   "metadata": {},
   "source": [
    "### load terrain xarray"
   ]
  },
  {
   "cell_type": "code",
   "execution_count": 13,
   "metadata": {},
   "outputs": [
    {
     "data": {
      "text/plain": [
       "['/home/meganmason/Documents/projects/thesis/data/processing_lidar/depths_3m/equal_extent/hillshade.nc',\n",
       " '/home/meganmason/Documents/projects/thesis/data/processing_lidar/depths_3m/equal_extent/roughness.nc',\n",
       " '/home/meganmason/Documents/projects/thesis/data/processing_lidar/depths_3m/equal_extent/slope.nc',\n",
       " '/home/meganmason/Documents/projects/thesis/data/processing_lidar/depths_3m/equal_extent/surface_classification.nc',\n",
       " '/home/meganmason/Documents/projects/thesis/data/processing_lidar/depths_3m/equal_extent/aspect.nc']"
      ]
     },
     "execution_count": 13,
     "metadata": {},
     "output_type": "execute_result"
    }
   ],
   "source": [
    "fpath = glob.glob('/home/meganmason/Documents/projects/thesis/data/processing_lidar/depths_3m/equal_extent/*.nc')\n",
    "fpath\n"
   ]
  },
  {
   "cell_type": "code",
   "execution_count": 15,
   "metadata": {},
   "outputs": [
    {
     "name": "stdout",
     "output_type": "stream",
     "text": [
      "<xarray.Dataset>\n",
      "Dimensions:              (x: 17569, y: 17002)\n",
      "Coordinates:\n",
      "  * x                    (x) float64 2.54e+05 2.54e+05 ... 3.067e+05 3.067e+05\n",
      "  * y                    (y) float64 4.179e+06 4.179e+06 ... 4.23e+06 4.23e+06\n",
      "Data variables:\n",
      "    Band1                (y, x) float32 ...\n",
      "    transverse_mercator  |S1 ...\n",
      "Attributes:\n",
      "    Conventions:  CF-1.5\n",
      "    GDAL:         GDAL 2.2.3, released 2017/11/20\n",
      "    history:      Thu Oct 03 11:41:53 2019: GDAL Create( hillshade.nc, ... )\n",
      "<xarray.Dataset>\n",
      "Dimensions:              (x: 17569, y: 17002)\n",
      "Coordinates:\n",
      "  * x                    (x) float64 2.54e+05 2.54e+05 ... 3.067e+05 3.067e+05\n",
      "  * y                    (y) float64 4.179e+06 4.179e+06 ... 4.23e+06 4.23e+06\n",
      "Data variables:\n",
      "    aspect               (y, x) float32 ...\n",
      "    transverse_mercator  |S1 ...\n",
      "Attributes:\n",
      "    Conventions:  CF-1.5\n",
      "    GDAL:         GDAL 2.2.3, released 2017/11/20\n",
      "    history:      Fri Oct  4 11:46:25 2019: ncrename -v Band1,aspect aspect.n...\n",
      "    NCO:          4.7.2\n",
      "<xarray.Dataset>\n",
      "Dimensions:              (x: 17569, y: 17002)\n",
      "Coordinates:\n",
      "  * x                    (x) float64 2.54e+05 2.54e+05 ... 3.067e+05 3.067e+05\n",
      "  * y                    (y) float64 4.179e+06 4.179e+06 ... 4.23e+06 4.23e+06\n",
      "Data variables:\n",
      "    slope                (y, x) float32 ...\n",
      "    transverse_mercator  |S1 ...\n",
      "Attributes:\n",
      "    Conventions:  CF-1.5\n",
      "    GDAL:         GDAL 2.2.3, released 2017/11/20\n",
      "    history:      Fri Oct  4 11:47:03 2019: ncrename -v Band1,slope slope.nc\\...\n",
      "    NCO:          4.7.2\n",
      "<xarray.Dataset>\n",
      "Dimensions:              (x: 17569, y: 17002)\n",
      "Coordinates:\n",
      "  * x                    (x) float64 2.54e+05 2.54e+05 ... 3.067e+05 3.067e+05\n",
      "  * y                    (y) float64 4.179e+06 4.179e+06 ... 4.23e+06 4.23e+06\n",
      "Data variables:\n",
      "    Band1                (y, x) float32 ...\n",
      "    transverse_mercator  |S1 ...\n",
      "Attributes:\n",
      "    Conventions:  CF-1.5\n",
      "    GDAL:         GDAL 2.2.3, released 2017/11/20\n",
      "    history:      Thu Oct 03 11:42:19 2019: GDAL Create( roughness.nc, ... )\n",
      "<xarray.Dataset>\n",
      "Dimensions:              (x: 17569, y: 17002)\n",
      "Coordinates:\n",
      "  * x                    (x) float64 2.54e+05 2.54e+05 ... 3.067e+05 3.067e+05\n",
      "  * y                    (y) float64 4.179e+06 4.179e+06 ... 4.23e+06 4.23e+06\n",
      "Data variables:\n",
      "    transverse_mercator  |S1 ...\n",
      "    Band1                (y, x) float32 ...\n",
      "Attributes:\n",
      "    GDAL_AREA_OR_POINT:     Area\n",
      "    GDAL_TIFFTAG_SOFTWARE:  MATLAB 9.2, Mapping Toolbox 4.5\n",
      "    Conventions:            CF-1.5\n",
      "    GDAL:                   GDAL 2.2.3, released 2017/11/20\n",
      "    history:                Thu Oct 03 11:42:25 2019: GDAL CreateCopy( surfac...\n"
     ]
    }
   ],
   "source": [
    "# ds_terr=xr.open_mfdataset(fpath, concat_dim='space') #, chunks={'x':1000, 'y':1000}, parallel=True) # .rename({'Band1':'snow'}).drop('transverse_mercator') combine='nested',\n",
    "# ds_terr\n",
    "\n",
    "hil = xr.open_dataset(fpath[0])\n",
    "print(hil)\n",
    "\n",
    "asp = xr.open_dataset(fpath[4])\n",
    "print(asp)\n",
    "\n",
    "slp = xr.open_dataset(fpath[2])\n",
    "print(slp)\n",
    "\n",
    "rou = xr.open_dataset(fpath[1])\n",
    "print(rou)\n",
    "\n",
    "sur = xr.open_dataset(fpath[3])\n",
    "print(sur)"
   ]
  },
  {
   "cell_type": "code",
   "execution_count": null,
   "metadata": {},
   "outputs": [],
   "source": []
  }
 ],
 "metadata": {
  "kernelspec": {
   "display_name": "Python 3",
   "language": "python",
   "name": "python3"
  },
  "language_info": {
   "codemirror_mode": {
    "name": "ipython",
    "version": 3
   },
   "file_extension": ".py",
   "mimetype": "text/x-python",
   "name": "python",
   "nbconvert_exporter": "python",
   "pygments_lexer": "ipython3",
   "version": "3.6.7"
  }
 },
 "nbformat": 4,
 "nbformat_minor": 2
}
