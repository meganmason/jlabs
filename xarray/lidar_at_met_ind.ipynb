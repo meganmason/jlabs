{
 "cells": [
  {
   "cell_type": "code",
   "execution_count": 50,
   "metadata": {},
   "outputs": [],
   "source": [
    "%matplotlib inline \n",
    "import pandas as pd\n",
    "import numpy as np\n",
    "import xarray as xr\n",
    "import os\n",
    "import glob\n",
    "import time\n",
    "import matplotlib as mpl\n",
    "import matplotlib.pyplot as plt\n",
    "# import seaborn as sns\n",
    "from scipy.stats import pearsonr\n",
    "from scipy.stats import norm\n",
    "from dask.diagnostics import ProgressBar\n",
    "from dask.distributed import Client, LocalCluster"
   ]
  },
  {
   "cell_type": "code",
   "execution_count": 51,
   "metadata": {},
   "outputs": [
    {
     "data": {
      "text/plain": [
       "['/Users/megmason/research/sierra/data/compiled_SUPERsnow_150m_dan.nc',\n",
       " '/Users/megmason/research/sierra/data/compiled_SUPERsnow_150m_sli.nc',\n",
       " '/Users/megmason/research/sierra/data/compiled_SUPERsnow_150m_tum.nc']"
      ]
     },
     "execution_count": 51,
     "metadata": {},
     "output_type": "execute_result"
    }
   ],
   "source": [
    "# flist = glob.glob('')#bsu\n",
    "flist = sorted(glob.glob('/Users/megmason/research/sierra/data/compiled_SUPERsnow_*150m*')) #mac\n",
    "flist"
   ]
  },
  {
   "cell_type": "code",
   "execution_count": 52,
   "metadata": {},
   "outputs": [],
   "source": [
    "# open 3 different datasets\n",
    "dan = xr.open_dataset(flist[0])\n",
    "sli = xr.open_dataset(flist[1])\n",
    "tum = xr.open_dataset(flist[2])"
   ]
  },
  {
   "cell_type": "code",
   "execution_count": 49,
   "metadata": {},
   "outputs": [
    {
     "data": {
      "image/png": "[encoded data removed]",
      "text/plain": [
       "<Figure size 432x288 with 1 Axes>"
      ]
     },
     "metadata": {
      "needs_background": "light"
     },
     "output_type": "display_data"
    },
    {
     "data": {
      "image/png": "[encoded data removed]",
      "text/plain": [
       "<Figure size 432x288 with 1 Axes>"
      ]
     },
     "metadata": {
      "needs_background": "light"
     },
     "output_type": "display_data"
    },
    {
     "data": {
      "image/png": "[encoded data removed]",
      "text/plain": [
       "<Figure size 432x288 with 1 Axes>"
      ]
     },
     "metadata": {
      "needs_background": "light"
     },
     "output_type": "display_data"
    }
   ],
   "source": [
    "# april 26, 2016 vs elevation\n",
    "# d = dan.plot(x='dem', y='snow', col='time')\n",
    "stns = ['dan','tum', 'sli']\n",
    "\n",
    "for stn in stns:\n",
    "\n",
    "    plt.scatter('{}.dem.values.flatten()'.format(stn), '{}.isel(time=31).snow.values.flatten()'.format(stn))\n",
    "    plt.show()\n",
    "# flt_sno = sli.snow.isel(time=31).values.flatten()\n",
    "# flt_dem = sli.dem.values.flatten()\n",
    "# flt_veg = sli.veg.values.flatten()\n",
    "\n",
    "# # elevation density\n",
    "# fig = plt.figure(figsize=(10, 5))\n",
    "# plt.hexbin(flt_dem, flt_sno, mincnt=1)\n",
    "# plt.xlabel('Elevation [m]')\n",
    "# plt.ylabel('snow depth [cm]')\n",
    "# plt.title('Snow depth vs elevation')\n",
    "# plt.colorbar()\n",
    "# plt.show()\n",
    "\n",
    "# fig = plt.figure(figsize=(10, 5))\n",
    "# plt.hexbin(flt_veg, flt_sno, mincnt=1)\n",
    "# plt.xlabel('Vegetation [m]')\n",
    "# plt.ylabel('snow depth [cm]')\n",
    "# plt.title('Snow depth vs vegetation')\n",
    "# plt.colorbar()\n",
    "# plt.show()\n",
    "# plt.savefig('figs/bla', dpi=300)\n"
   ]
  },
  {
   "cell_type": "code",
   "execution_count": null,
   "metadata": {},
   "outputs": [],
   "source": []
  }
 ],
 "metadata": {
  "kernelspec": {
   "display_name": "Python 3",
   "language": "python",
   "name": "python3"
  },
  "language_info": {
   "codemirror_mode": {
    "name": "ipython",
    "version": 3
   },
   "file_extension": ".py",
   "mimetype": "text/x-python",
   "name": "python",
   "nbconvert_exporter": "python",
   "pygments_lexer": "ipython3",
   "version": "3.6.8"
  }
 },
 "nbformat": 4,
 "nbformat_minor": 4
}
