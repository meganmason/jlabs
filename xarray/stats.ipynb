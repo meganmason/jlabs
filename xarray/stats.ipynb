{
 "cells": [
  {
   "cell_type": "code",
   "execution_count": 1,
   "metadata": {},
   "outputs": [],
   "source": [
    "%matplotlib inline \n",
    "\n",
    "import numpy as np\n",
    "import pandas as pd\n",
    "from scipy.stats import pearsonr \n",
    "import matplotlib.pyplot as plt\n",
    "import glob\n",
    "import os\n",
    "import time\n",
    "import xarray as xr\n",
    "\n",
    "# import dask.array as da\n",
    "from dask.diagnostics import ProgressBar\n",
    "from dask.distributed import Client, LocalCluster"
   ]
  },
  {
   "cell_type": "code",
   "execution_count": 6,
   "metadata": {},
   "outputs": [],
   "source": [
    "which_year = 2017"
   ]
  },
  {
   "cell_type": "code",
   "execution_count": 25,
   "metadata": {},
   "outputs": [],
   "source": [
    "# fname = '~/Documents/projects/thesis/results/output/compiled_SUPERsnow.nc' #ARS\n",
    "fname = '~/Documents/research/sierra/data/compiled_SUPERsnow.nc' #BSU\n",
    "\n",
    "def load_lidar(fname, dates, peak=False):\n",
    "\n",
    "    #~~~~~ ds full\n",
    "    ds = xr.open_dataset(fname,  chunks={'time':1,'x':1000,'y':1000})\n",
    "    \n",
    "    if peak:\n",
    "    #~~~~~ ds peak\n",
    "        d_peak = ds.isel(time=[0,7,18,30,42,49]) #0,7,22,28,41,49]\n",
    "\n",
    "        ds = d_peak\n",
    "        d_peak.close()\n",
    "    \n",
    "    \n",
    "    else:\n",
    "    #~~~~~ds slice    \n",
    "        if type(dates) == list:\n",
    "            \n",
    "            d_slice=ds.sel(time=slice('{},{}'.format(dates[0],dates[1])))\n",
    "\n",
    "            ds = d_slice\n",
    "            d_slice.close()\n",
    "            \n",
    "        else:\n",
    "    #~~~~~ds one_year\n",
    "            years = dates\n",
    "            d_1year = ds.sel(time='{}'.format(years))\n",
    "\n",
    "            ds = d_1year\n",
    "            d_1year.close()\n",
    "            \n",
    "    ds.close()\n",
    "    return ds"
   ]
  },
  {
   "cell_type": "code",
   "execution_count": 31,
   "metadata": {},
   "outputs": [
    {
     "data": {
      "text/plain": [
       "<xarray.DataArray 'time' (time: 40)>\n",
       "array(['2013-04-03T00:00:00.000000000', '2013-04-29T00:00:00.000000000',\n",
       "       '2013-05-03T00:00:00.000000000', '2013-05-25T00:00:00.000000000',\n",
       "       '2013-06-01T00:00:00.000000000', '2013-06-08T00:00:00.000000000',\n",
       "       '2014-03-23T00:00:00.000000000', '2014-04-07T00:00:00.000000000',\n",
       "       '2014-04-13T00:00:00.000000000', '2014-04-20T00:00:00.000000000',\n",
       "       '2014-04-28T00:00:00.000000000', '2014-05-02T00:00:00.000000000',\n",
       "       '2014-05-11T00:00:00.000000000', '2014-05-17T00:00:00.000000000',\n",
       "       '2014-05-27T00:00:00.000000000', '2014-05-31T00:00:00.000000000',\n",
       "       '2014-06-05T00:00:00.000000000', '2015-02-18T00:00:00.000000000',\n",
       "       '2015-03-06T00:00:00.000000000', '2015-03-25T00:00:00.000000000',\n",
       "       '2015-04-03T00:00:00.000000000', '2015-04-09T00:00:00.000000000',\n",
       "       '2015-04-15T00:00:00.000000000', '2015-04-27T00:00:00.000000000',\n",
       "       '2015-05-01T00:00:00.000000000', '2015-05-28T00:00:00.000000000',\n",
       "       '2015-06-08T00:00:00.000000000', '2016-03-26T00:00:00.000000000',\n",
       "       '2016-04-01T00:00:00.000000000', '2016-04-07T00:00:00.000000000',\n",
       "       '2016-04-16T00:00:00.000000000', '2016-04-26T00:00:00.000000000',\n",
       "       '2016-05-09T00:00:00.000000000', '2016-05-27T00:00:00.000000000',\n",
       "       '2016-06-07T00:00:00.000000000', '2016-06-13T00:00:00.000000000',\n",
       "       '2016-06-20T00:00:00.000000000', '2016-06-25T00:00:00.000000000',\n",
       "       '2016-07-01T00:00:00.000000000', '2016-07-08T00:00:00.000000000'],\n",
       "      dtype='datetime64[ns]')\n",
       "Coordinates:\n",
       "  * time     (time) datetime64[ns] 2013-04-03 2013-04-29 ... 2016-07-08"
      ]
     },
     "execution_count": 31,
     "metadata": {},
     "output_type": "execute_result"
    }
   ],
   "source": [
    "#call it\n",
    "ds = load_lidar(fname, [2016,2018])\n",
    "ds.time"
   ]
  },
  {
   "cell_type": "code",
   "execution_count": 29,
   "metadata": {},
   "outputs": [
    {
     "ename": "TypeError",
     "evalue": "list() takes at most 1 argument (2 given)",
     "output_type": "error",
     "traceback": [
      "\u001b[0;31m---------------------------------------------------------------------------\u001b[0m",
      "\u001b[0;31mTypeError\u001b[0m                                 Traceback (most recent call last)",
      "\u001b[0;32m<ipython-input-29-bdfe0386d4f6>\u001b[0m in \u001b[0;36m<module>\u001b[0;34m\u001b[0m\n\u001b[1;32m      5\u001b[0m \u001b[0;31m# d_slice\u001b[0m\u001b[0;34m\u001b[0m\u001b[0;34m\u001b[0m\u001b[0;34m\u001b[0m\u001b[0m\n\u001b[1;32m      6\u001b[0m \u001b[0;34m\u001b[0m\u001b[0m\n\u001b[0;32m----> 7\u001b[0;31m \u001b[0ml\u001b[0m \u001b[0;34m=\u001b[0m \u001b[0mlist\u001b[0m\u001b[0;34m(\u001b[0m\u001b[0;36m2016\u001b[0m\u001b[0;34m,\u001b[0m\u001b[0;36m2018\u001b[0m\u001b[0;34m)\u001b[0m\u001b[0;34m\u001b[0m\u001b[0;34m\u001b[0m\u001b[0m\n\u001b[0m\u001b[1;32m      8\u001b[0m \u001b[0ml\u001b[0m\u001b[0;34m\u001b[0m\u001b[0;34m\u001b[0m\u001b[0m\n",
      "\u001b[0;31mTypeError\u001b[0m: list() takes at most 1 argument (2 given)"
     ]
    }
   ],
   "source": [
    "fname = '~/Documents/research/sierra/data/compiled_SUPERsnow.nc' #BSU\n",
    "ds = xr.open_dataset(fname,  chunks={'time':1,'x':1000,'y':1000})\n",
    "dates = [2015, 2017]\n",
    "d_slice=ds.sel(time=slice('{},{}'.format(dates[0],dates[1])))\n",
    "d_slice\n"
   ]
  },
  {
   "cell_type": "code",
   "execution_count": 3,
   "metadata": {},
   "outputs": [
    {
     "ename": "NameError",
     "evalue": "name 'which_year' is not defined",
     "output_type": "error",
     "traceback": [
      "\u001b[0;31m---------------------------------------------------------------------------\u001b[0m",
      "\u001b[0;31mNameError\u001b[0m                                 Traceback (most recent call last)",
      "\u001b[0;32m<ipython-input-3-df9b46d49655>\u001b[0m in \u001b[0;36m<module>\u001b[0;34m\u001b[0m\n\u001b[1;32m      8\u001b[0m \u001b[0;34m\u001b[0m\u001b[0m\n\u001b[1;32m      9\u001b[0m \u001b[0;31m#~~~~~~~~~~~~~~ds small\u001b[0m\u001b[0;34m\u001b[0m\u001b[0;34m\u001b[0m\u001b[0;34m\u001b[0m\u001b[0m\n\u001b[0;32m---> 10\u001b[0;31m \u001b[0mdsmall\u001b[0m \u001b[0;34m=\u001b[0m \u001b[0mds\u001b[0m\u001b[0;34m.\u001b[0m\u001b[0msel\u001b[0m\u001b[0;34m(\u001b[0m\u001b[0mtime\u001b[0m\u001b[0;34m=\u001b[0m\u001b[0;34m'{}'\u001b[0m\u001b[0;34m.\u001b[0m\u001b[0mformat\u001b[0m\u001b[0;34m(\u001b[0m\u001b[0mwhich_year\u001b[0m\u001b[0;34m)\u001b[0m\u001b[0;34m)\u001b[0m\u001b[0;34m\u001b[0m\u001b[0;34m\u001b[0m\u001b[0m\n\u001b[0m\u001b[1;32m     11\u001b[0m \u001b[0mdsmall\u001b[0m\u001b[0;34m.\u001b[0m\u001b[0mclose\u001b[0m\u001b[0;34m(\u001b[0m\u001b[0;34m)\u001b[0m\u001b[0;34m\u001b[0m\u001b[0;34m\u001b[0m\u001b[0m\n\u001b[1;32m     12\u001b[0m \u001b[0;34m\u001b[0m\u001b[0m\n",
      "\u001b[0;31mNameError\u001b[0m: name 'which_year' is not defined"
     ]
    }
   ],
   "source": [
    "# fname = '~/Documents/projects/thesis/results/output/compiled_SUPERsnow.nc' #ARS\n",
    "fname = '~/Documents/research/sierra/data/compiled_SUPERsnow.nc' #BSU\n",
    "\n",
    "#~~~~ ds full\n",
    "ds = xr.open_dataset(fname,  chunks={'time':1,'x':1000,'y':1000})\n",
    "ds.close \n",
    "ds\n",
    "\n",
    "#~~~~~~~~~~~~~~ds small\n",
    "dsmall = ds.sel(time='{}'.format(which_year))\n",
    "dsmall.close()\n",
    "\n",
    "ds = dsmall\n",
    "ds.close()\n",
    "\n",
    "# #~~~~ ds peak\n",
    "# dpeak = ds.isel(time=[0,7,18,30,42,49]) #0,7,22,28,41,49]\n",
    "# dpeak.close()\n",
    "\n",
    "# ds = dpeak\n",
    "# ds.close()\n",
    "# ds"
   ]
  },
  {
   "cell_type": "markdown",
   "metadata": {},
   "source": [
    "## summary stats for each lidar flight"
   ]
  },
  {
   "cell_type": "code",
   "execution_count": 10,
   "metadata": {},
   "outputs": [],
   "source": [
    "#mean\n",
    "mean_snow_depth = ds.snow.mean(dim=('x','y'))\n",
    "\n",
    "#standard deviation\n",
    "stdv_snow_depth = ds.snow.std(dim=('x','y'))"
   ]
  },
  {
   "cell_type": "code",
   "execution_count": 11,
   "metadata": {},
   "outputs": [
    {
     "data": {
      "text/plain": [
       "[<matplotlib.lines.Line2D at 0x1c2262b710>]"
      ]
     },
     "execution_count": 11,
     "metadata": {},
     "output_type": "execute_result"
    },
    {
     "data": {
      "image/png": "[encoded data removed]",
      "text/plain": [
       "<Figure size 432x288 with 1 Axes>"
      ]
     },
     "metadata": {
      "needs_background": "light"
     },
     "output_type": "display_data"
    },
    {
     "data": {
      "image/png": "[encoded data removed]",
      "text/plain": [
       "<Figure size 432x288 with 1 Axes>"
      ]
     },
     "metadata": {
      "needs_background": "light"
     },
     "output_type": "display_data"
    }
   ],
   "source": [
    "plt.figure()\n",
    "mean_snow_depth.plot(marker='o')\n",
    "\n",
    "plt.figure()\n",
    "stdv_snow_depth.plot(marker='*')"
   ]
  },
  {
   "cell_type": "code",
   "execution_count": 12,
   "metadata": {},
   "outputs": [
    {
     "data": {
      "text/plain": [
       "array([1559.4952207 , 2073.78835117, 1945.351153  , 1836.94645502,\n",
       "       1429.30793697,  651.98272118,  526.53259854,  403.76950713,\n",
       "        251.88387271])"
      ]
     },
     "execution_count": 12,
     "metadata": {},
     "output_type": "execute_result"
    }
   ],
   "source": [
    "stdv_snow_depth.values"
   ]
  },
  {
   "cell_type": "markdown",
   "metadata": {},
   "source": [
    "## std for each year"
   ]
  },
  {
   "cell_type": "code",
   "execution_count": 30,
   "metadata": {},
   "outputs": [],
   "source": [
    "\n",
    "\n",
    "    \n"
   ]
  },
  {
   "cell_type": "code",
   "execution_count": 26,
   "metadata": {},
   "outputs": [
    {
     "ename": "SyntaxError",
     "evalue": "invalid syntax (<ipython-input-26-bb5338a22bc2>, line 3)",
     "output_type": "error",
     "traceback": [
      "\u001b[0;36m  File \u001b[0;32m\"<ipython-input-26-bb5338a22bc2>\"\u001b[0;36m, line \u001b[0;32m3\u001b[0m\n\u001b[0;31m    d=ds.sel(time=slice('2015':))\u001b[0m\n\u001b[0m                              ^\u001b[0m\n\u001b[0;31mSyntaxError\u001b[0m\u001b[0;31m:\u001b[0m invalid syntax\n"
     ]
    }
   ],
   "source": [
    "ds\n",
    "# d=ds.sel(time=slice('2015','2017'))\n",
    "d=ds.sel(time=slice('2015':))\n",
    "d"
   ]
  },
  {
   "cell_type": "code",
   "execution_count": 33,
   "metadata": {},
   "outputs": [
    {
     "data": {
      "text/plain": [
       "<xarray.Dataset>\n",
       "Dimensions:  (time: 51, x: 17569, y: 17002)\n",
       "Coordinates:\n",
       "  * x        (x) float32 254007.0 254010.0 254013.0 ... 306708.0 306711.0\n",
       "  * y        (y) float32 4230327.0 4230324.0 4230321.0 ... 4179327.0 4179324.0\n",
       "  * time     (time) datetime64[ns] 2013-04-03 2013-04-29 ... 2018-05-28\n",
       "    mask     (y, x) uint8 dask.array<chunksize=(1000, 1000), meta=np.ndarray>\n",
       "    dem      (y, x) float32 dask.array<chunksize=(1000, 1000), meta=np.ndarray>\n",
       "    veg      (y, x) float32 dask.array<chunksize=(1000, 1000), meta=np.ndarray>\n",
       "Data variables:\n",
       "    snow     (time, y, x) int16 dask.array<chunksize=(1, 1000, 1000), meta=np.ndarray>"
      ]
     },
     "execution_count": 33,
     "metadata": {},
     "output_type": "execute_result"
    }
   ],
   "source": [
    "loadASO(fname, which_year=2018)"
   ]
  },
  {
   "cell_type": "code",
   "execution_count": null,
   "metadata": {},
   "outputs": [],
   "source": []
  }
 ],
 "metadata": {
  "kernelspec": {
   "display_name": "Python 3",
   "language": "python",
   "name": "python3"
  },
  "language_info": {
   "codemirror_mode": {
    "name": "ipython",
    "version": 3
   },
   "file_extension": ".py",
   "mimetype": "text/x-python",
   "name": "python",
   "nbconvert_exporter": "python",
   "pygments_lexer": "ipython3",
   "version": "3.6.9"
  }
 },
 "nbformat": 4,
 "nbformat_minor": 4
}
