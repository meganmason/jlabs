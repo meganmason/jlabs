{
 "cells": [
  {
   "cell_type": "code",
   "execution_count": 1,
   "metadata": {},
   "outputs": [],
   "source": [
    "%matplotlib inline \n",
    "\n",
    "import numpy as np\n",
    "import pandas as pd\n",
    "from scipy.stats import pearsonr \n",
    "import matplotlib.pyplot as plt\n",
    "import glob\n",
    "import os\n",
    "import time\n",
    "import xarray as xr\n",
    "\n",
    "import dask.array as da\n",
    "from dask.diagnostics import ProgressBar\n",
    "from dask.distributed import Client, LocalCluster\n",
    "\n"
   ]
  },
  {
   "cell_type": "markdown",
   "metadata": {},
   "source": [
    "#### Import compiled_SUPERsnow.nc"
   ]
  },
  {
   "cell_type": "code",
   "execution_count": 2,
   "metadata": {},
   "outputs": [
    {
     "data": {
      "text/plain": [
       "<xarray.Dataset>\n",
       "Dimensions:  (time: 6, x: 17569, y: 17002)\n",
       "Coordinates:\n",
       "  * x        (x) float32 254007.0 254010.0 254013.0 ... 306708.0 306711.0\n",
       "  * y        (y) float32 4230327.0 4230324.0 4230321.0 ... 4179327.0 4179324.0\n",
       "  * time     (time) datetime64[ns] 2013-04-03 2013-04-29 ... 2013-06-08\n",
       "    mask     (y, x) uint8 dask.array<shape=(17002, 17569), chunksize=(1000, 1000)>\n",
       "    dem      (y, x) float32 dask.array<shape=(17002, 17569), chunksize=(1000, 1000)>\n",
       "    veg      (y, x) float32 dask.array<shape=(17002, 17569), chunksize=(1000, 1000)>\n",
       "Data variables:\n",
       "    snow     (time, y, x) int16 dask.array<shape=(6, 17002, 17569), chunksize=(1, 1000, 1000)>"
      ]
     },
     "execution_count": 2,
     "metadata": {},
     "output_type": "execute_result"
    }
   ],
   "source": [
    "fname = '~/Documents/projects/thesis/results/output/compiled_SUPERsnow.nc'\n",
    "\n",
    "#ds full\n",
    "ds = xr.open_dataset(fname,  chunks={'time':1,'x':1000,'y':1000})\n",
    "ds.close()\n",
    "\n",
    "#~~~~~~~~~~~~~~ds small\n",
    "dsmall = ds.sel(time='2013')\n",
    "dsmall.close()\n",
    "\n",
    "ds = dsmall\n",
    "ds.close()\n",
    "\n",
    "#~~~~~~~~~~~ds peak\n",
    "# dpeak = ds.isel(time=[0,7,18,30,42,49]) #0,7,22,28,41,49]\n",
    "# dpeak.close()\n",
    "\n",
    "# ds = dpeak\n",
    "# ds.close()\n",
    "ds"
   ]
  },
  {
   "cell_type": "markdown",
   "metadata": {},
   "source": [
    "#### Plotting features:"
   ]
  },
  {
   "cell_type": "code",
   "execution_count": null,
   "metadata": {},
   "outputs": [],
   "source": [
    "# legends/labels\n",
    "d_str = pd.to_datetime(ds['time'].values).strftime(\"%m-%d-%Y\")\n",
    "print('number of legend labels:', len(d_str))\n",
    "\n",
    "\n",
    "# fontsize, linewitch, etc.\n",
    "fs_titles = 24\n",
    "fs_labels = 24\n",
    "fs_axes = 20\n",
    "fs_text = 20\n",
    "fs_legend = 20"
   ]
  },
  {
   "cell_type": "markdown",
   "metadata": {},
   "source": [
    "#### test terrain layers"
   ]
  },
  {
   "cell_type": "code",
   "execution_count": null,
   "metadata": {},
   "outputs": [],
   "source": [
    "# #brake filepath.......\n",
    "# terrain_path = ''\n",
    "# flist_terrain = sorted(glob.glob(terrain_path))\n",
    "# flist_terrain"
   ]
  },
  {
   "cell_type": "code",
   "execution_count": null,
   "metadata": {},
   "outputs": [],
   "source": [
    "# terrain = xr.open_dataset(flist_terrain[0]).rename({'Band1':'aspect'}) #, concat_dim='time', combine='nested', chunks={'x':1000, 'y':1000}, parallel=True)\n",
    "# terrain"
   ]
  },
  {
   "cell_type": "code",
   "execution_count": null,
   "metadata": {},
   "outputs": [],
   "source": [
    "# plt.imshow(terrain.aspect, cmap='Set2')"
   ]
  },
  {
   "cell_type": "markdown",
   "metadata": {},
   "source": [
    "#### test dask array"
   ]
  },
  {
   "cell_type": "code",
   "execution_count": null,
   "metadata": {},
   "outputs": [],
   "source": [
    "bigshape = (200000, 4000)\n",
    "chunk_shape = (1000, 1000)\n",
    "big_ones = da.ones(bigshape, chunks=chunk_shape)\n",
    "big_ones\n"
   ]
  },
  {
   "cell_type": "code",
   "execution_count": null,
   "metadata": {},
   "outputs": [],
   "source": [
    "big_calc = (big_ones * big_ones[::-1, ::-1]).mean()\n",
    "\n",
    "with ProgressBar():\n",
    "    result = big_calc.compute()\n",
    "result"
   ]
  },
  {
   "cell_type": "code",
   "execution_count": null,
   "metadata": {},
   "outputs": [],
   "source": [
    "mu = ds.snow.mean(dim=('x','y'))\n",
    "\n",
    "with ProgressBar():\n",
    "    result = mu.compute()\n",
    "result\n"
   ]
  },
  {
   "cell_type": "markdown",
   "metadata": {},
   "source": [
    "#### histogram leftovers..."
   ]
  },
  {
   "cell_type": "code",
   "execution_count": null,
   "metadata": {},
   "outputs": [],
   "source": [
    "# bar plot (you see the rounding gaps from [m] to [mm])\n",
    "fig=plt.figure(figsize=(10,5))\n",
    "plt.bar(bx,h, align='edge')\n",
    "plt.xlim(0,600)"
   ]
  },
  {
   "cell_type": "code",
   "execution_count": null,
   "metadata": {},
   "outputs": [],
   "source": [
    "#fig for one!\n",
    "fig=plt.figure(figsize=(10,5))\n",
    "plt.step(bx,h, lw=3, label = d_str[0])\n",
    "plt.fill_between(bx,h, step=\"pre\", alpha=0.3)\n",
    "plt.xlim(0,600)\n",
    "plt.legend()\n"
   ]
  },
  {
   "cell_type": "code",
   "execution_count": null,
   "metadata": {},
   "outputs": [],
   "source": [
    "def sns_histogram(x):\n",
    "    ax = sns.distplot(x[x !=0], hist=True, bins=binx)\n",
    "    return ax\n"
   ]
  },
  {
   "cell_type": "code",
   "execution_count": null,
   "metadata": {},
   "outputs": [],
   "source": [
    "binx = np.arange(0,2500,2)\n",
    "\n",
    "with ProgressBar():\n",
    "    ax = xr.apply_ufunc(sns_histogram, ds.snow[0].values/10, dask='parallelized', output_dtypes=[np.int16])\n"
   ]
  },
  {
   "cell_type": "code",
   "execution_count": null,
   "metadata": {},
   "outputs": [],
   "source": [
    "with ProgressBar(): #SAVED FIGS FROM HERE\n",
    "    for i in range(ds.time.size):\n",
    "        h, bx = xr.apply_ufunc(histogram, ds.snow[i].values/10, dask='parallelized', output_dtypes=[np.float32])\n",
    "        c_pal = color_palette('q')\n",
    "        step_hist_plt(h, bx, i, a, c_pal, alpha=0.2, lw=4, shaded=False)"
   ]
  },
  {
   "cell_type": "code",
   "execution_count": null,
   "metadata": {},
   "outputs": [],
   "source": [
    "#### time it\n",
    "t=time.time()\n",
    "tt=time.time()\n",
    "print('runtime =', (tt-t)/60)"
   ]
  },
  {
   "cell_type": "code",
   "execution_count": null,
   "metadata": {},
   "outputs": [],
   "source": [
    "ds"
   ]
  },
  {
   "cell_type": "markdown",
   "metadata": {},
   "source": [
    "#### one-to-one"
   ]
  },
  {
   "cell_type": "code",
   "execution_count": null,
   "metadata": {},
   "outputs": [],
   "source": [
    "dflat = ds.snow.values.flatten()\n",
    "# ds.snow.values(dim=('x','y')).flatten()\n",
    "dflat.size"
   ]
  },
  {
   "cell_type": "code",
   "execution_count": null,
   "metadata": {},
   "outputs": [],
   "source": [
    "# means=airtemps.mean(dim=('lat','lon'))\n",
    "# ds.Band1.max(dim='time')\n",
    "# ds.dims\n",
    "dflat = ds.snow.values(dim='time').flatten()"
   ]
  },
  {
   "cell_type": "code",
   "execution_count": null,
   "metadata": {},
   "outputs": [],
   "source": [
    "\n",
    "# plt.imshow(ds.isel(time=0).snow)\n",
    "# ds_flat = ds.sel('time').snow.values.flatten().shape\n",
    "\n"
   ]
  },
  {
   "cell_type": "code",
   "execution_count": null,
   "metadata": {},
   "outputs": [],
   "source": [
    "ds.snow['time'].isel(time=0)"
   ]
  },
  {
   "cell_type": "code",
   "execution_count": null,
   "metadata": {},
   "outputs": [],
   "source": [
    "#s1~~~~~~~\n",
    "s1 = ds.snow[0].values.flatten()\n",
    "s1_gt_zero = s1 > 0\n",
    "\n",
    "#s2~~~~~~\n",
    "s2 = ds.snow[1].values.flatten()\n",
    "s2_gt_zero = s2 > 0"
   ]
  },
  {
   "cell_type": "code",
   "execution_count": null,
   "metadata": {},
   "outputs": [],
   "source": [
    "print(s1.shape)\n",
    "print(s2.shape)"
   ]
  },
  {
   "cell_type": "code",
   "execution_count": null,
   "metadata": {},
   "outputs": [],
   "source": [
    "s2 = ds.snow.values[('x','y')].flatten()\n",
    "print(s2.shape)"
   ]
  },
  {
   "cell_type": "code",
   "execution_count": null,
   "metadata": {},
   "outputs": [],
   "source": [
    "plt.plot(s1, marker='.')"
   ]
  },
  {
   "cell_type": "code",
   "execution_count": null,
   "metadata": {},
   "outputs": [],
   "source": [
    "# def one_to_one (lidar_1, lidar_2):\n",
    "    \n",
    "# '''flatten lidar'''\n",
    "#         #lidar 1\n",
    "#     lidar_1_flat = ds.snow[lidar_1].values.flatten()\n",
    "#     lidar_1_gt_zero = lidar_1_flat > 0\n",
    "#         #lidar 2\n",
    "#     lidar_2_flat = ds.snow[lidar_2].values.flatten()\n",
    "#     lidar_2_gt_zero = lidar_2_flat > 0\n",
    "    \n",
    "# ''''mean w/o zeros''\n",
    "    \n",
    "# '''R2 value'''\n",
    "\n",
    "# '''Scatter plot'''\n",
    "    \n",
    "    \n",
    "def flatten(lidar):\n",
    "    lidar_flat = ds.snow[lidar].values.flatten()\n",
    "    lidar_flat_gt_zero = lidar_flat > 0\n",
    "    \n",
    "    return lidar_flat, lidar_flat_gt_zero\n",
    "\n",
    "# def plot_stats():\n",
    "#     txt_mean = np.nanmean(lidar_flat[lidar_flat_gt_zero])\n",
    "#     txt_mean_str = txt_mean \n",
    "# def one_to_one():\n",
    "    "
   ]
  },
  {
   "cell_type": "code",
   "execution_count": null,
   "metadata": {},
   "outputs": [],
   "source": [
    "for i in range(ds.time.size):\n",
    "    #print(ds.snow[i]) #prints each lidar layer\n",
    "    dp_1, dp_1_gt_zero = flatten(i)\n",
    "    for i_2 in range(i+1, ds.time.size):\n",
    "        #print(ds.snow[i_2]) #prints the subsequent lidar layer to use to compare \n",
    "        dp_2, dp_2_gt_zero = flatten(i_2)\n",
    "        break"
   ]
  },
  {
   "cell_type": "code",
   "execution_count": null,
   "metadata": {},
   "outputs": [],
   "source": [
    "dp_1.min()"
   ]
  },
  {
   "cell_type": "code",
   "execution_count": null,
   "metadata": {},
   "outputs": [],
   "source": [
    "# works for 1\n",
    "# plotting 1/3 of data (1,000,000)\n",
    "\n",
    "#template\n",
    "# ax = plt.scatter(y [ x>0 & y>0 ] / mean( y (y>0) ), x [ x>0 & y>0 ] / mean (x [ x>0 ]) )\n",
    "\n",
    "\n",
    "ax = plt.scatter(s2[s1_gt_zero & s2_gt_zero][:1000000] / np.nanmean(s2[s2_gt_zero]),\n",
    "            s1[s1_gt_zero & s2_gt_zero][:1000000] / np.nanmean(s1[s1_gt_zero]), alpha=0.01)\n"
   ]
  },
  {
   "cell_type": "code",
   "execution_count": null,
   "metadata": {},
   "outputs": [],
   "source": [
    "#string for ONE date\n",
    "# d = str(pd.to_datetime(ds['time'][0].values).date())\n",
    "\n",
    "#pd datetime (index??) for all dates. \n",
    "d = pd.to_datetime(ds['time'].values).strftime(\"%m-%d-%Y\")\n"
   ]
  },
  {
   "cell_type": "code",
   "execution_count": null,
   "metadata": {},
   "outputs": [],
   "source": [
    "d = []\n",
    "for d in range(ds.time.size):\n",
    "    print(d)\n",
    "#     vtimes.append(datetime.utcfromtimestamp(data.time[t].data.astype('O') / 1e9))\n",
    "    d.append(ds.time[d])\n",
    "print(d)"
   ]
  },
  {
   "cell_type": "code",
   "execution_count": null,
   "metadata": {},
   "outputs": [],
   "source": [
    "ds.time.size"
   ]
  },
  {
   "cell_type": "code",
   "execution_count": null,
   "metadata": {},
   "outputs": [],
   "source": [
    "# Create matrix with indices\n",
    "index_matrix = np.zeros((5,5), dtype = int)\n",
    "k_index = 1\n",
    "for i_row in range(5):\n",
    "    for i_column in range(5):\n",
    "        index_matrix[i_row, i_column] = k_index\n",
    "        k_index += 1\n",
    "\n",
    "\n",
    "for i_year in range(4):\n",
    "    ds.time\n",
    "        "
   ]
  },
  {
   "cell_type": "code",
   "execution_count": null,
   "metadata": {},
   "outputs": [],
   "source": [
    "# binx = np.arange(0,2500,10) #(start, stop, step by [cm])\n",
    "# i=0\n",
    "# with ProgressBar():   \n",
    "#     h, bx = xr.apply_ufunc(histogram, ds.snow[0].values/10, dask='parallelized', output_dtypes=[np.float32])\n",
    "#     step_hist_plt(h, bx, i)"
   ]
  },
  {
   "cell_type": "markdown",
   "metadata": {},
   "source": [
    "#### flatten, make new xarray"
   ]
  },
  {
   "cell_type": "code",
   "execution_count": null,
   "metadata": {},
   "outputs": [],
   "source": [
    "ds"
   ]
  },
  {
   "cell_type": "code",
   "execution_count": 3,
   "metadata": {},
   "outputs": [
    {
     "data": {
      "text/plain": [
       "<xarray.Dataset>\n",
       "Dimensions:  (time: 6, z: 298708138)\n",
       "Coordinates:\n",
       "  * time     (time) datetime64[ns] 2013-04-03 2013-04-29 ... 2013-06-08\n",
       "    mask     (z) uint8 dask.array<shape=(298708138,), chunksize=(935110,)>\n",
       "    dem      (z) float32 dask.array<shape=(298708138,), chunksize=(935110,)>\n",
       "    veg      (z) float32 dask.array<shape=(298708138,), chunksize=(935110,)>\n",
       "  * z        (z) MultiIndex\n",
       "  - x        (z) float64 2.54e+05 2.54e+05 2.54e+05 ... 3.067e+05 3.067e+05\n",
       "  - y        (z) float64 4.23e+06 4.23e+06 4.23e+06 ... 4.179e+06 4.179e+06\n",
       "Data variables:\n",
       "    snow     (time, z) int16 dask.array<shape=(6, 298708138), chunksize=(1, 935110)>"
      ]
     },
     "execution_count": 3,
     "metadata": {},
     "output_type": "execute_result"
    }
   ],
   "source": [
    "d = ds.stack(z=('x','y')) # d.indexes['z']\n",
    "\n",
    "d=d.astype(np.int16, copy=False)\n",
    "\n",
    "d"
   ]
  },
  {
   "cell_type": "code",
   "execution_count": 7,
   "metadata": {},
   "outputs": [
    {
     "name": "stdout",
     "output_type": "stream",
     "text": [
      "(298708138,)\n",
      "(298708138,)\n"
     ]
    }
   ],
   "source": [
    "print(d.snow[0].shape)\n",
    "print(d.snow[1].shape)\n"
   ]
  },
  {
   "cell_type": "code",
   "execution_count": 8,
   "metadata": {},
   "outputs": [
    {
     "ename": "AttributeError",
     "evalue": "module 'xarray.plot' has no attribute 'scatter'",
     "output_type": "error",
     "traceback": [
      "\u001b[0;31m---------------------------------------------------------------------------\u001b[0m",
      "\u001b[0;31mAttributeError\u001b[0m                            Traceback (most recent call last)",
      "\u001b[0;32m<ipython-input-8-f2cc8b49875b>\u001b[0m in \u001b[0;36m<module>\u001b[0;34m\u001b[0m\n\u001b[1;32m      1\u001b[0m \u001b[0;31m# ds.snow.plot.scatter()\u001b[0m\u001b[0;34m\u001b[0m\u001b[0;34m\u001b[0m\u001b[0;34m\u001b[0m\u001b[0m\n\u001b[0;32m----> 2\u001b[0;31m \u001b[0mxr\u001b[0m\u001b[0;34m.\u001b[0m\u001b[0mplot\u001b[0m\u001b[0;34m.\u001b[0m\u001b[0mscatter\u001b[0m\u001b[0;34m(\u001b[0m\u001b[0mds\u001b[0m\u001b[0;34m.\u001b[0m\u001b[0msnow\u001b[0m\u001b[0;34m[\u001b[0m\u001b[0;36m0\u001b[0m\u001b[0;34m]\u001b[0m\u001b[0;34m,\u001b[0m \u001b[0mds\u001b[0m\u001b[0;34m.\u001b[0m\u001b[0msnow\u001b[0m\u001b[0;34m[\u001b[0m\u001b[0;36m1\u001b[0m\u001b[0;34m]\u001b[0m\u001b[0;34m)\u001b[0m\u001b[0;34m\u001b[0m\u001b[0;34m\u001b[0m\u001b[0m\n\u001b[0m",
      "\u001b[0;31mAttributeError\u001b[0m: module 'xarray.plot' has no attribute 'scatter'"
     ]
    }
   ],
   "source": [
    "ds.plot.scatter()\n",
    "# xr.plot.scatter(ds.snow[0], ds.snow[1])"
   ]
  },
  {
   "cell_type": "code",
   "execution_count": null,
   "metadata": {},
   "outputs": [],
   "source": []
  }
 ],
 "metadata": {
  "kernelspec": {
   "display_name": "Python 3",
   "language": "python",
   "name": "python3"
  },
  "language_info": {
   "codemirror_mode": {
    "name": "ipython",
    "version": 3
   },
   "file_extension": ".py",
   "mimetype": "text/x-python",
   "name": "python",
   "nbconvert_exporter": "python",
   "pygments_lexer": "ipython3",
   "version": "3.6.7"
  }
 },
 "nbformat": 4,
 "nbformat_minor": 4
}
