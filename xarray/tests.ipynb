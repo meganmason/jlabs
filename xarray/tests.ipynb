{
 "cells": [
  {
   "cell_type": "code",
   "execution_count": 1,
   "metadata": {},
   "outputs": [],
   "source": [
    "%matplotlib inline \n",
    "\n",
    "import numpy as np\n",
    "import pandas as pd\n",
    "import matplotlib.pyplot as plt\n",
    "import glob\n",
    "import os\n",
    "import time\n",
    "import xarray as xr"
   ]
  },
  {
   "cell_type": "code",
   "execution_count": 2,
   "metadata": {},
   "outputs": [],
   "source": [
    "ars_path = '/home/meganmason/Documents/projects/thesis/data/processing_lidar/depths_3m/equal_extent_data_downsize/nc/20*/*int.nc'\n",
    "ars_topo_path = '/home/meganmason/Documents/projects/thesis/maps/map_layers/basin_ops/tuolumne/topo/basin_setup/topo.nc'\n",
    "\n",
    "bsu_path = '/Users/meganmason491/Documents/research/sierra/data/mm/20*/*int.nc'\n",
    "bsu_topo_path = '/Users/meganmason491/Documents/research/sierra/data/topo.nc'\n",
    "\n",
    "path = bsu_path\n",
    "topo_path = bsu_topo_path"
   ]
  },
  {
   "cell_type": "code",
   "execution_count": 3,
   "metadata": {},
   "outputs": [],
   "source": [
    "#filepath list, lidar\n",
    "flist = sorted(glob.glob(path))\n",
    "\n",
    "# Parse dates, store as pandas datetime type in list\n",
    "fparse = [d.split('/')[-1] for d in flist] #splits fname on '/' saves last\n",
    "fparse = [d.split('_')[0] for d in fparse] #splits fname on '_' saves first\n",
    "\n",
    "# flight dates, parsed from filename\n",
    "dates = pd.to_datetime(fparse) #pandas datetime variable, lidar dates"
   ]
  },
  {
   "cell_type": "code",
   "execution_count": null,
   "metadata": {},
   "outputs": [],
   "source": [
    "'''peak snow depth dates....(?)'''\n",
    "flist = list(flist[i] for i in (0,7,22,28,41,49))\n",
    "dates = list(dates[i] for i in (0,7,22,28,41,49))"
   ]
  },
  {
   "cell_type": "code",
   "execution_count": 4,
   "metadata": {},
   "outputs": [
    {
     "data": {
      "text/plain": [
       "<xarray.Dataset>\n",
       "Dimensions:  (time: 51, x: 17569, y: 17002)\n",
       "Coordinates:\n",
       "  * x        (x) float64 2.54e+05 2.54e+05 2.54e+05 ... 3.067e+05 3.067e+05\n",
       "  * y        (y) float64 4.179e+06 4.179e+06 4.179e+06 ... 4.23e+06 4.23e+06\n",
       "  * time     (time) datetime64[ns] 2013-04-03 2013-04-29 ... 2018-05-28\n",
       "Data variables:\n",
       "    snow     (time, y, x) int16 dask.array<chunksize=(1, 1000, 1000), meta=np.ndarray>"
      ]
     },
     "execution_count": 4,
     "metadata": {},
     "output_type": "execute_result"
    }
   ],
   "source": [
    "#load xarray, via multiple files\n",
    "# ds=xr.open_mfdataset(flist, concat_dim='time',chunks={'x':1000, 'y':1000}).rename({'Band1' : 'snow'}, inplace=True) #dataset\n",
    "ds=xr.open_mfdataset(flist, concat_dim='time', combine='nested', chunks={'x':1000, 'y':1000}, parallel=True).rename({'Band1':'snow'})\n",
    "ds.close()\n",
    "\n",
    "ds = ds.drop('transverse_mercator') #remove\n",
    "ds=ds.astype(np.int16, copy=False) #cast as int16 (32,767)\n",
    "ds['time'] = (['time'], dates) #add 'time' coordinate, default populates with dimension called 'time'\n",
    "# ds['snow'].values = ds.snow[::-1] # flip along y-axis (maybe do that as function, call: preprocess= <func_name> in open_mfds())\n",
    "ds\n"
   ]
  },
  {
   "cell_type": "code",
   "execution_count": 5,
   "metadata": {},
   "outputs": [],
   "source": [
    "#flip 'y' axis\n",
    "ds=np.flip(ds.snow,1) \n",
    "ds=ds.to_dataset()\n",
    "\n",
    "#NOTE:\n",
    "#use np flip\n",
    "    #where 1=horizontally (even though flip is vert, must be due to (y,x)??)\n",
    "    #Returns dataArray\n",
    "    #convert back to DataSet"
   ]
  },
  {
   "cell_type": "code",
   "execution_count": 6,
   "metadata": {},
   "outputs": [
    {
     "data": {
      "text/plain": [
       "<xarray.Dataset>\n",
       "Dimensions:  (time: 51, x: 17569, y: 17002)\n",
       "Coordinates:\n",
       "  * x        (x) float64 2.54e+05 2.54e+05 2.54e+05 ... 3.067e+05 3.067e+05\n",
       "  * y        (y) float64 4.23e+06 4.23e+06 4.23e+06 ... 4.179e+06 4.179e+06\n",
       "  * time     (time) datetime64[ns] 2013-04-03 2013-04-29 ... 2018-05-28\n",
       "Data variables:\n",
       "    snow     (time, y, x) int16 dask.array<chunksize=(1, 2, 1000), meta=np.ndarray>"
      ]
     },
     "execution_count": 6,
     "metadata": {},
     "output_type": "execute_result"
    }
   ],
   "source": [
    "ds"
   ]
  },
  {
   "cell_type": "code",
   "execution_count": null,
   "metadata": {},
   "outputs": [],
   "source": [
    "# imshow 'flipped' image\n",
    "\n",
    "plt.imshow(ds.snow[5])\n",
    "plt.colorbar()\n",
    "plt.show()\n",
    "\n",
    "#gets rid of zeros\n",
    "# d = np.where(ds.snow[5].values>0, ds.snow[5].values, np.nan)\n",
    "# plt.imshow(d/1000, vmax=5)\n",
    "\n",
    "#use isel()\n",
    "# plt.imshow(ds.isel(time=1).snow)"
   ]
  },
  {
   "cell_type": "code",
   "execution_count": null,
   "metadata": {},
   "outputs": [],
   "source": [
    "#alternative way (doesn't need to be flipped)\n",
    "# plt.contourf(ds.snow[0]/1000, vmax=5)\n",
    "# plt.show()"
   ]
  },
  {
   "cell_type": "code",
   "execution_count": null,
   "metadata": {},
   "outputs": [],
   "source": [
    "# #ONE LIDAR FLIGHT - Flip works!\n",
    "# f = flist[0]\n",
    "# print(f)\n",
    "\n",
    "# ds=xr.open_dataset(f).rename({'Band1':'snow'})\n",
    "# ds.close()\n",
    "\n",
    "# ds['snow'].values=ds.snow[::-1]\n",
    "# plt.imshow(ds.snow/1000)\n",
    "# plt.colorbar()\n",
    "# plt.title('correct basin orientation')\n",
    "# plt.show()"
   ]
  },
  {
   "cell_type": "code",
   "execution_count": null,
   "metadata": {},
   "outputs": [],
   "source": [
    "# #TWO LIDAR FLIGHT - FLIP DOESN'T WORK\n",
    "# f = flist[0:2]\n",
    "# print(len(f))\n",
    "\n",
    "# ds=xr.open_mfdataset(f, concat_dim='time',combine='nested').rename({'Band1':'snow'})\n",
    "# ds.close()\n",
    "# ds\n",
    "# ds['snow'].values=ds.snow[::-1]\n",
    "# plt.imshow(ds.snow[1])\n",
    "# plt.colorbar()\n",
    "# plt.show()"
   ]
  },
  {
   "cell_type": "markdown",
   "metadata": {},
   "source": [
    "#### Add TOPO.NC (dem, mask, veg_height)"
   ]
  },
  {
   "cell_type": "code",
   "execution_count": 7,
   "metadata": {},
   "outputs": [
    {
     "data": {
      "text/plain": [
       "<xarray.Dataset>\n",
       "Dimensions:     (x: 17569, y: 17002)\n",
       "Coordinates:\n",
       "  * y           (y) float32 4230327.0 4230324.0 ... 4179327.0 4179324.0\n",
       "  * x           (x) float32 254007.0 254010.0 254013.0 ... 306708.0 306711.0\n",
       "Data variables:\n",
       "    veg_height  (y, x) float32 dask.array<chunksize=(1000, 1000), meta=np.ndarray>\n",
       "    dem         (y, x) float32 dask.array<chunksize=(1000, 1000), meta=np.ndarray>\n",
       "    mask        (y, x) uint8 dask.array<chunksize=(1000, 1000), meta=np.ndarray>\n",
       "Attributes:\n",
       "    last_modified:       [2019-08-08 17:17:16] Data added or updated\n",
       "    Conventions:         CF-1.6\n",
       "    dateCreated:         2019-08-08 17:17:34\n",
       "    Title:               Topographic Images for SMRF/AWSM\n",
       "    history:             [2019-08-08 17:17:34] Create netCDF4 file using Basi...\n",
       "    institution:         USDA Agricultural Research Service, Northwest Waters...\n",
       "    generation_command:  /usr/local/bin/basin_setup -f corrected_tuolumne_sub..."
      ]
     },
     "execution_count": 7,
     "metadata": {},
     "output_type": "execute_result"
    }
   ],
   "source": [
    "# open topo.nc\n",
    "topo = xr.open_dataset(topo_path, drop_variables=['veg_tau','veg_k','veg_type','projection'], chunks={'x':1000, 'y':1000})\n",
    "topo.close()\n",
    "topo"
   ]
  },
  {
   "cell_type": "code",
   "execution_count": null,
   "metadata": {},
   "outputs": [],
   "source": [
    "# #flipping topo - this works, but result is \"whole\" ds is upside down. Plot with imshow(data, origin='lower')\n",
    "# mud=np.flip(topo.mask,axis=0)\n",
    "# mud.to_dataset()\n",
    "# mud\n",
    "# # plt.imshow(mud)\n",
    "# #add topo features to lidar DataSet (ds)\n",
    "# ds['mask'] = (['y','x'],np.flip(topo.mask, axis=0))\n",
    "# ds['dem'] = (['y','x'],np.flip(topo.dem, axis=0)\n",
    "# ds['veg'] = (['y','x'],np.flip(topo.veg_height, axis=0)"
   ]
  },
  {
   "cell_type": "code",
   "execution_count": 8,
   "metadata": {},
   "outputs": [],
   "source": [
    "#add topo features to lidar DataSet (ds)\n",
    "ds['mask'] = (['y','x'],topo.mask)\n",
    "ds['dem'] = (['y','x'],topo.dem)\n",
    "ds['veg'] = (['y','x'],topo.veg_height)"
   ]
  },
  {
   "cell_type": "code",
   "execution_count": 9,
   "metadata": {},
   "outputs": [
    {
     "data": {
      "text/plain": [
       "<xarray.Dataset>\n",
       "Dimensions:  (time: 51, x: 17569, y: 17002)\n",
       "Coordinates:\n",
       "  * x        (x) float64 2.54e+05 2.54e+05 2.54e+05 ... 3.067e+05 3.067e+05\n",
       "  * y        (y) float64 4.23e+06 4.23e+06 4.23e+06 ... 4.179e+06 4.179e+06\n",
       "  * time     (time) datetime64[ns] 2013-04-03 2013-04-29 ... 2018-05-28\n",
       "Data variables:\n",
       "    snow     (time, y, x) int16 dask.array<chunksize=(1, 2, 1000), meta=np.ndarray>\n",
       "    mask     (y, x) uint8 0 0 0 0 0 0 0 0 0 0 0 0 0 ... 0 0 0 0 0 0 0 0 0 0 0 0\n",
       "    dem      (y, x) float32 2633.369 2635.3313 2635.3313 ... 3064.8484 3064.3577\n",
       "    veg      (y, x) float32 0.0 0.0 0.0 0.0 0.0 0.0 ... 17.5 17.5 17.5 17.5 17.5"
      ]
     },
     "execution_count": 9,
     "metadata": {},
     "output_type": "execute_result"
    }
   ],
   "source": [
    "ds"
   ]
  },
  {
   "cell_type": "code",
   "execution_count": null,
   "metadata": {},
   "outputs": [],
   "source": [
    "plt.imshow(ds.dem.where(ds.mask==1))\n",
    "plt.colorbar()\n",
    "plt.title('Tuolumne DEM with mask==1')\n",
    "plt.show()"
   ]
  },
  {
   "cell_type": "code",
   "execution_count": null,
   "metadata": {},
   "outputs": [],
   "source": [
    "# plot snow with mask (up/down issue)\n",
    "plt.imshow(ds.snow[0].where(ds.mask==1))\n",
    "# plt.imshow(ds.snow[0].where(ds.mask==1), origin='lower')\n",
    "plt.colorbar()\n",
    "plt.title('snow when mask==1')\n",
    "plt.show()"
   ]
  },
  {
   "cell_type": "markdown",
   "metadata": {},
   "source": [
    "#### DataSet where Mask==1 (fail....)"
   ]
  },
  {
   "cell_type": "code",
   "execution_count": 10,
   "metadata": {},
   "outputs": [
    {
     "data": {
      "text/plain": [
       "<xarray.Dataset>\n",
       "Dimensions:  (time: 51, x: 17569, y: 17002)\n",
       "Coordinates:\n",
       "  * x        (x) float64 2.54e+05 2.54e+05 2.54e+05 ... 3.067e+05 3.067e+05\n",
       "  * y        (y) float64 4.23e+06 4.23e+06 4.23e+06 ... 4.179e+06 4.179e+06\n",
       "  * time     (time) datetime64[ns] 2013-04-03 2013-04-29 ... 2018-05-28\n",
       "    mask     (y, x) uint8 0 0 0 0 0 0 0 0 0 0 0 0 0 ... 0 0 0 0 0 0 0 0 0 0 0 0\n",
       "Data variables:\n",
       "    snow     (time, y, x) int16 dask.array<chunksize=(1, 2, 1000), meta=np.ndarray>\n",
       "    dem      (y, x) float32 2633.369 2635.3313 2635.3313 ... 3064.8484 3064.3577\n",
       "    veg      (y, x) float32 0.0 0.0 0.0 0.0 0.0 0.0 ... 17.5 17.5 17.5 17.5 17.5"
      ]
     },
     "execution_count": 10,
     "metadata": {},
     "output_type": "execute_result"
    }
   ],
   "source": [
    "# ds['time'] = (['time'], dates)\n",
    "# ds['mask1'] = (['mask1'], ds.mask==1)\n",
    "# ds\n",
    "# dss=np.where(ds.mask==1)\n",
    "# dss\n",
    "ds = ds.assign_coords(mask=ds.mask)\n",
    "ds"
   ]
  },
  {
   "cell_type": "code",
   "execution_count": 14,
   "metadata": {},
   "outputs": [
    {
     "data": {
      "text/plain": [
       "<xarray.Dataset>\n",
       "Dimensions:  (time: 51, x: 17569, y: 17002)\n",
       "Coordinates:\n",
       "  * x        (x) float64 2.54e+05 2.54e+05 2.54e+05 ... 3.067e+05 3.067e+05\n",
       "  * y        (y) float64 4.23e+06 4.23e+06 4.23e+06 ... 4.179e+06 4.179e+06\n",
       "  * time     (time) datetime64[ns] 2013-04-03 2013-04-29 ... 2018-05-28\n",
       "    mask     (y, x) uint8 0 0 0 0 0 0 0 0 0 0 0 0 0 ... 0 0 0 0 0 0 0 0 0 0 0 0\n",
       "Data variables:\n",
       "    snow     (time, y, x) int16 dask.array<chunksize=(1, 2, 1000), meta=np.ndarray>\n",
       "    dem      (y, x) float32 2633.369 2635.3313 2635.3313 ... 3064.8484 3064.3577\n",
       "    veg      (y, x) float32 0.0 0.0 0.0 0.0 0.0 0.0 ... 17.5 17.5 17.5 17.5 17.5"
      ]
     },
     "execution_count": 14,
     "metadata": {},
     "output_type": "execute_result"
    }
   ],
   "source": [
    "ds"
   ]
  },
  {
   "cell_type": "code",
   "execution_count": 23,
   "metadata": {},
   "outputs": [],
   "source": [
    "# ds(ds.sel(mask='1'))\n",
    "ds=ds.where(ds.mask==1)\n",
    "\n",
    "# plt.imshow(ds.mask)"
   ]
  },
  {
   "cell_type": "code",
   "execution_count": 26,
   "metadata": {},
   "outputs": [
    {
     "data": {
      "text/plain": [
       "<xarray.Dataset>\n",
       "Dimensions:  (time: 51, x: 17569, y: 17002)\n",
       "Coordinates:\n",
       "  * x        (x) float64 2.54e+05 2.54e+05 2.54e+05 ... 3.067e+05 3.067e+05\n",
       "  * y        (y) float64 4.23e+06 4.23e+06 4.23e+06 ... 4.179e+06 4.179e+06\n",
       "  * time     (time) datetime64[ns] 2013-04-03 2013-04-29 ... 2018-05-28\n",
       "    mask     (y, x) uint8 0 0 0 0 0 0 0 0 0 0 0 0 0 ... 0 0 0 0 0 0 0 0 0 0 0 0\n",
       "Data variables:\n",
       "    snow     (time, y, x) float64 dask.array<chunksize=(1, 2, 1000), meta=np.ndarray>\n",
       "    dem      (y, x) float32 nan nan nan nan nan nan ... nan nan nan nan nan nan\n",
       "    veg      (y, x) float32 nan nan nan nan nan nan ... nan nan nan nan nan nan"
      ]
     },
     "execution_count": 26,
     "metadata": {},
     "output_type": "execute_result"
    }
   ],
   "source": [
    "ds"
   ]
  },
  {
   "cell_type": "code",
   "execution_count": 25,
   "metadata": {},
   "outputs": [
    {
     "data": {
      "text/plain": [
       "<matplotlib.image.AxesImage at 0x32556ab00>"
      ]
     },
     "execution_count": 25,
     "metadata": {},
     "output_type": "execute_result"
    },
    {
     "data": {
      "image/png": "[encoded data removed]",
      "text/plain": [
       "<Figure size 432x288 with 1 Axes>"
      ]
     },
     "metadata": {
      "needs_background": "light"
     },
     "output_type": "display_data"
    }
   ],
   "source": [
    "plt.imshow(ds.snow[0], cmap='jet')"
   ]
  },
  {
   "cell_type": "code",
   "execution_count": null,
   "metadata": {},
   "outputs": [],
   "source": [
    "ds.to_netcdf('~/Documents/research/sierra/analysis/results/tmp/aligned.nc')"
   ]
  },
  {
   "cell_type": "code",
   "execution_count": null,
   "metadata": {},
   "outputs": [],
   "source": []
  }
 ],
 "metadata": {
  "kernelspec": {
   "display_name": "Python 3",
   "language": "python",
   "name": "python3"
  },
  "language_info": {
   "codemirror_mode": {
    "name": "ipython",
    "version": 3
   },
   "file_extension": ".py",
   "mimetype": "text/x-python",
   "name": "python",
   "nbconvert_exporter": "python",
   "pygments_lexer": "ipython3",
   "version": "3.6.9"
  }
 },
 "nbformat": 4,
 "nbformat_minor": 4
}
