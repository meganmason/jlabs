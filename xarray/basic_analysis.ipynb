{
 "cells": [
  {
   "cell_type": "code",
   "execution_count": null,
   "metadata": {},
   "outputs": [],
   "source": [
    "%matplotlib inline \n",
    "\n",
    "import numpy as np\n",
    "import pandas as pd\n",
    "import matplotlib.pyplot as plt\n",
    "import glob\n",
    "import os\n",
    "import time\n",
    "import xarray as xr"
   ]
  },
  {
   "cell_type": "code",
   "execution_count": null,
   "metadata": {},
   "outputs": [],
   "source": [
    "fname = '~/Documents/projects/thesis/results/output/compiled_SUPERsnow.nc'\n",
    "\n",
    "ds = xr.open_dataset(fname,  chunks={'time':1,'x':1000,'y':1000})\n",
    "ds.close()"
   ]
  },
  {
   "cell_type": "code",
   "execution_count": null,
   "metadata": {},
   "outputs": [],
   "source": [
    "#Select peak snow dates\n",
    "dsmall = ds.sel(time='2017')\n",
    "dsmall.close()\n",
    "\n",
    "# '''peak snow depth dates....(?)'''\n",
    "# flist = list(flist[i] for i in (0,7,22,28,41,49))\n",
    "# dates = list(dates[i] for i in (0,7,22,28,41,49))"
   ]
  },
  {
   "cell_type": "code",
   "execution_count": null,
   "metadata": {},
   "outputs": [],
   "source": [
    "plt.imshow(ds.snow[0]/1000, cmap='coolwarm'); plt.colorbar(); plt.title('One snow depth image'); plt.show() #zeros outside of mask because nans=float, 0=ints\n",
    "plt.imshow(ds.dem, cmap='terrain'); plt.colorbar(); plt.title('DEM'); plt.show()\n",
    "plt.imshow(ds.veg, cmap='Greens'); plt.colorbar(); plt.title('Veg Height'); plt.show()"
   ]
  },
  {
   "cell_type": "markdown",
   "metadata": {},
   "source": [
    "#### Normalized variance for flights closest to peak SWE dates"
   ]
  },
  {
   "cell_type": "code",
   "execution_count": null,
   "metadata": {},
   "outputs": [],
   "source": [
    "## MM with Charlie\n",
    "\n",
    "# # Normalized variance for flights closest to peak SWE dates\n",
    "# #~~~~~~~~~~~~~~~~~~~~~~~~~~~~~~~~~~~~~~~~~~~~~~~~~~~~~~~~~~~~~~~~~~~~~~~~~~\n",
    "# # 1). mean snow depth for each year (get 6 means for each year, 2013-2018 (compute without zeros ideally))\n",
    "# # means=ds.snow.mean(dim=('x', 'y')) #ds.mean(dim=('x','y')--mean over all layers)\n",
    "# # means\n",
    "\n",
    "# #~~~~~~~~~~~~~~~~~~~~~~~~~~~~~~~~~~~~~~~~~~~~~~~~~~~~~~~~~~~~~~~~~~~~~~~~~~\n",
    "# # 2). standardize lidar\n",
    "\n",
    "# def standard(x):\n",
    "#     a = np.where(x>0, x, np.nan)\n",
    "#     return x/np.nanmean(a)\n",
    "\n",
    "# s = xr.apply_ufunc(standard, ds.snow)\n",
    "\n",
    "# #~~~~~~~~~~~~~~~~~~~~~~~~~~~~~~~~~~~~~~~~~~~~~~~~~~~~~~~~~~~~~~~~~~~~~~~~~~\n",
    "# # 3). compute normalized variance for peak SWE dates\n",
    "# s_var=np.nanvar(s,axis=0) #np language"
   ]
  },
  {
   "cell_type": "code",
   "execution_count": null,
   "metadata": {},
   "outputs": [],
   "source": [
    "## MM working\n",
    "ds = dsmall\n",
    "ds.close()\n",
    "\n",
    "# Normalized variance for flights closest to peak SWE dates\n",
    "#~~~~~~~~~~~~~~~~~~~~~~~~~~~~~~~~~~~~~~~~~~~~~~~~~~~~~~~~~~~~~~~~~~~~~~~~~~\n",
    "# 1). mean snow depth for each year (get 6 means for each year, 2013-2018 (compute without zeros ideally))\n",
    "# means=ds.snow.mean(dim=('x', 'y')) #ds.mean(dim=('x','y')--mean over all layers)\n",
    "# means\n",
    "\n",
    "#~~~~~~~~~~~~~~~~~~~~~~~~~~~~~~~~~~~~~~~~~~~~~~~~~~~~~~~~~~~~~~~~~~~~~~~~~~\n",
    "# 2). standardize lidar\n",
    "\n",
    "def standard(x):\n",
    "    a = np.where(x>0, x, np.nan)\n",
    "    return x/np.nanmean(a)\n",
    "\n",
    "s = xr.apply_ufunc(standard, ds.snow, dask='parallelized', output_dtypes=[np.int16])\n",
    "\n",
    "#~~~~~~~~~~~~~~~~~~~~~~~~~~~~~~~~~~~~~~~~~~~~~~~~~~~~~~~~~~~~~~~~~~~~~~~~~~\n",
    "# 3). compute normalized variance for peak SWE dates\n",
    "s_var=np.nanstd(s,axis=0) #np language"
   ]
  },
  {
   "cell_type": "code",
   "execution_count": null,
   "metadata": {},
   "outputs": [],
   "source": [
    "fig = plt.figure(figsize=(15, 10))\n",
    "plt.imshow(np.where(s_var>0,s_var,np.nan),cmap='jet', vmax=1)\n",
    "plt.colorbar()\n",
    "plt.show()"
   ]
  },
  {
   "cell_type": "code",
   "execution_count": null,
   "metadata": {},
   "outputs": [],
   "source": []
  }
 ],
 "metadata": {
  "kernelspec": {
   "display_name": "Python 3",
   "language": "python",
   "name": "python3"
  },
  "language_info": {
   "codemirror_mode": {
    "name": "ipython",
    "version": 3
   },
   "file_extension": ".py",
   "mimetype": "text/x-python",
   "name": "python",
   "nbconvert_exporter": "python",
   "pygments_lexer": "ipython3",
   "version": "3.6.7"
  }
 },
 "nbformat": 4,
 "nbformat_minor": 4
}
