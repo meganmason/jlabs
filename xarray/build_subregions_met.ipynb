{
 "cells": [
  {
   "cell_type": "code",
   "execution_count": 1,
   "metadata": {},
   "outputs": [],
   "source": [
    "import pandas as pd\n",
    "import numpy as np\n",
    "import xarray as xr\n",
    "import os\n",
    "import glob\n",
    "import time\n",
    "import matplotlib as mpl\n",
    "import matplotlib.pyplot as plt\n",
    "import seaborn as sns\n",
    "from scipy.stats import pearsonr\n",
    "from scipy.stats import norm\n",
    "from dask.diagnostics import ProgressBar\n",
    "from dask.distributed import Client, LocalCluster"
   ]
  },
  {
   "cell_type": "markdown",
   "metadata": {},
   "source": [
    "#### This script grabs slices from Tuolumne Basin by the 'x' and 'y' UTMs.\n",
    "##### pix = variable that defines the number of pixels in each direction from a midpoint. \n",
    "      **NOTE** - pix variable is in there twice! Change for both or correct to just one location when running a new area!!\n",
    "##### pix_value * 2 is the distance for the box size. "
   ]
  },
  {
   "cell_type": "markdown",
   "metadata": {},
   "source": [
    "## ADD LIDAR DATA\n",
    "##### open inputs"
   ]
  },
  {
   "cell_type": "code",
   "execution_count": 2,
   "metadata": {},
   "outputs": [],
   "source": [
    "fname = '/Users/meganmason491/Documents/research/sierra/data/compiled_SUPERsnow.nc' #3m BSU\n",
    "# fname = '/Users/megmason/research/sierra/data/compiled_SUPERsnow_20m.nc' #20m mac #CAREFUL THIS IS 20m DATA\n",
    "\n",
    "#open data\n",
    "ds = xr.open_dataset(fname, chunks={'time':1,'x':1000,'y':1000})\n",
    "ds['snow'] = ds.snow / 10\n",
    "ds.attrs['units'] = 'cm'\n",
    "ds=ds.astype(np.int16, copy=False)\n",
    "ds.close()"
   ]
  },
  {
   "cell_type": "markdown",
   "metadata": {},
   "source": [
    "##### clip and plot"
   ]
  },
  {
   "cell_type": "code",
   "execution_count": null,
   "metadata": {},
   "outputs": [],
   "source": [
    "# #station slices\n",
    "# pix = 501 #multipy by 2 to get x and y distance of box sz (cheatsheet: 15=30m, 75=150m, 501=1000m...yes 501, 702/2300=3000m, 702/3300=4000m)\n",
    "# pix_2 = 501\n",
    "# dan = ds.sel(x=slice(301506.-pix, 301506.+pix_2), y=slice(4196685.+(pix-750), 4196685.-(pix_2+750))) #x=301506.26, y=4196685.89\n",
    "# tum = ds.sel(x=slice(293484.-pix, 293484.+pix_2), y=slice(4194702.+pix, 4194701.-pix_2)) #x=293484.72, y=4194701.07\n",
    "# sli = ds.sel(x=slice(286708.-pix, 286710.+pix_2), y=slice(4218828.+pix, 4218826.-pix_2)) #x=286708.13, y=42188826.62 #due to rounding, made x and y have 2 pix apart\n",
    "\n",
    "# # # dan.isel(time=32).snow.plot()\n",
    "# d = dan.isel(time=slice(0,51,10)).snow.plot(x='x', y='y', cmap='RdBu', col='time', vmax=250)\n",
    "# t = tum.isel(time=slice(0,51,10)).snow.plot(x='x', y='y', cmap='RdBu', col='time', vmax=250)\n",
    "# s = sli.isel(time=slice(0,51,10)).snow.plot(x='x', y='y', cmap='RdBu', col='time', vmax=250)\n",
    "\n",
    "# print('dana meadow')\n",
    "# print('x direction length {} [m]:'.format(dan.x.max().values - dan.x.min().values))\n",
    "# print('y direction length {} [m]:'.format(dan.y.max().values - dan.y.min().values))\n",
    "\n",
    "# print('tuolumne meadow')\n",
    "# print('x direction length {} [m]:'.format(tum.x.max().values - tum.x.min().values))\n",
    "# print('y direction length {} [m]:'.format(tum.y.max().values - tum.y.min().values))\n",
    "\n",
    "# print('slide canyon')\n",
    "# print('x direction length {} [m]:'.format(sli.x.max().values - sli.x.min().values))\n",
    "# print('y direction length {} [m]:'.format(sli.y.max().values - sli.y.min().values))"
   ]
  },
  {
   "cell_type": "code",
   "execution_count": null,
   "metadata": {},
   "outputs": [],
   "source": [
    "#mountain slices\n"
   ]
  },
  {
   "cell_type": "markdown",
   "metadata": {},
   "source": [
    "##### save output"
   ]
  },
  {
   "cell_type": "code",
   "execution_count": null,
   "metadata": {},
   "outputs": [],
   "source": [
    "#grab box size for output filename\n",
    "bx_sz = round(pix+pix_2, -1)\n",
    "\n",
    "#save station boxes as netCDFs\n",
    "dan.to_netcdf('/Users/meganmason491/Documents/research/sierra/data/compiled_SUPERsnow_{}m_dan.nc'.format(bx_sz))\n",
    "tum.to_netcdf('/Users/meganmason491/Documents/research/sierra/data/compiled_SUPERsnow_{}m_tum.nc'.format(bx_sz))\n",
    "sli.to_netcdf('/Users/meganmason491/Documents/research/sierra/data/compiled_SUPERsnow_{}m_sli.nc'.format(bx_sz))"
   ]
  },
  {
   "cell_type": "markdown",
   "metadata": {},
   "source": [
    "## ADD TERRAIN DATA\n",
    "##### open inputs"
   ]
  },
  {
   "cell_type": "code",
   "execution_count": null,
   "metadata": {},
   "outputs": [],
   "source": [
    "fpath = '/Users/meganmason491/Documents/research/sierra/data/terrain/*flipped*.nc' #BSU\n",
    "# fpath = '' #mac\n",
    "\n",
    "terrain=xr.open_mfdataset(fpath, \n",
    "                          concat_dim=None, \n",
    "                          combine='nested', \n",
    "                          chunks={'x':1000, 'y':1000}, \n",
    "                          parallel=True) \n",
    "terrain = terrain.where(ds.mask==1)\n",
    "terrain.close()"
   ]
  },
  {
   "cell_type": "markdown",
   "metadata": {},
   "source": [
    "##### clip and plot"
   ]
  },
  {
   "cell_type": "code",
   "execution_count": null,
   "metadata": {},
   "outputs": [],
   "source": [
    "#station slices (for terrain)\n",
    "pix = 501 #multipy by 2 to get x and y distance of box sz (cheatsheet: 15=30m, 75=150m, 501=1000m...yes 501, 702/2300=3000m, 702/3300=4000m)\n",
    "pix_2 = 501\n",
    "t_dan = terrain.sel(x=slice(301506.-pix, 301506.+pix_2), y=slice(4196685.+(pix-750), 4196685.-(pix_2+750))) #x=301506.26, y=4196685.89\n",
    "t_tum = terrain.sel(x=slice(293484.-pix, 293484.+pix_2), y=slice(4194702.+pix, 4194701.-pix_2)) #x=293484.72, y=4194701.07\n",
    "t_sli = terrain.sel(x=slice(286708.-pix, 286710.+pix_2), y=slice(4218828.+pix, 4218826.-pix_2)) #x=286708.13, y=42188826.62 #due to rounding, made x and y have 2 pix apart\n",
    "\n",
    "\n",
    "vlist=['hillshade', 'aspect', 'slope'] #plots could be improved (ie more labels and colors....but that's for later!)\n",
    "for var in vlist:\n",
    "    print(var)\n",
    "    h = t_dan[var].plot.imshow(label=var); plt.show()\n",
    "    a = t_tum[var].plot.imshow(label=var); plt.show()\n",
    "    s = t_sli[var].plot.imshow(label=var); plt.show()\n",
    "\n",
    "print('dana meadow')\n",
    "print('x direction length {} [m]:'.format(t_dan.x.max().values - t_dan.x.min().values))\n",
    "print('y direction length {} [m]:'.format(t_dan.y.max().values - t_dan.y.min().values))\n",
    "\n",
    "print('tuolumne meadow')\n",
    "print('x direction length {} [m]:'.format(t_tum.x.max().values - t_tum.x.min().values))\n",
    "print('y direction length {} [m]:'.format(t_tum.y.max().values - t_tum.y.min().values))\n",
    "\n",
    "print('slide canyon')\n",
    "print('x direction length {} [m]:'.format(t_sli.x.max().values - t_sli.x.min().values))\n",
    "print('y direction length {} [m]:'.format(t_sli.y.max().values - t_sli.y.min().values))"
   ]
  },
  {
   "cell_type": "markdown",
   "metadata": {},
   "source": [
    "##### save output"
   ]
  },
  {
   "cell_type": "code",
   "execution_count": null,
   "metadata": {},
   "outputs": [],
   "source": [
    "#grab box size for output filename\n",
    "bx_sz = round(pix+pix_2, -1)\n",
    "print(bx_sz)\n",
    "#save terrain station boxes as netCDFs\n",
    "t_dan.to_netcdf('/Users/meganmason491/Documents/research/sierra/data/terrain/terrainMet_{}m_dan.nc'.format(bx_sz))\n",
    "t_tum.to_netcdf('/Users/meganmason491/Documents/research/sierra/data/terrain/terrainMet_{}m_tum.nc'.format(bx_sz))\n",
    "t_sli.to_netcdf('/Users/meganmason491/Documents/research/sierra/data/terrain/terrainMet_{}m_sli.nc'.format(bx_sz))"
   ]
  },
  {
   "cell_type": "markdown",
   "metadata": {},
   "source": [
    "##### Running list of specific cordinates"
   ]
  },
  {
   "cell_type": "code",
   "execution_count": null,
   "metadata": {},
   "outputs": [],
   "source": [
    "# DATE: 3-9-2020\n",
    "#~~~~30, 150, and 1000 m boxes\n",
    "# dan = ds.sel(x=slice(301506.-pix, 301506.+pix), y=slice(4196685.+pix, 4196685.-pix)) #x=301506.26, y=4196685.89 = Dana Meadow SNOTEL\n",
    "# tum = ds.sel(x=slice(293484.-pix, 293484.+pix), y=slice(4194702.+pix, 4194701.-pix)) #x=293484.72, y=4194701.07 = Tuolumne Meadow SNOTEL\n",
    "# sli = ds.sel(x=slice(286708.-pix, 286710.+pix), y=slice(4218828.+pix, 4218826.-pix)) #x=286708.13, y=42188826.62 = Slide Canyon SNOTEL\n",
    "\n",
    "# DATE: "
   ]
  }
 ],
 "metadata": {
  "kernelspec": {
   "display_name": "Python 3",
   "language": "python",
   "name": "python3"
  },
  "language_info": {
   "codemirror_mode": {
    "name": "ipython",
    "version": 3
   },
   "file_extension": ".py",
   "mimetype": "text/x-python",
   "name": "python",
   "nbconvert_exporter": "python",
   "pygments_lexer": "ipython3",
   "version": "3.6.9"
  }
 },
 "nbformat": 4,
 "nbformat_minor": 4
}
