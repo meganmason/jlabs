{
 "cells": [
  {
   "cell_type": "code",
   "execution_count": 6,
   "metadata": {},
   "outputs": [],
   "source": [
    "%matplotlib inline \n",
    "\n",
    "import numpy as np\n",
    "import pandas as pd\n",
    "import matplotlib.pyplot as plt\n",
    "import glob\n",
    "import os\n",
    "import time\n",
    "import xarray as xr"
   ]
  },
  {
   "cell_type": "markdown",
   "metadata": {},
   "source": [
    "#### Filepaths and Filelist"
   ]
  },
  {
   "cell_type": "code",
   "execution_count": 7,
   "metadata": {},
   "outputs": [
    {
     "name": "stdout",
     "output_type": "stream",
     "text": [
      "<class 'list'>\n",
      "['/Users/megmason/Desktop/nc_2014/20140323_SUPERsnow_depth_3m.nc', '/Users/megmason/Desktop/nc_2014/20140407_SUPERsnow_depth_3m.nc', '/Users/megmason/Desktop/nc_2014/20140413_SUPERsnow_depth_3m.nc', '/Users/megmason/Desktop/nc_2014/20140420_SUPERsnow_depth_3m.nc', '/Users/megmason/Desktop/nc_2014/20140428_SUPERsnow_depth_3m.nc', '/Users/megmason/Desktop/nc_2014/20140502_SUPERsnow_depth_3m.nc', '/Users/megmason/Desktop/nc_2014/20140511_SUPERsnow_depth_3m.nc', '/Users/megmason/Desktop/nc_2014/20140517_SUPERsnow_depth_3m.nc', '/Users/megmason/Desktop/nc_2014/20140527_SUPERsnow_depth_3m.nc', '/Users/megmason/Desktop/nc_2014/20140531_SUPERsnow_depth_3m.nc', '/Users/megmason/Desktop/nc_2014/20140605_SUPERsnow_depth_3m.nc']\n"
     ]
    }
   ],
   "source": [
    "#ars path\n",
    "# path = '/home/meganmason/Documents/projects/thesis/data/processing_lidar/depths_3m/equal_extent_data_downsize/nc/2013/*.nc'\n",
    "#mm path\n",
    "path = '/Users/megmason/Desktop/nc_2014/*.nc'\n",
    "flist = glob.glob(path)\n",
    "print(type(flist))\n",
    "print(flist)"
   ]
  },
  {
   "cell_type": "markdown",
   "metadata": {},
   "source": [
    "#### Create and Close XarrayDataset"
   ]
  },
  {
   "cell_type": "code",
   "execution_count": 8,
   "metadata": {},
   "outputs": [],
   "source": [
    "ds=xr.open_mfdataset(flist, concat_dim='time') #dataset\n",
    "ds.close()"
   ]
  },
  {
   "cell_type": "markdown",
   "metadata": {},
   "source": [
    "#### float to int (still testing...IF RUN, LOOSES 'BAND1' (??)"
   ]
  },
  {
   "cell_type": "code",
   "execution_count": 9,
   "metadata": {},
   "outputs": [
    {
     "data": {
      "text/plain": [
       "<xarray.DataArray 'Band1' (time: 11, y: 16781, x: 17568)>\n",
       "dask.array<shape=(11, 16781, 17568), dtype=int16, chunksize=(1, 16781, 17568)>\n",
       "Coordinates:\n",
       "  * x        (x) float64 2.54e+05 2.54e+05 2.54e+05 ... 3.067e+05 3.067e+05\n",
       "  * y        (y) float64 4.179e+06 4.179e+06 4.179e+06 ... 4.23e+06 4.23e+06\n",
       "Dimensions without coordinates: time"
      ]
     },
     "execution_count": 9,
     "metadata": {},
     "output_type": "execute_result"
    }
   ],
   "source": [
    "ds=ds['Band1'].astype(np.int16, copy=False)\n",
    "ds"
   ]
  },
  {
   "cell_type": "markdown",
   "metadata": {},
   "source": [
    "#### Specs. on Dataset (ds)"
   ]
  },
  {
   "cell_type": "code",
   "execution_count": null,
   "metadata": {},
   "outputs": [],
   "source": [
    "# few others....but these are main\n",
    "ds.dims\n",
    "ds.values\n",
    "ds.coords\n",
    "# ds.Band1.shape"
   ]
  },
  {
   "cell_type": "markdown",
   "metadata": {},
   "source": [
    "#### Assign time coordinate baised on lidar flight date & select time by year (or specific date)"
   ]
  },
  {
   "cell_type": "code",
   "execution_count": 10,
   "metadata": {},
   "outputs": [
    {
     "data": {
      "text/plain": [
       "<xarray.DataArray 'Band1' (time: 11, y: 16781, x: 17568)>\n",
       "dask.array<shape=(11, 16781, 17568), dtype=int16, chunksize=(1, 16781, 17568)>\n",
       "Coordinates:\n",
       "  * x        (x) float64 2.54e+05 2.54e+05 2.54e+05 ... 3.067e+05 3.067e+05\n",
       "  * y        (y) float64 4.179e+06 4.179e+06 4.179e+06 ... 4.23e+06 4.23e+06\n",
       "    DATE     (time) datetime64[ns] 2014-03-23 2014-04-07 ... 2014-06-05\n",
       "  * time     (time) datetime64[ns] 2014-03-23 2014-04-07 ... 2014-06-05"
      ]
     },
     "execution_count": 10,
     "metadata": {},
     "output_type": "execute_result"
    }
   ],
   "source": [
    "date=[]\n",
    "\n",
    "for f in sorted(flist):\n",
    "#     print(f)\n",
    "    dt_str = f.split(\"/\")[-1] #splits on / and saves the last one\n",
    "    dt_str = \"\".join([c for c in dt_str if c.isnumeric()]) #grabs numeric values\n",
    "    dt = pd.to_datetime(dt_str[:8]) #convert to datetime, grabs digits for dates only\n",
    "#     print('file:',dt.date())\n",
    "    date.append(dt.date())\n",
    "\n",
    "time_var = pd.to_datetime(date)\n",
    "ds['DATE'] = (['time'], time_var) #explain this...\n",
    "ds = ds.assign_coords(time=ds.DATE) #assigns coord, gives DATE (datetime) to each layer in stack\n",
    "\n",
    "ds\n"
   ]
  },
  {
   "cell_type": "code",
   "execution_count": 11,
   "metadata": {},
   "outputs": [],
   "source": [
    "#SELECT YEAR, or DATE\n",
    "# ds = ds.sel(time='2015')\n",
    "ds = ds.sel(time='2014')"
   ]
  },
  {
   "cell_type": "code",
   "execution_count": 12,
   "metadata": {},
   "outputs": [
    {
     "name": "stdout",
     "output_type": "stream",
     "text": [
      "((1, 1, 1, 1, 1, 1, 1, 1, 1, 1, 1), (16781,), (17568,))\n"
     ]
    }
   ],
   "source": [
    "dc = ds['DATE'].chunks\n",
    "d = ds.chunks\n",
    "\n",
    "print(d)"
   ]
  },
  {
   "cell_type": "code",
   "execution_count": null,
   "metadata": {},
   "outputs": [],
   "source": [
    "d=ds['Band1'].chunks #dataArray\n",
    "d"
   ]
  },
  {
   "cell_type": "markdown",
   "metadata": {},
   "source": [
    "#### compute stuff (testing)"
   ]
  },
  {
   "cell_type": "code",
   "execution_count": 13,
   "metadata": {},
   "outputs": [
    {
     "ename": "AttributeError",
     "evalue": "'DataArray' object has no attribute 'Band1'",
     "output_type": "error",
     "traceback": [
      "\u001b[0;31m---------------------------------------------------------------------------\u001b[0m",
      "\u001b[0;31mAttributeError\u001b[0m                            Traceback (most recent call last)",
      "\u001b[0;32m<ipython-input-13-84c760a9e9c3>\u001b[0m in \u001b[0;36m<module>\u001b[0;34m\u001b[0m\n\u001b[1;32m      1\u001b[0m \u001b[0;31m# variance in snow depth\u001b[0m\u001b[0;34m\u001b[0m\u001b[0;34m\u001b[0m\u001b[0;34m\u001b[0m\u001b[0m\n\u001b[0;32m----> 2\u001b[0;31m \u001b[0mv\u001b[0m \u001b[0;34m=\u001b[0m \u001b[0mds\u001b[0m\u001b[0;34m.\u001b[0m\u001b[0mBand1\u001b[0m\u001b[0;34m.\u001b[0m\u001b[0mvar\u001b[0m\u001b[0;34m(\u001b[0m\u001b[0mdim\u001b[0m\u001b[0;34m=\u001b[0m\u001b[0;34m'time'\u001b[0m\u001b[0;34m)\u001b[0m \u001b[0;31m#compute variance on every pixel in the time dimention\u001b[0m\u001b[0;34m\u001b[0m\u001b[0;34m\u001b[0m\u001b[0m\n\u001b[0m\u001b[1;32m      3\u001b[0m \u001b[0mv\u001b[0m \u001b[0;34m=\u001b[0m \u001b[0mnp\u001b[0m\u001b[0;34m.\u001b[0m\u001b[0mwhere\u001b[0m\u001b[0;34m(\u001b[0m\u001b[0mv\u001b[0m\u001b[0;34m>\u001b[0m\u001b[0;36m1\u001b[0m\u001b[0;34m,\u001b[0m \u001b[0mv\u001b[0m\u001b[0;34m,\u001b[0m \u001b[0mnp\u001b[0m\u001b[0;34m.\u001b[0m\u001b[0mnan\u001b[0m\u001b[0;34m)\u001b[0m \u001b[0;31m# filters everything greater than 1cm (i.e gives alpha bg)\u001b[0m\u001b[0;34m\u001b[0m\u001b[0;34m\u001b[0m\u001b[0m\n\u001b[1;32m      4\u001b[0m \u001b[0mprint\u001b[0m\u001b[0;34m(\u001b[0m\u001b[0mv\u001b[0m\u001b[0;34m)\u001b[0m\u001b[0;34m\u001b[0m\u001b[0;34m\u001b[0m\u001b[0m\n\u001b[1;32m      5\u001b[0m \u001b[0;34m\u001b[0m\u001b[0m\n",
      "\u001b[0;32m/Applications/anaconda3/envs/data_analysis/lib/python3.6/site-packages/xarray/core/common.py\u001b[0m in \u001b[0;36m__getattr__\u001b[0;34m(self, name)\u001b[0m\n\u001b[1;32m    177\u001b[0m                     \u001b[0;32mreturn\u001b[0m \u001b[0msource\u001b[0m\u001b[0;34m[\u001b[0m\u001b[0mname\u001b[0m\u001b[0;34m]\u001b[0m\u001b[0;34m\u001b[0m\u001b[0;34m\u001b[0m\u001b[0m\n\u001b[1;32m    178\u001b[0m         raise AttributeError(\"%r object has no attribute %r\" %\n\u001b[0;32m--> 179\u001b[0;31m                              (type(self).__name__, name))\n\u001b[0m\u001b[1;32m    180\u001b[0m \u001b[0;34m\u001b[0m\u001b[0m\n\u001b[1;32m    181\u001b[0m     \u001b[0;32mdef\u001b[0m \u001b[0m__setattr__\u001b[0m\u001b[0;34m(\u001b[0m\u001b[0mself\u001b[0m\u001b[0;34m,\u001b[0m \u001b[0mname\u001b[0m\u001b[0;34m,\u001b[0m \u001b[0mvalue\u001b[0m\u001b[0;34m)\u001b[0m\u001b[0;34m:\u001b[0m\u001b[0;34m\u001b[0m\u001b[0;34m\u001b[0m\u001b[0m\n",
      "\u001b[0;31mAttributeError\u001b[0m: 'DataArray' object has no attribute 'Band1'"
     ]
    }
   ],
   "source": [
    "# variance in snow depth\n",
    "v = ds.Band1.var(dim='time') #compute variance on every pixel in the time dimention \n",
    "v = np.where(v>1, v, np.nan) # filters everything greater than 1cm (i.e gives alpha bg)\n",
    "print(v)\n",
    "\n",
    "\n",
    "\n",
    "\n",
    "\n",
    "\n",
    "\n",
    "\n"
   ]
  },
  {
   "cell_type": "code",
   "execution_count": null,
   "metadata": {},
   "outputs": [],
   "source": [
    "# t=time.time()\n",
    "\n",
    "# variance in snow depth\n",
    "varsn = ds.Band1.var(dim='time') #compute variance on every pixel in the time dimention \n",
    "varsn = np.where(varsn>.001, varsn, np.nan) # filters everything greater than 1mm (i.e gives alpha bg)\n",
    "print(varsn)\n",
    "# fig = plt.figure(figsize=(15, 10))\n",
    "# plt.imshow(varsn, cmap='jet', origin='lower', vmin=.05, vmax=1.0) #[::-1,:] - reverses it\n",
    "# plt.title('snow depth [3m] variance, 2018')\n",
    "# plt.colorbar()\n",
    "# plt.savefig('figs/var_13-16', dpi=600)\n",
    "\n",
    "# tt=time.time()\n",
    "# print('runtime =', (tt-t)/60)"
   ]
  },
  {
   "cell_type": "code",
   "execution_count": null,
   "metadata": {},
   "outputs": [],
   "source": []
  }
 ],
 "metadata": {
  "kernelspec": {
   "display_name": "Python 3",
   "language": "python",
   "name": "python3"
  },
  "language_info": {
   "codemirror_mode": {
    "name": "ipython",
    "version": 3
   },
   "file_extension": ".py",
   "mimetype": "text/x-python",
   "name": "python",
   "nbconvert_exporter": "python",
   "pygments_lexer": "ipython3",
   "version": "3.6.7"
  }
 },
 "nbformat": 4,
 "nbformat_minor": 4
}
