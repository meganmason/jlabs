{
 "cells": [
  {
   "cell_type": "code",
   "execution_count": 1,
   "metadata": {},
   "outputs": [],
   "source": [
    "import numpy as np\n",
    "import pandas as pd\n",
    "import xarray as xr"
   ]
  },
  {
   "cell_type": "markdown",
   "metadata": {},
   "source": [
    "#### Create Xarray"
   ]
  },
  {
   "cell_type": "code",
   "execution_count": 2,
   "metadata": {},
   "outputs": [
    {
     "data": {
      "text/plain": [
       "<xarray.DataArray 'pd.DataFrame input' (dim_0: 3)>\n",
       "array([0, 1, 2])\n",
       "Coordinates:\n",
       "  * dim_0    (dim_0) object 'a' 'b' 'c'"
      ]
     },
     "execution_count": 2,
     "metadata": {},
     "output_type": "execute_result"
    }
   ],
   "source": [
    "# method 1\n",
    "\n",
    "d1 = xr.DataArray(np.random.randint(5, size=(2, 3)),\n",
    "                    dims=('x', 'y'),\n",
    "                    coords={'x': [10, 20]})\n",
    "#randint - changed from example to get integers\n",
    "d1\n",
    "\n",
    "# method 2\n",
    "d2 = xr.DataArray(pd.Series(range(3), \n",
    "                       index=list('abc'), \n",
    "                       name='pd.DataFrame input'))\n",
    "d2"
   ]
  },
  {
   "cell_type": "markdown",
   "metadata": {},
   "source": [
    "#### Key properties"
   ]
  },
  {
   "cell_type": "code",
   "execution_count": 3,
   "metadata": {},
   "outputs": [
    {
     "data": {
      "text/plain": [
       "Coordinates:\n",
       "  * dim_0    (dim_0) object 'a' 'b' 'c'"
      ]
     },
     "execution_count": 3,
     "metadata": {},
     "output_type": "execute_result"
    }
   ],
   "source": [
    "d1.values # values in the np rand\n",
    "d1.dims # set dimentions \n",
    "d1.coords # set cooords\n",
    "\n",
    "d2.values # values in pd.Series\n",
    "d2.dims # 1 by\n",
    "d2.coords # indexes all labels in the dim_0\n"
   ]
  },
  {
   "cell_type": "markdown",
   "metadata": {},
   "source": [
    "#### Indexing \n",
    "###### (number 4 is ideal/easy/lazy for Xarray"
   ]
  },
  {
   "cell_type": "code",
   "execution_count": 4,
   "metadata": {},
   "outputs": [
    {
     "name": "stdout",
     "output_type": "stream",
     "text": [
      "idx #1:\n",
      " <xarray.DataArray (x: 2, y: 3)>\n",
      "array([[0, 0, 4],\n",
      "       [2, 4, 3]])\n",
      "Coordinates:\n",
      "  * x        (x) int64 10 20\n",
      "Dimensions without coordinates: y\n",
      "idx #2:\n",
      " <xarray.DataArray (x: 2, y: 3)>\n",
      "array([[0, 0, 4],\n",
      "       [2, 4, 3]])\n",
      "Coordinates:\n",
      "  * x        (x) int64 10 20\n",
      "Dimensions without coordinates: y\n",
      "idx #3:\n",
      " <xarray.DataArray (x: 2, y: 3)>\n",
      "array([[0, 0, 4],\n",
      "       [2, 4, 3]])\n",
      "Coordinates:\n",
      "  * x        (x) int64 10 20\n",
      "Dimensions without coordinates: y\n",
      "idx #4:\n",
      " <xarray.DataArray (x: 2, y: 3)>\n",
      "array([[0, 0, 4],\n",
      "       [2, 4, 3]])\n",
      "Coordinates:\n",
      "  * x        (x) int64 10 20\n",
      "Dimensions without coordinates: y\n"
     ]
    }
   ],
   "source": [
    "# positional and by integer label (i.e numpy)\n",
    "print('idx #1:\\n', d1[[0,1]])\n",
    "\n",
    "#positional and by coordinate label (i.e pandas)\n",
    "print('idx #2:\\n', d1.loc[10:20]) #recall, the x dim labels assigned\n",
    "\n",
    "# by dimension name and integer label\n",
    "print('idx #3:\\n', d1.isel(x=slice(2)))\n",
    "\n",
    "# by dimension name and coordinate label\n",
    "print('idx #4:\\n', d1.sel(x=[10,20]))\n"
   ]
  },
  {
   "cell_type": "markdown",
   "metadata": {},
   "source": [
    "#### Attributes\n",
    "###### Xarray will label plots with this info if you supply it (one and done!)"
   ]
  },
  {
   "cell_type": "code",
   "execution_count": null,
   "metadata": {},
   "outputs": [],
   "source": [
    "# OrderedDict stored as attributes in Xarray\n",
    "d1.attrs['long_name'] = 'give_it_a_long_descriptive_name'\n",
    "d1.attrs['units'] = 'meters'\n",
    "d1.attrs['description'] = 'A random variable created as an example.'\n",
    "d1.attrs['random_attribute'] = 123\n",
    "\n",
    "#add to coordinates too\n",
    "d1.x.attrs['units'] = 'x units'\n",
    "d1.attrs"
   ]
  },
  {
   "cell_type": "markdown",
   "metadata": {},
   "source": [
    "#### Computation\n",
    "###### very similar to numpy ndarrays"
   ]
  },
  {
   "cell_type": "code",
   "execution_count": null,
   "metadata": {},
   "outputs": [],
   "source": [
    "d1+10\n",
    "\n",
    "#m to cm\n",
    "d1*100"
   ]
  },
  {
   "cell_type": "code",
   "execution_count": null,
   "metadata": {},
   "outputs": [],
   "source": []
  }
 ],
 "metadata": {
  "kernelspec": {
   "display_name": "Python 3",
   "language": "python",
   "name": "python3"
  },
  "language_info": {
   "codemirror_mode": {
    "name": "ipython",
    "version": 3
   },
   "file_extension": ".py",
   "mimetype": "text/x-python",
   "name": "python",
   "nbconvert_exporter": "python",
   "pygments_lexer": "ipython3",
   "version": "3.6.8"
  }
 },
 "nbformat": 4,
 "nbformat_minor": 4
}
