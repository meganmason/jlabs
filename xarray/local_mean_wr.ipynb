{
 "cells": [
  {
   "cell_type": "code",
   "execution_count": 1,
   "metadata": {},
   "outputs": [],
   "source": [
    "%matplotlib inline \n",
    "import pandas as pd\n",
    "import numpy as np\n",
    "import xarray as xr\n",
    "import os\n",
    "import glob\n",
    "import time\n",
    "import matplotlib as mpl\n",
    "import matplotlib.pyplot as plt\n",
    "from scipy.stats import pearsonr\n",
    "from scipy.stats import norm\n",
    "from dask.diagnostics import ProgressBar\n",
    "from dask.distributed import Client, LocalCluster\n",
    "import earthpy as et\n",
    "import earthpy.spatial as es\n",
    "import earthpy.plot as ep\n",
    "import scipy.ndimage\n",
    "\n",
    "import seaborn as sns\n",
    "sns.set_style('white')\n",
    "sns.set_context(\"notebook\") #[poster, paper, talk, notebook]"
   ]
  },
  {
   "cell_type": "markdown",
   "metadata": {},
   "source": [
    "## FUNCTIONS"
   ]
  },
  {
   "cell_type": "code",
   "execution_count": 2,
   "metadata": {},
   "outputs": [],
   "source": [
    "def subregion_size(ds):\n",
    "    dx = ds.x.max().values - ds.x.min().values\n",
    "    dy = ds.y.max().values - ds.y.min().values\n",
    "    return dx, dy\n",
    "\n",
    "\n",
    "def plot_sd(ds, title, time=31, cmap='Blues', vmax=300):\n",
    "    s = ds.isel(time=time)\n",
    "    x_gt0 = s.snow.where(s.snow>0)\n",
    "    x_gt0.plot.imshow(x='x', y='y', cmap=cmap, vmax=vmax, cbar_kwargs={'label': 'Snow Depth [cm]'})\n",
    "    plt.tight_layout()\n",
    "\n",
    "    \n",
    "def kernel(n):\n",
    "    # create mean filter \n",
    "    k = np.ones((n,n)) * 1./n**2\n",
    "    return k\n",
    "\n",
    "def smooth_over_grid(ds, k, time=31):\n",
    "    s = ds.isel(time=time)\n",
    "    smoothed = scipy.ndimage.convolve(s.snow, k)\n",
    "    return smoothed"
   ]
  },
  {
   "cell_type": "markdown",
   "metadata": {},
   "source": [
    "## DATA INPUTS"
   ]
  },
  {
   "cell_type": "code",
   "execution_count": 3,
   "metadata": {},
   "outputs": [],
   "source": [
    "dx_input = 1000\n",
    "flist = sorted(glob.glob('/Users/meganmason491/Documents/research/sierra/data/compiled_SUPERsnow_*{}m*'.format(dx_input))) #bsu\n",
    "# flist=flist[0]"
   ]
  },
  {
   "cell_type": "code",
   "execution_count": 4,
   "metadata": {},
   "outputs": [],
   "source": [
    "flist = [flist]"
   ]
  },
  {
   "cell_type": "markdown",
   "metadata": {},
   "source": [
    "## MAIN SCRIPT"
   ]
  },
  {
   "cell_type": "code",
   "execution_count": 5,
   "metadata": {},
   "outputs": [
    {
     "ename": "AttributeError",
     "evalue": "'list' object has no attribute 'tell'",
     "output_type": "error",
     "traceback": [
      "\u001b[0;31m---------------------------------------------------------------------------\u001b[0m",
      "\u001b[0;31mAttributeError\u001b[0m                            Traceback (most recent call last)",
      "\u001b[0;32m<ipython-input-5-955c34365133>\u001b[0m in \u001b[0;36m<module>\u001b[0;34m\u001b[0m\n\u001b[1;32m     26\u001b[0m \u001b[0mlist_of_smoothed_datasets\u001b[0m \u001b[0;34m=\u001b[0m \u001b[0;34m[\u001b[0m\u001b[0;34m]\u001b[0m\u001b[0;34m\u001b[0m\u001b[0;34m\u001b[0m\u001b[0m\n\u001b[1;32m     27\u001b[0m \u001b[0;32mfor\u001b[0m \u001b[0mf\u001b[0m \u001b[0;32min\u001b[0m \u001b[0mflist\u001b[0m\u001b[0;34m:\u001b[0m\u001b[0;34m\u001b[0m\u001b[0;34m\u001b[0m\u001b[0m\n\u001b[0;32m---> 28\u001b[0;31m     \u001b[0mlist_of_smoothed_datasets\u001b[0m\u001b[0;34m.\u001b[0m\u001b[0mappend\u001b[0m\u001b[0;34m(\u001b[0m\u001b[0msmoother\u001b[0m\u001b[0;34m(\u001b[0m\u001b[0mf\u001b[0m\u001b[0;34m)\u001b[0m\u001b[0;34m)\u001b[0m\u001b[0;34m\u001b[0m\u001b[0;34m\u001b[0m\u001b[0m\n\u001b[0m\u001b[1;32m     29\u001b[0m \u001b[0;34m\u001b[0m\u001b[0m\n\u001b[1;32m     30\u001b[0m \u001b[0;31m#         smoothed = smooth_over_grid(ds, k)\u001b[0m\u001b[0;34m\u001b[0m\u001b[0;34m\u001b[0m\u001b[0;34m\u001b[0m\u001b[0m\n",
      "\u001b[0;32m<ipython-input-5-955c34365133>\u001b[0m in \u001b[0;36msmoother\u001b[0;34m(f)\u001b[0m\n\u001b[1;32m      9\u001b[0m     \u001b[0;31m# returns (smoothed_ds): xarray dataframe with smoothed snow layer\u001b[0m\u001b[0;34m\u001b[0m\u001b[0;34m\u001b[0m\u001b[0;34m\u001b[0m\u001b[0m\n\u001b[1;32m     10\u001b[0m \u001b[0;34m\u001b[0m\u001b[0m\n\u001b[0;32m---> 11\u001b[0;31m     \u001b[0mds\u001b[0m \u001b[0;34m=\u001b[0m \u001b[0mxr\u001b[0m\u001b[0;34m.\u001b[0m\u001b[0mopen_dataset\u001b[0m\u001b[0;34m(\u001b[0m\u001b[0mf\u001b[0m\u001b[0;34m)\u001b[0m\u001b[0;31m#; ds.close() #open lidar snow depth DataSet in Xarray -- ds\u001b[0m\u001b[0;34m\u001b[0m\u001b[0;34m\u001b[0m\u001b[0m\n\u001b[0m\u001b[1;32m     12\u001b[0m     \u001b[0msmooth_holder\u001b[0m \u001b[0;34m=\u001b[0m \u001b[0mnp\u001b[0m\u001b[0;34m.\u001b[0m\u001b[0mzeros\u001b[0m\u001b[0;34m(\u001b[0m\u001b[0;34m(\u001b[0m\u001b[0;36m51\u001b[0m\u001b[0;34m,\u001b[0m \u001b[0;36m335\u001b[0m\u001b[0;34m,\u001b[0m \u001b[0;36m335\u001b[0m\u001b[0;34m)\u001b[0m\u001b[0;34m)\u001b[0m\u001b[0;34m\u001b[0m\u001b[0;34m\u001b[0m\u001b[0m\n\u001b[1;32m     13\u001b[0m     \u001b[0msmoothed_ds\u001b[0m \u001b[0;34m=\u001b[0m \u001b[0mds\u001b[0m\u001b[0;34m.\u001b[0m\u001b[0mcopy\u001b[0m\u001b[0;34m(\u001b[0m\u001b[0;34m)\u001b[0m\u001b[0;34m\u001b[0m\u001b[0;34m\u001b[0m\u001b[0m\n",
      "\u001b[0;32m//anaconda3/envs/data_analysis/lib/python3.6/site-packages/xarray/backends/api.py\u001b[0m in \u001b[0;36mopen_dataset\u001b[0;34m(filename_or_obj, group, decode_cf, mask_and_scale, decode_times, autoclose, concat_characters, decode_coords, engine, chunks, lock, cache, drop_variables, backend_kwargs, use_cftime)\u001b[0m\n\u001b[1;32m    524\u001b[0m                 \u001b[0;34m\"with engine='scipy' or 'h5netcdf'\"\u001b[0m\u001b[0;34m\u001b[0m\u001b[0;34m\u001b[0m\u001b[0m\n\u001b[1;32m    525\u001b[0m             )\n\u001b[0;32m--> 526\u001b[0;31m         \u001b[0mengine\u001b[0m \u001b[0;34m=\u001b[0m \u001b[0m_get_engine_from_magic_number\u001b[0m\u001b[0;34m(\u001b[0m\u001b[0mfilename_or_obj\u001b[0m\u001b[0;34m)\u001b[0m\u001b[0;34m\u001b[0m\u001b[0;34m\u001b[0m\u001b[0m\n\u001b[0m\u001b[1;32m    527\u001b[0m         \u001b[0;32mif\u001b[0m \u001b[0mengine\u001b[0m \u001b[0;34m==\u001b[0m \u001b[0;34m\"scipy\"\u001b[0m\u001b[0;34m:\u001b[0m\u001b[0;34m\u001b[0m\u001b[0;34m\u001b[0m\u001b[0m\n\u001b[1;32m    528\u001b[0m             \u001b[0mstore\u001b[0m \u001b[0;34m=\u001b[0m \u001b[0mbackends\u001b[0m\u001b[0;34m.\u001b[0m\u001b[0mScipyDataStore\u001b[0m\u001b[0;34m(\u001b[0m\u001b[0mfilename_or_obj\u001b[0m\u001b[0;34m,\u001b[0m \u001b[0;34m**\u001b[0m\u001b[0mbackend_kwargs\u001b[0m\u001b[0;34m)\u001b[0m\u001b[0;34m\u001b[0m\u001b[0;34m\u001b[0m\u001b[0m\n",
      "\u001b[0;32m//anaconda3/envs/data_analysis/lib/python3.6/site-packages/xarray/backends/api.py\u001b[0m in \u001b[0;36m_get_engine_from_magic_number\u001b[0;34m(filename_or_obj)\u001b[0m\n\u001b[1;32m    112\u001b[0m         \u001b[0mmagic_number\u001b[0m \u001b[0;34m=\u001b[0m \u001b[0mfilename_or_obj\u001b[0m\u001b[0;34m[\u001b[0m\u001b[0;34m:\u001b[0m\u001b[0;36m8\u001b[0m\u001b[0;34m]\u001b[0m\u001b[0;34m\u001b[0m\u001b[0;34m\u001b[0m\u001b[0m\n\u001b[1;32m    113\u001b[0m     \u001b[0;32melse\u001b[0m\u001b[0;34m:\u001b[0m\u001b[0;34m\u001b[0m\u001b[0;34m\u001b[0m\u001b[0m\n\u001b[0;32m--> 114\u001b[0;31m         \u001b[0;32mif\u001b[0m \u001b[0mfilename_or_obj\u001b[0m\u001b[0;34m.\u001b[0m\u001b[0mtell\u001b[0m\u001b[0;34m(\u001b[0m\u001b[0;34m)\u001b[0m \u001b[0;34m!=\u001b[0m \u001b[0;36m0\u001b[0m\u001b[0;34m:\u001b[0m\u001b[0;34m\u001b[0m\u001b[0;34m\u001b[0m\u001b[0m\n\u001b[0m\u001b[1;32m    115\u001b[0m             raise ValueError(\n\u001b[1;32m    116\u001b[0m                 \u001b[0;34m\"file-like object read/write pointer not at zero \"\u001b[0m\u001b[0;34m\u001b[0m\u001b[0;34m\u001b[0m\u001b[0m\n",
      "\u001b[0;31mAttributeError\u001b[0m: 'list' object has no attribute 'tell'"
     ]
    }
   ],
   "source": [
    "stns = ['DAN','SLI','TUM'] #could make dict so it's always connected to the file, but shortcut is to do sorted(glob.glob) -- ie always loads in same order :/\n",
    "stns_lc = ['dan','sli','tum']\n",
    "stns_longname = ['Dana Meadow', 'Slide Canyon', 'Tuolumne Meadow']\n",
    "\n",
    "k = kernel(50)\n",
    "\n",
    "def smoother(f):\n",
    "    # input (f): file\n",
    "    # returns (smoothed_ds): xarray dataframe with smoothed snow layer\n",
    "    \n",
    "    ds = xr.open_dataset(f)#; ds.close() #open lidar snow depth DataSet in Xarray -- ds\n",
    "    smooth_holder = np.zeros((51, 335, 335))\n",
    "    smoothed_ds = ds.copy()\n",
    "    for t in range(51):\n",
    "           \n",
    "        #grab a single time step\n",
    "        subds = ds.isel(time=t).snow\n",
    "        # apply the mean smoother filter \n",
    "        smooth_holder[t,:,:] = scipy.ndimage.convolve(subds, k)\n",
    "        \n",
    "    # done looping through time \n",
    "    # append the smoothed numpy ndarray to the newly copied xarray dataframe\n",
    "    smoothed_ds['smoothed_snow'] = (('time','y','x'), smooth_holder)\n",
    "    return smoothed_ds\n",
    "\n",
    "list_of_smoothed_datasets = []\n",
    "for f in flist:\n",
    "    list_of_smoothed_datasets.append(smoother(f))\n",
    "\n",
    "#         smoothed = smooth_over_grid(ds, k)\n",
    "#         smoothed\n",
    "#         plot_sd(smoothed, title=stns_longname[i], vmax=300); plt.show()\n",
    "#         plt.imshow(smoothed, cmap='RdBu', vmax=300)\n",
    "#         plt.title(stns_longname[i])\n",
    "#         plt.colorbar()\n",
    "#         plt.show()\n",
    "        \n",
    "        #plot difference\n"
   ]
  },
  {
   "cell_type": "code",
   "execution_count": null,
   "metadata": {},
   "outputs": [],
   "source": [
    "ds1, ds2, ds3 = list_of_smoothed_datasets\n",
    "ds2"
   ]
  },
  {
   "cell_type": "code",
   "execution_count": null,
   "metadata": {},
   "outputs": [],
   "source": [
    "# (smoothed_ds.smoothed_snow - smoothed_ds.snow).plot(x='x', y='y', col='time', col_wrap=10)\n",
    "# smoothed_ds.smoothed_snow.plot(x='x', y='y', col='time', col_wrap=10)\n",
    "\n",
    "print('Dana')\n",
    "#raw\n",
    "ds1_=ds1.isel(time=slice(1,51,10))\n",
    "ds1_.snow.plot.imshow(x='x', y='y', col='time', col_wrap=5, cmap='Blues', vmax=250, cbar_kwargs={'label': 'Snow Depth [cm]'}); #plt.show()\n",
    "# plt.savefig('../figs/dan_raw_ex.png', dpi=300)\n",
    "#smoothed\n",
    "ds1_=ds1.isel(time=slice(1,51,10))\n",
    "ds1_.smoothed_snow.plot.imshow(x='x', y='y', col='time', col_wrap=5, cmap='Blues', vmax=250, cbar_kwargs={'label': 'Snow Depth [cm]'}); #plt.show()\n",
    "# plt.savefig('../figs/dan_smooth_150m_ex.png', dpi=300)\n",
    "#differenced\n",
    "diff = ds1_.snow - ds1_.smoothed_snow\n",
    "diff.plot.imshow(x='x', y='y', col='time', col_wrap=5, cmap='RdBu', vmax=250, cbar_kwargs={'label': 'Snow Depth [cm]'}); #plt.show()\n",
    "# plt.savefig('../figs/dan_diff_ex.png', dpi=300)\n",
    "\n",
    "# print('Slide')\n",
    "# #raw\n",
    "# ds2_=ds2.isel(time=slice(1,51,10))\n",
    "# ds2_.snow.plot.imshow(x='x', y='y', col='time', col_wrap=5, cmap='Blues', vmax=250, cbar_kwargs={'label': 'Snow Depth [cm]'}); #plt.show()\n",
    "# plt.savefig('../figs/sli_raw_ex.png', dpi=300)\n",
    "# #smoothed\n",
    "# ds2_=ds2.isel(time=slice(1,51,10))\n",
    "# ds2_.smoothed_snow.plot.imshow(x='x', y='y', col='time', col_wrap=5, cmap='Blues', vmax=250, cbar_kwargs={'label': 'Snow Depth [cm]'}); #plt.show()\n",
    "# plt.savefig('../figs/sli_smooth_150m_ex.png', dpi=300)\n",
    "# #differenced\n",
    "# diff = ds2_.snow - ds2_.smoothed_snow\n",
    "# diff.plot.imshow(x='x', y='y', col='time', col_wrap=5, cmap='RdBu', vmax=250, cbar_kwargs={'label': 'Snow Depth [cm]'}); #plt.show()\n",
    "# plt.savefig('../figs/sli_diff_ex.png', dpi=300)\n",
    "\n",
    "# print('Tuolumne')\n",
    "# #raw\n",
    "# ds3_=ds3.sel(time=slice('2017-01-29','2017-06-04'))\n",
    "# ds3_.snow.plot.imshow(x='x', y='y', col='time', col_wrap=5, cmap='Blues', vmax=250, cbar_kwargs={'label': 'Snow Depth [cm]'}); #plt.show()\n",
    "# plt.savefig('../figs/tum_raw_ex.png', dpi=300)\n",
    "# #smoothed\n",
    "# ds3_=ds3.sel(time=slice('2017-01-29','2017-06-04'))\n",
    "# ds3_.smoothed_snow.plot.imshow(x='x', y='y', col='time', col_wrap=5, cmap='Blues', vmax=250, cbar_kwargs={'label': 'Snow Depth [cm]'}); #plt.show()\n",
    "# plt.savefig('../figs/tum_smooth_150m_ex.png', dpi=300)\n",
    "# #differenced\n",
    "# diff = ds3_.snow - ds3_.smoothed_snow\n",
    "# diff.plot.imshow(x='x', y='y', col='time', col_wrap=5, cmap='RdBu', vmax=250, cbar_kwargs={'label': 'Snow Depth [cm]'}); #plt.show()\n",
    "# plt.savefig('../figs/tum_diff_ex.png', dpi=300)"
   ]
  },
  {
   "cell_type": "code",
   "execution_count": null,
   "metadata": {},
   "outputs": [],
   "source": [
    "# Single time example...\n",
    "dx_input = 1000\n",
    "flist = sorted(glob.glob('/Users/meganmason491/Documents/research/sierra/data/compiled_SUPERsnow_*{}m*'.format(dx_input))) #bsu\n",
    "f = flist[0]\n",
    "k = kernel(100)\n",
    "ds = xr.open_dataset(f); ds.close()\n",
    "snow_3m = ds.isel(time=31).snow\n",
    "snow_smooth = scipy.ndimage.convolve(snow_3m, k)\n",
    "snow_smooth\n",
    "\n",
    "plt.imshow(snow_smooth, cmap='Blues')\n",
    "plt.colorbar()\n",
    "\n",
    "\n"
   ]
  },
  {
   "cell_type": "code",
   "execution_count": null,
   "metadata": {},
   "outputs": [],
   "source": [
    "plt.imshow(snow_3m, cmap='Blues', vmax=300)\n",
    "plt.colorbar()\n",
    "\n"
   ]
  },
  {
   "cell_type": "code",
   "execution_count": null,
   "metadata": {},
   "outputs": [],
   "source": [
    "plt.imshow(snow_3m - snow_smooth, cmap='RdBu'); plt.colorbar()"
   ]
  },
  {
   "cell_type": "markdown",
   "metadata": {},
   "source": [
    "### TEST EVERYTHING"
   ]
  },
  {
   "cell_type": "code",
   "execution_count": null,
   "metadata": {},
   "outputs": [],
   "source": [
    "ds"
   ]
  },
  {
   "cell_type": "code",
   "execution_count": null,
   "metadata": {},
   "outputs": [],
   "source": [
    "ds.x.count().values"
   ]
  },
  {
   "cell_type": "code",
   "execution_count": null,
   "metadata": {},
   "outputs": [],
   "source": [
    "stns = ['DAN','SLI','TUM'] #could make dict so it's always connected to the file, but shortcut is to do sorted(glob.glob) -- ie always loads in same order :/\n",
    "stns_lc = ['dan','sli','tum']\n",
    "stns_longname = ['Dana Meadow', 'Slide Canyon', 'Tuolumne Meadow']\n",
    "\n",
    "k = kernel(50)\n",
    "\n",
    "for i, f in enumerate(flist):\n",
    "    \n",
    "        print('Met Station Name:', stns_longname[i], '\\n station ID:', stns[i])\n",
    "\n",
    "        ds = xr.open_dataset(f); ds.close() #open lidar snow depth DataSet in Xarray -- ds\n",
    "\n",
    "        print('x direction length {} [m]:'.format(ds.x.max().values - ds.x.min().values))\n",
    "        print('y direction length {} [m]:'.format(ds.y.max().values - ds.y.min().values))\n",
    "\n",
    "        dx, dy = subregion_size(ds) #subregion size -- used in figure naming\n",
    "\n",
    "        plot_sd(ds, title=stns_longname[i], vmax=200);plt.show()"
   ]
  }
 ],
 "metadata": {
  "kernelspec": {
   "display_name": "Python 3",
   "language": "python",
   "name": "python3"
  },
  "language_info": {
   "codemirror_mode": {
    "name": "ipython",
    "version": 3
   },
   "file_extension": ".py",
   "mimetype": "text/x-python",
   "name": "python",
   "nbconvert_exporter": "python",
   "pygments_lexer": "ipython3",
   "version": "3.6.9"
  }
 },
 "nbformat": 4,
 "nbformat_minor": 4
}
