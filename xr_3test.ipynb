{
 "cells": [
  {
   "cell_type": "code",
   "execution_count": 1,
   "metadata": {},
   "outputs": [],
   "source": [
    "%matplotlib inline \n",
    "\n",
    "import numpy as np\n",
    "import pandas as pd\n",
    "import matplotlib.pyplot as plt\n",
    "import glob\n",
    "import os\n",
    "import time\n",
    "import xarray as xr"
   ]
  },
  {
   "cell_type": "code",
   "execution_count": 10,
   "metadata": {},
   "outputs": [
    {
     "ename": "AttributeError",
     "evalue": "'Dataset' object has no attribute 'flatten'",
     "output_type": "error",
     "traceback": [
      "\u001b[0;31m---------------------------------------------------------------------------\u001b[0m",
      "\u001b[0;31mAttributeError\u001b[0m                            Traceback (most recent call last)",
      "\u001b[0;32m<ipython-input-10-303a7c861881>\u001b[0m in \u001b[0;36m<module>\u001b[0;34m\u001b[0m\n\u001b[1;32m      7\u001b[0m \u001b[0;31m# ds.chunks #chunks along each dimention\u001b[0m\u001b[0;34m\u001b[0m\u001b[0;34m\u001b[0m\u001b[0;34m\u001b[0m\u001b[0m\n\u001b[1;32m      8\u001b[0m \u001b[0md\u001b[0m \u001b[0;34m=\u001b[0m \u001b[0mds\u001b[0m\u001b[0;34m.\u001b[0m\u001b[0mstd\u001b[0m\u001b[0;34m(\u001b[0m\u001b[0mdim\u001b[0m\u001b[0;34m=\u001b[0m\u001b[0;34m'time'\u001b[0m\u001b[0;34m)\u001b[0m\u001b[0;34m\u001b[0m\u001b[0;34m\u001b[0m\u001b[0m\n\u001b[0;32m----> 9\u001b[0;31m \u001b[0md_flat\u001b[0m \u001b[0;34m=\u001b[0m \u001b[0md\u001b[0m\u001b[0;34m.\u001b[0m\u001b[0mflatten\u001b[0m\u001b[0;34m(\u001b[0m\u001b[0;34m)\u001b[0m\u001b[0;34m\u001b[0m\u001b[0;34m\u001b[0m\u001b[0m\n\u001b[0m\u001b[1;32m     10\u001b[0m \u001b[0;34m\u001b[0m\u001b[0m\n\u001b[1;32m     11\u001b[0m \u001b[0;31m# sig = ds.Band1.std(dim='time').chunks\u001b[0m\u001b[0;34m\u001b[0m\u001b[0;34m\u001b[0m\u001b[0;34m\u001b[0m\u001b[0m\n",
      "\u001b[0;32m~/Documents/projects/thesis/analysis/virtual_envs/data_analysis/lib/python3.6/site-packages/xarray/core/common.py\u001b[0m in \u001b[0;36m__getattr__\u001b[0;34m(self, name)\u001b[0m\n\u001b[1;32m    181\u001b[0m                     \u001b[0;32mreturn\u001b[0m \u001b[0msource\u001b[0m\u001b[0;34m[\u001b[0m\u001b[0mname\u001b[0m\u001b[0;34m]\u001b[0m\u001b[0;34m\u001b[0m\u001b[0;34m\u001b[0m\u001b[0m\n\u001b[1;32m    182\u001b[0m         raise AttributeError(\"%r object has no attribute %r\" %\n\u001b[0;32m--> 183\u001b[0;31m                              (type(self).__name__, name))\n\u001b[0m\u001b[1;32m    184\u001b[0m \u001b[0;34m\u001b[0m\u001b[0m\n\u001b[1;32m    185\u001b[0m     \u001b[0;32mdef\u001b[0m \u001b[0m__setattr__\u001b[0m\u001b[0;34m(\u001b[0m\u001b[0mself\u001b[0m\u001b[0;34m,\u001b[0m \u001b[0mname\u001b[0m\u001b[0;34m:\u001b[0m \u001b[0mstr\u001b[0m\u001b[0;34m,\u001b[0m \u001b[0mvalue\u001b[0m\u001b[0;34m:\u001b[0m \u001b[0mAny\u001b[0m\u001b[0;34m)\u001b[0m \u001b[0;34m->\u001b[0m \u001b[0;32mNone\u001b[0m\u001b[0;34m:\u001b[0m\u001b[0;34m\u001b[0m\u001b[0;34m\u001b[0m\u001b[0m\n",
      "\u001b[0;31mAttributeError\u001b[0m: 'Dataset' object has no attribute 'flatten'"
     ]
    }
   ],
   "source": [
    "path = '/home/meganmason/Documents/projects/thesis/data/processing_lidar/depths_3m/all/nc/2013*.nc'\n",
    "flist = glob.glob(path)\n",
    "\n",
    "ds=xr.open_mfdataset(flist, concat_dim='time')\n",
    "ds.close()\n",
    "\n",
    "# ds.chunks #chunks along each dimention\n",
    "# d = ds.std(dim='time')\n",
    "# d_flat = d.flatten()\n",
    "\n",
    "# sig = ds.Band1.std(dim='time').chunks\n",
    "# sig = np.where(sig>.001, sig, np.nan)\n",
    "# print(sig)\n",
    "# print('done')\n",
    "\n",
    "\n"
   ]
  },
  {
   "cell_type": "code",
   "execution_count": null,
   "metadata": {},
   "outputs": [],
   "source": [
    "print(sig.shape)\n",
    "fig = plt.figure(figsize=(10, 5))\n",
    "plt.imshow(sig[::-1,:], cmap='jet', vmin=.05, vmax=1.0)\n",
    "plt.show()"
   ]
  },
  {
   "cell_type": "code",
   "execution_count": null,
   "metadata": {},
   "outputs": [],
   "source": [
    "d=ds['Band1']\n",
    "\n",
    "h = np.histogram(d[~np.isnan()].values)\n",
    "\n",
    "# hist = np.histogram(d[~np.isnan(d)].values.flatten(), bins=25)\n"
   ]
  },
  {
   "cell_type": "code",
   "execution_count": null,
   "metadata": {},
   "outputs": [],
   "source": [
    "sig_flat = sig.flatten()\n",
    "print(type(sig_flat))\n",
    "plt.plot(sig_flat)\n",
    "plt.show()"
   ]
  },
  {
   "cell_type": "code",
   "execution_count": null,
   "metadata": {},
   "outputs": [],
   "source": [
    "#for one\n",
    "path = '/home/meganmason/Documents/projects/thesis/data/processing_lidar/depths_3m/all/nc/20140323_SUPERsnow_depth_3mCl.nc'\n",
    "\n",
    "ds = xr.open_dataset(path)\n",
    "\n",
    "f=path\n",
    "dt_str = f.split(\"/\")[-1] #splits on / and saves the last one\n",
    "dt_str = \"\".join([c for c in dt_str if c.isnumeric()]) #grabs numeric values\n",
    "dt = pd.to_datetime(dt_str[:8]) #convert to datetime, grabs digits for dates only\n",
    "print(dt.date())\n",
    "time_var = pd.to_datetime(dt.date())\n",
    "ds['DATE'] = (time_var)\n",
    "ds = ds.assign_coords(time=ds.DATE)\n",
    "ds.close()\n",
    "# ds\n"
   ]
  },
  {
   "cell_type": "code",
   "execution_count": null,
   "metadata": {},
   "outputs": [],
   "source": [
    "ds.dims\n",
    "ds.Band1"
   ]
  },
  {
   "cell_type": "code",
   "execution_count": null,
   "metadata": {},
   "outputs": [],
   "source": [
    "sigma = ds.std(dim='time')\n",
    "# print('this is sigma', sigma)\n",
    "\n",
    "# plt.plot(sigma)\n",
    "# plt.show()\n",
    "\n",
    "# d = ds.Band1.mean\n",
    "# # d = ds.mean(var=\"Band1\")\n",
    "# d\n",
    "# plt.plot(d())\n",
    "# plt.show()\n",
    "\n",
    "# varsn = ds.Band1.var(dim='time') #compute variance on every pixel in the time dimention \n",
    "# varsn = np.where(varsn>.001, varsn, np.nan) # filters everything greater than 1mm (i.e gives alpha bg)\n",
    "# fig = plt.figure(figsize=(15, 10))\n",
    "# plt.imshow(varsn[::-1,:], cmap='jet', vmin=.05, vmax=1.0) #[::-1,:] - reverses it\n",
    "# plt.title('snow depth [50m] variance, 2013-2016')\n",
    "# plt.colorbar()\n",
    "# plt.savefig('figs/var_13-16', dpi=600)"
   ]
  },
  {
   "cell_type": "code",
   "execution_count": null,
   "metadata": {},
   "outputs": [],
   "source": []
  }
 ],
 "metadata": {
  "kernelspec": {
   "display_name": "Python 3",
   "language": "python",
   "name": "python3"
  },
  "language_info": {
   "codemirror_mode": {
    "name": "ipython",
    "version": 3
   },
   "file_extension": ".py",
   "mimetype": "text/x-python",
   "name": "python",
   "nbconvert_exporter": "python",
   "pygments_lexer": "ipython3",
   "version": "3.6.7"
  }
 },
 "nbformat": 4,
 "nbformat_minor": 2
}
