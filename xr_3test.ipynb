{
 "cells": [
  {
   "cell_type": "code",
   "execution_count": 1,
   "metadata": {},
   "outputs": [],
   "source": [
    "%matplotlib inline \n",
    "\n",
    "import numpy as np\n",
    "import pandas as pd\n",
    "import matplotlib.pyplot as plt\n",
    "import glob\n",
    "import os\n",
    "import time\n",
    "import xarray as xr"
   ]
  },
  {
   "cell_type": "code",
   "execution_count": 2,
   "metadata": {},
   "outputs": [],
   "source": [
    "path = '/home/meganmason/Documents/projects/thesis/data/processing_lidar/depths_3m/all/nc/20140323_SUPERsnow_depth_3mCl.nc'"
   ]
  },
  {
   "cell_type": "code",
   "execution_count": 3,
   "metadata": {},
   "outputs": [
    {
     "name": "stdout",
     "output_type": "stream",
     "text": [
      "2014-03-23\n"
     ]
    },
    {
     "data": {
      "text/plain": [
       "<xarray.Dataset>\n",
       "Dimensions:              (x: 17568, y: 16781)\n",
       "Coordinates:\n",
       "  * x                    (x) float64 2.54e+05 2.54e+05 ... 3.067e+05 3.067e+05\n",
       "  * y                    (y) float64 4.179e+06 4.179e+06 ... 4.23e+06 4.23e+06\n",
       "    time                 datetime64[ns] 2014-03-23\n",
       "Data variables:\n",
       "    transverse_mercator  |S1 ...\n",
       "    Band1                (y, x) float64 ...\n",
       "    DATE                 datetime64[ns] 2014-03-23\n",
       "Attributes:\n",
       "    GDAL_AREA_OR_POINT:     Area\n",
       "    GDAL_TIFFTAG_SOFTWARE:  MATLAB 8.5, Mapping Toolbox 4.1\n",
       "    Conventions:            CF-1.5\n",
       "    GDAL:                   GDAL 2.2.3, released 2017/11/20\n",
       "    history:                Thu Aug 01 17:15:53 2019: GDAL CreateCopy( /home/..."
      ]
     },
     "execution_count": 3,
     "metadata": {},
     "output_type": "execute_result"
    }
   ],
   "source": [
    "ds = xr.open_dataset(path)\n",
    "\n",
    "\n",
    "f=path\n",
    "dt_str = f.split(\"/\")[-1] #splits on / and saves the last one\n",
    "dt_str = \"\".join([c for c in dt_str if c.isnumeric()]) #grabs numeric values\n",
    "dt = pd.to_datetime(dt_str[:8]) #convert to datetime, grabs digits for dates only\n",
    "print(dt.date())\n",
    "time_var = pd.to_datetime(dt.date())\n",
    "ds['DATE'] = (time_var)\n",
    "ds = ds.assign_coords(time=ds.DATE)\n",
    "ds\n"
   ]
  },
  {
   "cell_type": "code",
   "execution_count": 7,
   "metadata": {},
   "outputs": [
    {
     "data": {
      "image/png": "[encoded data removed]",
      "text/plain": [
       "<Figure size 432x288 with 1 Axes>"
      ]
     },
     "metadata": {
      "needs_background": "light"
     },
     "output_type": "display_data"
    }
   ],
   "source": [
    "d = ds.Band1.mean\n",
    "# d = ds.mean(var=\"Band1\")\n",
    "d\n",
    "plt.plot(d())\n",
    "plt.show()\n",
    "\n",
    "\n",
    "\n",
    "\n",
    "# varsn = ds.Band1.var(dim='time') #compute variance on every pixel in the time dimention \n",
    "# varsn = np.where(varsn>.001, varsn, np.nan) # filters everything greater than 1mm (i.e gives alpha bg)\n",
    "# fig = plt.figure(figsize=(15, 10))\n",
    "# plt.imshow(varsn[::-1,:], cmap='jet', vmin=.05, vmax=1.0) #[::-1,:] - reverses it\n",
    "# plt.title('snow depth [50m] variance, 2013-2016')\n",
    "# plt.colorbar()\n",
    "# plt.savefig('figs/var_13-16', dpi=600)"
   ]
  },
  {
   "cell_type": "code",
   "execution_count": null,
   "metadata": {},
   "outputs": [],
   "source": []
  }
 ],
 "metadata": {
  "kernelspec": {
   "display_name": "Python 3",
   "language": "python",
   "name": "python3"
  },
  "language_info": {
   "codemirror_mode": {
    "name": "ipython",
    "version": 3
   },
   "file_extension": ".py",
   "mimetype": "text/x-python",
   "name": "python",
   "nbconvert_exporter": "python",
   "pygments_lexer": "ipython3",
   "version": "3.6.7"
  }
 },
 "nbformat": 4,
 "nbformat_minor": 2
}
