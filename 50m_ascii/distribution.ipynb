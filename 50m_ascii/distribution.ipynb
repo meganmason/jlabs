{
 "cells": [
  {
   "cell_type": "code",
   "execution_count": 35,
   "metadata": {},
   "outputs": [],
   "source": [
    "import pandas as pd\n",
    "import numpy as np\n",
    "\n",
    "from skimage import io\n",
    "from datetime import timedelta\n",
    "from datetime import datetime\n",
    "from scipy.stats import pearsonr\n",
    "from subprocess import run\n",
    "import imageio # for gifs\n",
    "import glob\n",
    "import os\n",
    "from scipy.stats import norm\n",
    "# import matplotlib\n",
    "# from matplotlib import mlab\n",
    "\n",
    "# Imports for plotting\n",
    "import matplotlib.pyplot as plt\n",
    "import matplotlib.dates as dates\n",
    "from matplotlib.ticker import NullFormatter \n",
    "from matplotlib.ticker import MultipleLocator, FormatStrFormatter \n",
    "from matplotlib.dates import MonthLocator\n",
    "import matplotlib.patheffects as PathEffects\n",
    "import matplotlib.dates as mdates\n",
    "\n",
    "from mpl_toolkits.axes_grid1 import make_axes_locatable"
   ]
  },
  {
   "cell_type": "markdown",
   "metadata": {},
   "source": [
    "### set up paths"
   ]
  },
  {
   "cell_type": "code",
   "execution_count": 2,
   "metadata": {},
   "outputs": [],
   "source": [
    "# #ARS\n",
    "# mask and DEM\n",
    "# mask_50m_path = '/home/meganmason/Documents/projects/thesis/data/processing_lidar/depths_50m/tuolx_hetchy_mask_50m.asc'\n",
    "# dem_50m_path = '/home/meganmason/Documents/projects/thesis/data/processing_lidar/depths_50m/tuolx_dem_50m.asc'\n",
    "\n",
    "# # ASO snow depth surfaces\n",
    "# depth_50m_path = '/home/meganmason/Documents/projects/thesis/data/processing_lidar/depths_50m/ASO_50m_depth_surfaces/asc/*.asc'\n",
    "# depth_50m_years = list(range(2013,2018))"
   ]
  },
  {
   "cell_type": "code",
   "execution_count": 3,
   "metadata": {},
   "outputs": [],
   "source": [
    "# # #BSU\n",
    "base_path = '/Users/meganmason491/Documents/research/sierra/data/50m_analysis/'\n",
    "\n",
    "# mask and DEM\n",
    "mask_50m_path = base_path + 'tuolx_hetchy_mask_50m.asc'\n",
    "dem_50m_path = base_path + 'tuolx_dem_50m.asc'\n",
    "\n",
    "# ASO snow depth surfaces\n",
    "depth_50m_path = base_path + 'asc/*.asc'\n",
    "years = list(range(2013,2018))"
   ]
  },
  {
   "cell_type": "markdown",
   "metadata": {},
   "source": [
    "### extract flight dates and times"
   ]
  },
  {
   "cell_type": "code",
   "execution_count": 4,
   "metadata": {},
   "outputs": [
    {
     "name": "stdout",
     "output_type": "stream",
     "text": [
      "Number of files as input: 47\n"
     ]
    }
   ],
   "source": [
    "flist = glob.glob(depth_50m_path)\n",
    "flist = sorted(flist)\n",
    "print('Number of files as input:', len(flist))\n",
    "\n",
    "flight_dates = []\n",
    "\n",
    "for f in sorted(flist):\n",
    "    dt_str = f.split(\"/\")[-1] #splits on '/' and saves the last one\n",
    "    dt_str = \"\".join([c for c in dt_str if c.isnumeric()]) #grabs numeric values for date info\n",
    "    flight_dates.append(dt_str) #append to flight_date list\n",
    "\n",
    "flight_dates_dt = [datetime.strptime(flight_date, '%Y%m%d') for flight_date in flight_dates]"
   ]
  },
  {
   "cell_type": "markdown",
   "metadata": {},
   "source": [
    "### load mask and DEM"
   ]
  },
  {
   "cell_type": "code",
   "execution_count": 5,
   "metadata": {},
   "outputs": [],
   "source": [
    "mask_50m = np.loadtxt(mask_50m_path, skiprows=6)\n",
    "dem_50m = np.loadtxt(dem_50m_path, skiprows=6)"
   ]
  },
  {
   "cell_type": "markdown",
   "metadata": {},
   "source": [
    "### compute CDF from histogram"
   ]
  },
  {
   "cell_type": "code",
   "execution_count": 79,
   "metadata": {},
   "outputs": [],
   "source": [
    "def compute_cdf(depth_array, n_bins, mask_array, mask_value):\n",
    "    \n",
    "    '''\n",
    "    Compute Cumulative Density Function (CDF). \n",
    "        args:\n",
    "            depth_array: \n",
    "            n_bins\n",
    "            mask_array\n",
    "            mask_value\n",
    "            \n",
    "            \n",
    "            returns:\n",
    "    '''\n",
    "    \n",
    "    d = depth_array[[(mask_50m == 1) & (depth_array > 0)]] #data are inside masked area and >0, scalar\n",
    "    \n",
    "    mu = np.nanmean(d)\n",
    "    sigma = np.nanstd(d)\n",
    "    \n",
    "    hist, bins = np.histogram(d, bins=n_bins, density=True)\n",
    "    \n",
    "    y = norm.pdf(bins, mu, sigma).cumsum()\n",
    "    y /= y[-1]\n",
    "    \n",
    "    return bins, y\n",
    "    \n",
    "# https://matplotlib.org/examples/statistics/histogram_demo_cumulative.html [made several changes....]\n",
    "# https://stackoverflow.com/questions/9378420/how-to-plot-cdf-in-matplotlib-in-python/43201585"
   ]
  },
  {
   "cell_type": "code",
   "execution_count": 85,
   "metadata": {},
   "outputs": [
    {
     "data": {
      "text/plain": [
       "['/Users/meganmason491/Documents/research/sierra/data/50m_analysis/asc/TB20130403_SUPERsnow_depth.asc',\n",
       " '/Users/meganmason491/Documents/research/sierra/data/50m_analysis/asc/TB20130429_SUPERsnow_depth.asc',\n",
       " '/Users/meganmason491/Documents/research/sierra/data/50m_analysis/asc/TB20130503_SUPERsnow_depth.asc',\n",
       " '/Users/meganmason491/Documents/research/sierra/data/50m_analysis/asc/TB20130525_SUPERsnow_depth.asc',\n",
       " '/Users/meganmason491/Documents/research/sierra/data/50m_analysis/asc/TB20130601_SUPERsnow_depth.asc',\n",
       " '/Users/meganmason491/Documents/research/sierra/data/50m_analysis/asc/TB20130608_SUPERsnow_depth.asc']"
      ]
     },
     "execution_count": 85,
     "metadata": {},
     "output_type": "execute_result"
    }
   ],
   "source": [
    "fsmall = flist[:6]\n",
    "fsmall"
   ]
  },
  {
   "cell_type": "code",
   "execution_count": 98,
   "metadata": {},
   "outputs": [
    {
     "name": "stderr",
     "output_type": "stream",
     "text": [
      "//anaconda3/envs/data_analysis/lib/python3.6/site-packages/ipykernel_launcher.py:15: FutureWarning: Using a non-tuple sequence for multidimensional indexing is deprecated; use `arr[tuple(seq)]` instead of `arr[seq]`. In the future this will be interpreted as an array index, `arr[np.array(seq)]`, which will result either in an error or a different result.\n",
      "  from ipykernel import kernelapp as app\n"
     ]
    },
    {
     "data": {
      "image/png": "[encoded data removed]",
      "text/plain": [
       "<Figure size 576x288 with 1 Axes>"
      ]
     },
     "metadata": {
      "needs_background": "light"
     },
     "output_type": "display_data"
    }
   ],
   "source": [
    "n_bins=100\n",
    "\n",
    "\n",
    "# fig, ax = plt.subplots(figsize=(8, 4))\n",
    "plt.figure(figsize=(8, 4))\n",
    "# label = ['1', '2', '3', '1', '2', '3']\n",
    "\n",
    "for i, f in enumerate(fsmall):\n",
    "    depth_array = np.loadtxt(f, skiprows=6)\n",
    "    compute_cdf(depth_array, n_bins, mask_50m, np.max(mask_50m))\n",
    "\n",
    "    plt.plot(bins, y, 'k--', linewidth=1.5) #, label=label[i])\n",
    "plt.show()"
   ]
  },
  {
   "cell_type": "code",
   "execution_count": 82,
   "metadata": {},
   "outputs": [
    {
     "name": "stdout",
     "output_type": "stream",
     "text": [
      "/Users/meganmason491/Documents/research/sierra/data/50m_analysis/asc/TB20170717_SUPERsnow_depth.asc\n"
     ]
    },
    {
     "name": "stderr",
     "output_type": "stream",
     "text": [
      "//anaconda3/envs/data_analysis/lib/python3.6/site-packages/ipykernel_launcher.py:9: FutureWarning: Using a non-tuple sequence for multidimensional indexing is deprecated; use `arr[tuple(seq)]` instead of `arr[seq]`. In the future this will be interpreted as an array index, `arr[np.array(seq)]`, which will result either in an error or a different result.\n",
      "  if __name__ == '__main__':\n"
     ]
    },
    {
     "data": {
      "text/plain": [
       "[<matplotlib.lines.Line2D at 0x1c1d825978>]"
      ]
     },
     "execution_count": 82,
     "metadata": {},
     "output_type": "execute_result"
    },
    {
     "data": {
      "image/png": "[encoded data removed]",
      "text/plain": [
       "<Figure size 576x288 with 1 Axes>"
      ]
     },
     "metadata": {
      "needs_background": "light"
     },
     "output_type": "display_data"
    }
   ],
   "source": [
    "# CDF for one!\n",
    "fig, ax = plt.subplots(figsize=(8, 4))\n",
    "\n",
    "f = flist[45]\n",
    "print(f)\n",
    "n_bins = 1000\n",
    "label='sucess??'\n",
    "depth_array = np.loadtxt(f, skiprows=6)\n",
    "d = depth_array[[(mask_50m == 1) & (depth_array > 0)]]\n",
    "\n",
    "mu = np.nanmean(d)\n",
    "sigma = np.nanstd(d)\n",
    "\n",
    "hist, bins = np.histogram(d, bins=n_bins,density=True)\n",
    "y = norm.pdf(bins, mu, sigma).cumsum()\n",
    "y /= y[-1]\n",
    "\n",
    "ax.plot(bins, y, 'k--', linewidth=1.5, label=label)\n"
   ]
  },
  {
   "cell_type": "code",
   "execution_count": 77,
   "metadata": {},
   "outputs": [
    {
     "name": "stdout",
     "output_type": "stream",
     "text": [
      "first b: [10.67, 6.32, 7.82, 8.71]\n"
     ]
    },
    {
     "ename": "TypeError",
     "evalue": "unsupported operand type(s) for /=: 'list' and 'float'",
     "output_type": "error",
     "traceback": [
      "\u001b[0;31m---------------------------------------------------------------------------\u001b[0m",
      "\u001b[0;31mTypeError\u001b[0m                                 Traceback (most recent call last)",
      "\u001b[0;32m<ipython-input-77-824a8916a14e>\u001b[0m in \u001b[0;36m<module>\u001b[0;34m\u001b[0m\n\u001b[1;32m      2\u001b[0m \u001b[0mprint\u001b[0m\u001b[0;34m(\u001b[0m\u001b[0;34m'first b:'\u001b[0m\u001b[0;34m,\u001b[0m \u001b[0mb\u001b[0m\u001b[0;34m)\u001b[0m\u001b[0;34m\u001b[0m\u001b[0;34m\u001b[0m\u001b[0m\n\u001b[1;32m      3\u001b[0m \u001b[0;34m\u001b[0m\u001b[0m\n\u001b[0;32m----> 4\u001b[0;31m \u001b[0mb\u001b[0m \u001b[0;34m/=\u001b[0m \u001b[0mb\u001b[0m\u001b[0;34m[\u001b[0m\u001b[0;34m-\u001b[0m\u001b[0;36m1\u001b[0m\u001b[0;34m]\u001b[0m\u001b[0;34m\u001b[0m\u001b[0;34m\u001b[0m\u001b[0m\n\u001b[0m\u001b[1;32m      5\u001b[0m \u001b[0mprint\u001b[0m\u001b[0;34m(\u001b[0m\u001b[0;34m'second b:'\u001b[0m\u001b[0;34m,\u001b[0m \u001b[0mb\u001b[0m\u001b[0;34m)\u001b[0m\u001b[0;34m\u001b[0m\u001b[0;34m\u001b[0m\u001b[0m\n",
      "\u001b[0;31mTypeError\u001b[0m: unsupported operand type(s) for /=: 'list' and 'float'"
     ]
    }
   ],
   "source": [
    "b=[10.67, 6.32, 7.82, 8.71]\n",
    "print('first b:', b)\n",
    "\n",
    "b /= b[-1]\n",
    "print('second b:', b)"
   ]
  },
  {
   "cell_type": "code",
   "execution_count": null,
   "metadata": {},
   "outputs": [],
   "source": []
  }
 ],
 "metadata": {
  "kernelspec": {
   "display_name": "Python 3",
   "language": "python",
   "name": "python3"
  },
  "language_info": {
   "codemirror_mode": {
    "name": "ipython",
    "version": 3
   },
   "file_extension": ".py",
   "mimetype": "text/x-python",
   "name": "python",
   "nbconvert_exporter": "python",
   "pygments_lexer": "ipython3",
   "version": "3.6.9"
  }
 },
 "nbformat": 4,
 "nbformat_minor": 4
}
