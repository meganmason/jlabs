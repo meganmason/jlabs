{
 "cells": [
  {
   "cell_type": "code",
   "execution_count": 1,
   "metadata": {},
   "outputs": [],
   "source": [
    "%matplotlib inline \n",
    "\n",
    "import numpy as np\n",
    "import pandas as pd\n",
    "from scipy.stats import pearsonr \n",
    "import matplotlib.pyplot as plt\n",
    "import matplotlib.patheffects as PathEffects\n",
    "import glob\n",
    "import os\n",
    "import time\n",
    "import xarray as xr\n",
    "\n",
    "# import earthpy as et\n",
    "# import earthpy.spatial as es\n",
    "# import earthpy.plot as ep\n",
    "\n",
    "# import dask.array as da\n",
    "from dask.diagnostics import ProgressBar\n",
    "from dask.distributed import Client, LocalCluster\n",
    "\n",
    "import seaborn as sns\n",
    "sns.set_style('white')\n",
    "sns.set_context(\"poster\") #[poster, paper, talk, notebook]\n",
    "\n",
    "import warnings; warnings.simplefilter('ignore')"
   ]
  },
  {
   "cell_type": "code",
   "execution_count": 2,
   "metadata": {},
   "outputs": [],
   "source": [
    "# fontsize, linewitch, etc.\n",
    "fs_titles = 24\n",
    "fs_labels = 24\n",
    "fs_axes = 20\n",
    "fs_text = 20\n",
    "fs_legend = 20"
   ]
  },
  {
   "cell_type": "markdown",
   "metadata": {},
   "source": [
    "### load data\n",
    "lidar"
   ]
  },
  {
   "cell_type": "code",
   "execution_count": 6,
   "metadata": {},
   "outputs": [
    {
     "data": {
      "text/html": [
       "<pre>&lt;xarray.Dataset&gt;\n",
       "Dimensions:  (time: 6, x: 2637, y: 2739)\n",
       "Coordinates:\n",
       "    dem      (y, x) float32 dask.array&lt;chunksize=(1000, 1000), meta=np.ndarray&gt;\n",
       "  * time     (time) datetime64[ns] 2013-04-03 2014-04-07 ... 2018-04-23\n",
       "  * y        (y) float32 4234060.0 4234040.0 4234020.0 ... 4179320.0 4179300.0\n",
       "    veg      (y, x) float32 dask.array&lt;chunksize=(1000, 1000), meta=np.ndarray&gt;\n",
       "    mask     (y, x) uint8 dask.array&lt;chunksize=(1000, 1000), meta=np.ndarray&gt;\n",
       "  * x        (x) float32 254000.0 254020.0 254040.0 ... 306700.0 306720.0\n",
       "Data variables:\n",
       "    snow     (time, y, x) float64 dask.array&lt;chunksize=(1, 1000, 1000), meta=np.ndarray&gt;\n",
       "Attributes:\n",
       "    units:    cm</pre>"
      ],
      "text/plain": [
       "<xarray.Dataset>\n",
       "Dimensions:  (time: 6, x: 2637, y: 2739)\n",
       "Coordinates:\n",
       "    dem      (y, x) float32 dask.array<chunksize=(1000, 1000), meta=np.ndarray>\n",
       "  * time     (time) datetime64[ns] 2013-04-03 2014-04-07 ... 2018-04-23\n",
       "  * y        (y) float32 4234060.0 4234040.0 4234020.0 ... 4179320.0 4179300.0\n",
       "    veg      (y, x) float32 dask.array<chunksize=(1000, 1000), meta=np.ndarray>\n",
       "    mask     (y, x) uint8 dask.array<chunksize=(1000, 1000), meta=np.ndarray>\n",
       "  * x        (x) float32 254000.0 254020.0 254040.0 ... 306700.0 306720.0\n",
       "Data variables:\n",
       "    snow     (time, y, x) float64 dask.array<chunksize=(1, 1000, 1000), meta=np.ndarray>\n",
       "Attributes:\n",
       "    units:    cm"
      ]
     },
     "execution_count": 6,
     "metadata": {},
     "output_type": "execute_result"
    }
   ],
   "source": [
    "fname = '/home/meganmason/Documents/projects/thesis/results/output/compiled_SUPERsnow_20m.nc' #ARS\n",
    "# fname = '~/Documents/projects/thesis/results/output/compiled_SUPERsnow.nc' #ARS\n",
    "# fname = '~/Documents/research/sierra/data/20m_analysis/compiled_SUPERsnow_20m.nc' #BSU\n",
    "# fname = '~/Documents/research/sierra/data/compiled_SUPERsnow.nc' #BSU\n",
    "\n",
    "# #~~~~ ds load\n",
    "ds = xr.open_dataset(fname,  chunks={'time':1,'x':1000,'y':1000})\n",
    "\n",
    "# #~~~~ ds peak (cloest to peak SWE dates)\n",
    "dpeak = ds.isel(time=[0,7,18,30,42,49]) #0,7,22,28,41,49]\n",
    "dpeak.close()\n",
    "\n",
    "ds = dpeak\n",
    "\n",
    "#~~~~ ds small\n",
    "# which_yr = '2016'\n",
    "# dsmall = ds.sel(time='{}'.format(which_yr))\n",
    "# dsmall.close()\n",
    "\n",
    "# ds = dsmall\n",
    "\n",
    "#~~~convert to cm\n",
    "ds['snow'] = ds.snow / 10\n",
    "ds.attrs['units'] = 'cm'\n",
    "\n",
    "#~~~remove negatives (make them NaNs)\n",
    "# ds['snow'] = ds.snow.where(ds.snow>0)\n",
    "\n",
    "ds.close()\n",
    "ds"
   ]
  },
  {
   "cell_type": "markdown",
   "metadata": {},
   "source": [
    "terrain"
   ]
  },
  {
   "cell_type": "code",
   "execution_count": null,
   "metadata": {},
   "outputs": [],
   "source": [
    "# path = '/home/meganmason/Documents/projects/thesis/data/processing_lidar/depths_3m/equal_extent/terrain/*.nc' #ARS\n",
    "# # path = '/Users/meganmason491/Documents/research/sierra/data/terrain/*.nc' #BSU\n",
    "# fpath = glob.glob(path)\n",
    "# terrain=xr.open_mfdataset(fpath, concat_dim=None, chunks={'x':1000, 'y':1000}, parallel=True).rename({'Band1':'hillshade'}).drop('transverse_mercator') #combine='nested', \n",
    "# terrain.close()\n",
    "\n",
    "\n",
    "# terrain=np.flip(terrain.hillshade,0)\n",
    "# terrain=terrain.where(ds.mask==1)\n",
    "# # terrain=np.flip(terrain.aspect,0)\n",
    "# # terrain=np.flip(terrain.slope,0)\n",
    "# terrain=terrain.to_dataset()\n",
    "# # terrain"
   ]
  },
  {
   "cell_type": "code",
   "execution_count": null,
   "metadata": {},
   "outputs": [],
   "source": [
    "# fig = plt.figure(figsize=(15,10))\n",
    "# plt.imshow(terrain.hillshade, cmap='gray', alpha=.6)\n",
    "# # c = plt.contour(ds.dem, levels=levels, colors='dimgray', linewidths=.65, alpha=.9)\n",
    "# # plt.clabel(c, c.levels, inline=True, fontsize=10)\n",
    "# plt.axis('off')\n",
    "# plt.show()"
   ]
  },
  {
   "cell_type": "code",
   "execution_count": null,
   "metadata": {},
   "outputs": [],
   "source": [
    "# print('max  value snowdepth [cm]:', ds.snow.values.max())\n",
    "# print('mean value snowdepth [cm]:', ds.snow.values.mean())\n",
    "\n",
    "# print('max snow depth [cm]:', np.nanmax(ds.snow.values))\n",
    "# print('mean snow depth [cm]:', np.nanmean(ds.snow.values))\n",
    "# print('min snow depth [cm]:', np.nanmin(ds.snow.values))"
   ]
  },
  {
   "cell_type": "code",
   "execution_count": null,
   "metadata": {},
   "outputs": [],
   "source": [
    "# hill = es.hillshade(ds.dem)\n",
    "levels=[1500,1750,2000,2250,2500,2750,3000,3250,3500,3750]\n",
    "\n",
    "# fig = plt.figure(figsize=(15,10))\n",
    "# plt.imshow(hill, cmap='gray', alpha=.6)\n",
    "# # c = plt.contour(ds.dem, levels=levels, colors='dimgray', linewidths=.65, alpha=.9)\n",
    "# # plt.clabel(c, c.levels, inline=True, fontsize=10)\n",
    "# plt.show()"
   ]
  },
  {
   "cell_type": "code",
   "execution_count": 7,
   "metadata": {},
   "outputs": [],
   "source": [
    "# compute stats from xarray dataset\n",
    "x_gt0 = ds.snow.where(ds.snow>0)\n",
    "mu_gt0 = x_gt0.mean(dim=('x', 'y'))\n",
    "sig_gt0 = x_gt0.std(dim=('x', 'y'))\n",
    "\n",
    "#rescaled\n",
    "rescaled = (x_gt0 / mu_gt0)     #.std(dim='time')\n",
    "# print('RESCALED',rescaled)\n",
    "\n",
    "#standardize\n",
    "stdize = ((x_gt0 - mu_gt0) / sig_gt0)\n",
    "# print('\\nSTDIZE', stdize)"
   ]
  },
  {
   "cell_type": "code",
   "execution_count": null,
   "metadata": {},
   "outputs": [],
   "source": [
    "# print('max rescaled: ', np.nanmax(rescaled.values))\n",
    "# print('mean rescaled: ', np.nanmean(rescaled.values))\n",
    "# plt.imshow(rescaled.isel(time=4))\n",
    "# plt.title('rescaled')\n",
    "# plt.colorbar()\n",
    "# plt.axis('off')\n",
    "# plt.show()\n",
    "\n",
    "# plt.hist(rescaled.isel(time=4).values.flatten(), bins=35)\n",
    "# plt.title('rescaled')\n",
    "# plt.show()\n",
    "\n",
    "# # print('max standardize: ', np.nanmax(stdize.values))\n",
    "# # print('mean standardize: ', np.nanmean(stdize.values))\n",
    "# plt.imshow(stdize.isel(time=4))\n",
    "# plt.title('standardized')\n",
    "# plt.colorbar()\n",
    "# plt.axis('off')\n",
    "# plt.show()\n",
    "\n",
    "# plt.hist(stdize.isel(time=4).values.flatten(), bins=35)\n",
    "# plt.title('standardized')\n",
    "# plt.show()"
   ]
  },
  {
   "cell_type": "code",
   "execution_count": null,
   "metadata": {},
   "outputs": [],
   "source": [
    "# get std of standardized dataset"
   ]
  },
  {
   "cell_type": "code",
   "execution_count": null,
   "metadata": {},
   "outputs": [],
   "source": [
    "stdize_std_over_time = stdize.std(dim='time') #ssot"
   ]
  },
  {
   "cell_type": "code",
   "execution_count": null,
   "metadata": {},
   "outputs": [],
   "source": [
    "# fig= plt.figure(figsize=(25,15))\n",
    "fig= plt.figure(figsize=(12,8))\n",
    "plt.imshow(terrain.hillshade, cmap='gray', alpha=.6)\n",
    "# c = plt.contour(ds.dem, levels=levels, colors='dimgray', linewidths=.65, alpha=.9)\n",
    "# plt.clabel(c, c.levels[:2], inline=True, fontsize=10)\n",
    "\n",
    "h = plt.imshow(stdize_std_over_time, cmap='jet', alpha=.6, vmax=1.0)\n",
    "cbar = plt.colorbar(h)\n",
    "cbar.set_label('$\\sigma$')\n",
    "plt.title('standard deviation over time for flights nearest peak SWE dates', fontsize=fs_titles)\n",
    "plt.axis('off')\n",
    "plt.savefig('../figs/stdize_std_{}'.format(which_yr), dpi=300, transparent=True)\n",
    "plt.show()"
   ]
  },
  {
   "cell_type": "code",
   "execution_count": null,
   "metadata": {},
   "outputs": [],
   "source": [
    "# a = (ds.snow.where(ds.snow>0) / ds.snow.where(ds.snow>0).mean(dim=('x', 'y')) ).std(dim='time')"
   ]
  },
  {
   "cell_type": "code",
   "execution_count": null,
   "metadata": {},
   "outputs": [],
   "source": [
    "# plt.hexbin(ds.dem.values.flatten(),a.isel(time=7).snow.values.flatten(), cmap='Blues')"
   ]
  },
  {
   "cell_type": "markdown",
   "metadata": {},
   "source": [
    "## other things.."
   ]
  },
  {
   "cell_type": "code",
   "execution_count": null,
   "metadata": {},
   "outputs": [],
   "source": [
    "# means=ds.snow.mean(dim=('x', 'y'))\n",
    "# plt.plot(ds.time, means, marker= 'x')"
   ]
  },
  {
   "cell_type": "code",
   "execution_count": null,
   "metadata": {},
   "outputs": [],
   "source": [
    "# yrly_means = ds.snow.groupby('time').mean(dim=('x','y')) # snow values grouped by year, then the mean\n",
    "# # yrly_means = yrly_means.values.flatten()\n",
    "# print(yrly_means.values)\n",
    "# print(yrly_means.shape)"
   ]
  },
  {
   "cell_type": "code",
   "execution_count": null,
   "metadata": {},
   "outputs": [],
   "source": [
    "stdize_std_over_time"
   ]
  },
  {
   "cell_type": "code",
   "execution_count": null,
   "metadata": {},
   "outputs": [],
   "source": [
    "#flatten elevation\n",
    "dem_flat = ds.dem.values.flatten()\n",
    "dem_flat = np.where(dem_flat>0, dem_flat, np.nan)"
   ]
  },
  {
   "cell_type": "code",
   "execution_count": null,
   "metadata": {},
   "outputs": [],
   "source": [
    "s_flat = stdize_std_over_time.values.flatten()\n",
    "s_flat = np.where(s_flat>0, s_flat, np.nan)\n"
   ]
  },
  {
   "cell_type": "code",
   "execution_count": null,
   "metadata": {},
   "outputs": [],
   "source": [
    "np.nanmax(s_flat)"
   ]
  },
  {
   "cell_type": "code",
   "execution_count": null,
   "metadata": {},
   "outputs": [],
   "source": [
    "# elevation density\n",
    "fig = plt.figure(figsize=(7, 5))\n",
    "plt.hexbin(dem_flat[::10], s_flat[::10], mincnt=11, bins=1000, vmax=500, cmap='cividis')\n",
    "plt.xlabel('Elevation [m]')\n",
    "plt.ylabel('$\\sigma$')\n",
    "plt.title('{}'.format(which_yr))\n",
    "plt.ylim(0,5)\n",
    "plt.colorbar(label='frequency')\n",
    "plt.savefig('../figs/elev_vs_sigma_{}'.format(which_yr), dpi=300, transparent=True)\n",
    "plt.show()"
   ]
  },
  {
   "cell_type": "code",
   "execution_count": null,
   "metadata": {},
   "outputs": [],
   "source": []
  }
 ],
 "metadata": {
  "kernelspec": {
   "display_name": "Python 3",
   "language": "python",
   "name": "python3"
  },
  "language_info": {
   "codemirror_mode": {
    "name": "ipython",
    "version": 3
   },
   "file_extension": ".py",
   "mimetype": "text/x-python",
   "name": "python",
   "nbconvert_exporter": "python",
   "pygments_lexer": "ipython3",
   "version": "3.6.7"
  }
 },
 "nbformat": 4,
 "nbformat_minor": 4
}
