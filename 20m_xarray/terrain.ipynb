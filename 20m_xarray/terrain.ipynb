{
 "cells": [
  {
   "cell_type": "code",
   "execution_count": 1,
   "metadata": {},
   "outputs": [],
   "source": [
    "%matplotlib inline \n",
    "\n",
    "import numpy as np\n",
    "import pandas as pd\n",
    "import glob\n",
    "import os\n",
    "import xarray as xr\n",
    "import matplotlib.pyplot as plt\n",
    "\n",
    "# import dask.array as da\n",
    "from dask.diagnostics import ProgressBar\n",
    "from dask.distributed import Client, LocalCluster"
   ]
  },
  {
   "cell_type": "markdown",
   "metadata": {},
   "source": [
    "#### Load lidar data to get 'mask'"
   ]
  },
  {
   "cell_type": "code",
   "execution_count": 2,
   "metadata": {},
   "outputs": [],
   "source": [
    "fname = '~/Documents/research/sierra/data/20m_analysis/compiled_SUPERsnow_20m.nc' #BSU\n",
    "ds = xr.open_dataset(fname,  chunks={'time':1,'x':1000,'y':1000})\n",
    "ds.close()"
   ]
  },
  {
   "cell_type": "markdown",
   "metadata": {},
   "source": [
    "#### Load terrain layers"
   ]
  },
  {
   "cell_type": "code",
   "execution_count": 6,
   "metadata": {},
   "outputs": [
    {
     "data": {
      "text/plain": [
       "<xarray.Dataset>\n",
       "Dimensions:    (lat: 2739, lon: 2637, x: 2637, y: 2739)\n",
       "Coordinates:\n",
       "  * x          (x) float32 254000.0 254020.0 254040.0 ... 306700.0 306720.0\n",
       "  * y          (y) float32 4234060.0 4234040.0 4234020.0 ... 4179320.0 4179300.0\n",
       "    mask       (y, x) uint8 dask.array<chunksize=(1000, 1000), meta=np.ndarray>\n",
       "    dem        (y, x) float32 dask.array<chunksize=(1000, 1000), meta=np.ndarray>\n",
       "    veg        (y, x) float32 dask.array<chunksize=(1000, 1000), meta=np.ndarray>\n",
       "Dimensions without coordinates: lat, lon\n",
       "Data variables:\n",
       "    aspect     (lat, lon, y, x) float32 dask.array<chunksize=(1000, 1000, 1000, 1000), meta=np.ndarray>\n",
       "    hillshade  (lat, lon, y, x) float32 dask.array<chunksize=(1000, 1000, 1000, 1000), meta=np.ndarray>\n",
       "    slope      (lat, lon, y, x) float32 dask.array<chunksize=(1000, 1000, 1000, 1000), meta=np.ndarray>\n",
       "Attributes:\n",
       "    Conventions:  CF-1.5\n",
       "    GDAL:         GDAL 3.0.2, released 2019/10/28\n",
       "    history:      Mon Apr  6 09:10:31 2020: ncrename -v Band1,aspect aspect.n...\n",
       "    NCO:          netCDF Operators version 4.8.1 (Homepage = http://nco.sf.ne..."
      ]
     },
     "execution_count": 6,
     "metadata": {},
     "output_type": "execute_result"
    }
   ],
   "source": [
    "path = '/Users/meganmason491/Documents/research/sierra/data/20m_analysis/terrain/*.nc' #BSU\n",
    "terrain=xr.open_mfdataset(glob.glob(path), concat_dim=None, combine='nested', parallel=True, chunks={'lat':1000,'lon': 1000})\n",
    "terrain = terrain.drop(('lat', 'lon'))\n",
    "terrain=terrain.where(ds.mask==1)\n",
    "terrain.close()\n",
    "terrain"
   ]
  },
  {
   "cell_type": "markdown",
   "metadata": {},
   "source": [
    "#### Proof that terrain layers are upside down. It's a python thing. Terrain layers are perfectly fine in ncviewer"
   ]
  },
  {
   "cell_type": "code",
   "execution_count": 7,
   "metadata": {},
   "outputs": [
    {
     "data": {
      "text/plain": [
       "<matplotlib.image.AxesImage at 0x318cd21d0>"
      ]
     },
     "execution_count": 7,
     "metadata": {},
     "output_type": "execute_result"
    },
    {
     "data": {
      "image/png": "[encoded data removed]",
      "text/plain": [
       "<Figure size 432x288 with 1 Axes>"
      ]
     },
     "metadata": {
      "needs_background": "light"
     },
     "output_type": "display_data"
    }
   ],
   "source": [
    "plt.imshow(terrain.mask) #terrain.aspect, terrain.slope, etc."
   ]
  },
  {
   "cell_type": "markdown",
   "metadata": {},
   "source": [
    "#### flip each data variable according to the correct axis.\n",
    "Result is DataArray"
   ]
  },
  {
   "cell_type": "code",
   "execution_count": 8,
   "metadata": {},
   "outputs": [],
   "source": [
    "#USED DIFFERENT TIF FILE, DOESN\"T NEED TO BE FLIPPED LIKE THE 3M STUFF DID....\n",
    "\n",
    "# h=np.flip(terrain.hillshade,0)\n",
    "# a=np.flip(terrain.aspect,0)\n",
    "# s=np.flip(terrain.slope,0)"
   ]
  },
  {
   "cell_type": "markdown",
   "metadata": {},
   "source": [
    "#### Merge flipped DataArrays into new DataSet"
   ]
  },
  {
   "cell_type": "code",
   "execution_count": null,
   "metadata": {},
   "outputs": [],
   "source": [
    "# t=xr.merge([h,a,s])"
   ]
  },
  {
   "cell_type": "markdown",
   "metadata": {},
   "source": [
    "#### Show that 't' has been flipped correctly"
   ]
  },
  {
   "cell_type": "code",
   "execution_count": null,
   "metadata": {},
   "outputs": [],
   "source": [
    "# plt.imshow(t.slope)"
   ]
  },
  {
   "cell_type": "markdown",
   "metadata": {},
   "source": [
    "#### SAVE OUTPUT"
   ]
  },
  {
   "cell_type": "code",
   "execution_count": 12,
   "metadata": {},
   "outputs": [
    {
     "data": {
      "text/plain": [
       "<xarray.Dataset>\n",
       "Dimensions:    (lat: 2739, lon: 2637, x: 2637, y: 2739)\n",
       "Coordinates:\n",
       "  * x          (x) float32 254000.0 254020.0 254040.0 ... 306700.0 306720.0\n",
       "  * y          (y) float32 4234060.0 4234040.0 4234020.0 ... 4179320.0 4179300.0\n",
       "    mask       (y, x) uint8 dask.array<chunksize=(1000, 1000), meta=np.ndarray>\n",
       "    dem        (y, x) float32 dask.array<chunksize=(1000, 1000), meta=np.ndarray>\n",
       "    veg        (y, x) float32 dask.array<chunksize=(1000, 1000), meta=np.ndarray>\n",
       "Dimensions without coordinates: lat, lon\n",
       "Data variables:\n",
       "    aspect     (lat, lon, y, x) float32 dask.array<chunksize=(1000, 1000, 1000, 1000), meta=np.ndarray>\n",
       "    hillshade  (lat, lon, y, x) float32 dask.array<chunksize=(1000, 1000, 1000, 1000), meta=np.ndarray>\n",
       "    slope      (lat, lon, y, x) float32 dask.array<chunksize=(1000, 1000, 1000, 1000), meta=np.ndarray>\n",
       "Attributes:\n",
       "    Conventions:  CF-1.5\n",
       "    GDAL:         GDAL 3.0.2, released 2019/10/28\n",
       "    history:      Mon Apr  6 09:10:31 2020: ncrename -v Band1,aspect aspect.n...\n",
       "    NCO:          netCDF Operators version 4.8.1 (Homepage = http://nco.sf.ne..."
      ]
     },
     "execution_count": 12,
     "metadata": {},
     "output_type": "execute_result"
    }
   ],
   "source": [
    "#t\n",
    "terrain"
   ]
  },
  {
   "cell_type": "code",
   "execution_count": null,
   "metadata": {},
   "outputs": [],
   "source": [
    "#uncomment when you want to save:\n",
    "terrain.to_netcdf('~/Documents/research/sierra/data/20m_analysis/terrain.nc')"
   ]
  },
  {
   "cell_type": "code",
   "execution_count": null,
   "metadata": {},
   "outputs": [],
   "source": []
  }
 ],
 "metadata": {
  "kernelspec": {
   "display_name": "Python 3",
   "language": "python",
   "name": "python3"
  },
  "language_info": {
   "codemirror_mode": {
    "name": "ipython",
    "version": 3
   },
   "file_extension": ".py",
   "mimetype": "text/x-python",
   "name": "python",
   "nbconvert_exporter": "python",
   "pygments_lexer": "ipython3",
   "version": "3.6.9"
  }
 },
 "nbformat": 4,
 "nbformat_minor": 4
}
