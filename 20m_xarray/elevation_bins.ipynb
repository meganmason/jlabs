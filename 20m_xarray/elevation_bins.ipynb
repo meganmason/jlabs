{
 "cells": [
  {
   "cell_type": "code",
   "execution_count": 1,
   "metadata": {},
   "outputs": [],
   "source": [
    "%matplotlib inline \n",
    "import pandas as pd\n",
    "import numpy as np\n",
    "import xarray as xr\n",
    "import os\n",
    "import glob\n",
    "import time\n",
    "import matplotlib as mpl\n",
    "import matplotlib.pyplot as plt\n",
    "from scipy.stats import pearsonr\n",
    "from scipy.stats import norm\n",
    "from dask.diagnostics import ProgressBar\n",
    "from dask.distributed import Client, LocalCluster\n",
    "import earthpy as et\n",
    "import earthpy.spatial as es\n",
    "import earthpy.plot as ep\n",
    "\n",
    "import seaborn as sns\n",
    "sns.set_style('white')\n",
    "sns.set_context(\"poster\") #[poster, paper, talk, notebook]\n",
    "\n",
    "import warnings; warnings.simplefilter('ignore') #not the best, but helps when zeros are out of hand"
   ]
  },
  {
   "cell_type": "markdown",
   "metadata": {},
   "source": [
    "#### load lidar data"
   ]
  },
  {
   "cell_type": "code",
   "execution_count": 2,
   "metadata": {},
   "outputs": [],
   "source": [
    "fname = '~/Documents/research/sierra/data/20m_analysis/compiled_SUPERsnow_20m.nc' #BSU\n",
    "ds = xr.open_dataset(fname,  chunks={'time':1,'x':1000,'y':1000})\n",
    "ds['snow'] = ds.snow/10 #convert to cm\n",
    "ds['snow'] = ds.snow.where(ds.snow>=0) #all snow >= zero\n",
    "ds.x.attrs['long_name']='Easting'; ds.x.attrs['units']='m'\n",
    "ds.y.attrs['long_name']='Northing'; ds.y.attrs['units']='m'\n",
    "ds.close()"
   ]
  },
  {
   "cell_type": "markdown",
   "metadata": {},
   "source": [
    "#### load terrain data"
   ]
  },
  {
   "cell_type": "code",
   "execution_count": 3,
   "metadata": {},
   "outputs": [],
   "source": [
    "fname = '~/Documents/research/sierra/data/20m_analysis/terrain.nc' #BSU\n",
    "ts = xr.open_dataset(fname,  chunks={'x':1000,'y':1000}).drop(('dem','veg'))\n",
    "ts.close()"
   ]
  },
  {
   "cell_type": "markdown",
   "metadata": {},
   "source": [
    "#### do stuff"
   ]
  },
  {
   "cell_type": "code",
   "execution_count": null,
   "metadata": {},
   "outputs": [],
   "source": [
    "peak = [0,7,18,30,42,49]\n",
    "ds_tmp = ds.isel(time=peak)\n",
    "h = ds_tmp.snow.plot.imshow(x='x', y='y', col='time', col_wrap=3, cmap='Blues', vmax=250, cbar_kwargs={'label': 'Snow Depth [cm]'})\n",
    "# plt.savefig('../figs/test.png', dpi=300)\n",
    "del ds_tmp"
   ]
  },
  {
   "cell_type": "code",
   "execution_count": 5,
   "metadata": {},
   "outputs": [
    {
     "data": {
      "text/plain": [
       "<xarray.DataArray 'snow' (time: 51, y: 2739, x: 2637)>\n",
       "dask.array<sub, shape=(51, 2739, 2637), dtype=float64, chunksize=(1, 1000, 1000), chunktype=numpy.ndarray>\n",
       "Coordinates:\n",
       "  * x        (x) float32 254000.0 254020.0 254040.0 ... 306700.0 306720.0\n",
       "  * y        (y) float32 4234060.0 4234040.0 4234020.0 ... 4179320.0 4179300.0\n",
       "  * time     (time) datetime64[ns] 2013-04-03 2013-04-29 ... 2018-05-28\n",
       "    mask     (y, x) uint8 dask.array<chunksize=(1000, 1000), meta=np.ndarray>\n",
       "    dem      (y, x) float32 dask.array<chunksize=(1000, 1000), meta=np.ndarray>\n",
       "    veg      (y, x) float32 dask.array<chunksize=(1000, 1000), meta=np.ndarray>"
      ]
     },
     "execution_count": 5,
     "metadata": {},
     "output_type": "execute_result"
    }
   ],
   "source": [
    "#standardize\n",
    "stan = (ds.snow - ds.snow.mean(dim=('x','y')) / ds.snow.std(dim=('x','y')))\n",
    "stan"
   ]
  },
  {
   "cell_type": "code",
   "execution_count": null,
   "metadata": {},
   "outputs": [],
   "source": [
    "ds_tmp = stan.isel(time=peak)\n",
    "h = ds_tmp.plot.imshow(x='x', y='y', col='time', col_wrap=3, cmap='Blues', vmax=250, cbar_kwargs={'label': 'Snow Depth [cm]'})\n",
    "# plt.savefig('../figs/test.png', dpi=300)"
   ]
  },
  {
   "cell_type": "code",
   "execution_count": null,
   "metadata": {},
   "outputs": [],
   "source": [
    "#compute stats from xarray\n",
    "x_gt0 = ds.snow.where(ds.snow>0) #already happens when data are loaded in\n",
    "x_gt0 = ds.snow.where(ds.dem>2000)\n",
    "mu_gt0 = x_gt0.mean(dim=('x', 'y'))\n",
    "sig_gt0 = x_gt0.std(dim=('x', 'y'))\n",
    "\n",
    "#rescaled\n",
    "# rescaled = (x_gt0 / mu_gt0)\n",
    "\n",
    "#standardize\n",
    "stdize = ((x_gt0 - mu_gt0) / sig_gt0)\n",
    "stdize\n",
    "print(sig_gt0.min().values)"
   ]
  },
  {
   "cell_type": "code",
   "execution_count": null,
   "metadata": {},
   "outputs": [],
   "source": [
    "stdize_ = stdize.isel(time=slice(1,51,2)) \n",
    "h = stdize_.plot.imshow(x='x', y='y', col='time', col_wrap=5, cmap='RdBu', vmin=-3, vmax=3, cbar_kwargs={'label': 'Standardized depth values'})"
   ]
  },
  {
   "cell_type": "code",
   "execution_count": null,
   "metadata": {},
   "outputs": [],
   "source": []
  },
  {
   "cell_type": "code",
   "execution_count": null,
   "metadata": {},
   "outputs": [],
   "source": [
    "#standardize\n",
    "s = stdize.std(dim='time')"
   ]
  },
  {
   "cell_type": "code",
   "execution_count": null,
   "metadata": {},
   "outputs": [],
   "source": [
    "ss = s.values\n",
    "print(type(ss))"
   ]
  },
  {
   "cell_type": "code",
   "execution_count": null,
   "metadata": {},
   "outputs": [],
   "source": [
    "print('min:', np.min(ss))\n",
    "print('max:', np.max(ss))\n",
    "print('mean:', np.mean(ss))"
   ]
  },
  {
   "cell_type": "code",
   "execution_count": null,
   "metadata": {},
   "outputs": [],
   "source": [
    "sb = np.where(ss>=1, 1, np.nan)\n",
    "np.nanmean(sb)"
   ]
  },
  {
   "cell_type": "code",
   "execution_count": null,
   "metadata": {},
   "outputs": [],
   "source": [
    "foo = np.array([[3,4],[5,6]])\n",
    "foo\n",
    "\n",
    "boo = np.where(foo>=4, 4, np.nan)\n",
    "boo"
   ]
  },
  {
   "cell_type": "code",
   "execution_count": null,
   "metadata": {},
   "outputs": [],
   "source": [
    "#plot standardize\n",
    "plt.figure(figsize=(15,12))\n",
    "ts.hillshade.plot.imshow(x='x', y='y', cmap='gray', alpha=.6, add_colorbar=False)\n",
    "# plt.imshow(sb, cmap='Reds_r')\n",
    "s.plot.imshow(x='x', y='y', cmap='Reds', alpha=.6, vmin= 0.5, vmax=1, cbar_kwargs={'label': '$\\sigma$ standardized depth values'})\n",
    "plt.savefig('../figs/sig_std_20m.png', dpi=300)"
   ]
  },
  {
   "cell_type": "code",
   "execution_count": null,
   "metadata": {},
   "outputs": [],
   "source": [
    "#hexbin sigma\n",
    "s_flat = s.values.flatten()\n",
    "e_flat = ds.dem.values.flatten()\n",
    "s_flat = np.where(s_flat>0, s_flat, np.nan)\n",
    "e_flat = np.where(e_flat>0, e_flat, np.nan)\n",
    "print(s_flat.shape, e_flat.shape)"
   ]
  },
  {
   "cell_type": "code",
   "execution_count": null,
   "metadata": {},
   "outputs": [],
   "source": [
    "plt.figure(figsize=(15,10))\n",
    "plt.hexbin(e_flat, s_flat, mincnt=50, gridsize=250, cmap='viridis')\n",
    "plt.xlabel('Elevation [m]')\n",
    "plt.ylabel('$\\sigma$ of SDV')\n",
    "plt.title('Standard Deviation over time by Elevation')\n",
    "plt.colorbar(label='frequency')\n",
    "plt.ylim(0,3)\n",
    "plt.savefig('../figs/sig_hexbin_el_20m', dpi=300)"
   ]
  },
  {
   "cell_type": "code",
   "execution_count": null,
   "metadata": {},
   "outputs": [],
   "source": [
    "#aspect\n",
    "a_flat = ts.aspect.values.flatten()\n",
    "print(s_flat.shape, a_flat.shape)"
   ]
  },
  {
   "cell_type": "code",
   "execution_count": null,
   "metadata": {},
   "outputs": [],
   "source": [
    "plt.figure(figsize=(15,10))\n",
    "plt.hexbin(a_flat, s_flat, mincnt=50, gridsize=250, cmap='viridis')\n",
    "plt.xlabel('Aspect')\n",
    "plt.ylabel('$\\sigma$ of SDV')\n",
    "plt.title('Standard Deviation over time by Aspect')\n",
    "plt.colorbar(label='frequency')\n",
    "plt.ylim(0,3)\n",
    "plt.savefig('../figs/sig_hexbin_as_20m', dpi=300)"
   ]
  },
  {
   "cell_type": "code",
   "execution_count": null,
   "metadata": {},
   "outputs": [],
   "source": [
    "#slope\n",
    "slp_flat = ts.slope.values.flatten()\n",
    "print(s_flat.shape, slp_flat.shape)"
   ]
  },
  {
   "cell_type": "code",
   "execution_count": null,
   "metadata": {},
   "outputs": [],
   "source": [
    "plt.figure(figsize=(15,10))\n",
    "plt.hexbin(slp_flat, s_flat, mincnt=50, gridsize=250, cmap='viridis')\n",
    "plt.xlabel('Slope')\n",
    "plt.ylabel('$\\sigma$ of SDV')\n",
    "plt.title('Standard Deviation over time by Slope')\n",
    "plt.colorbar(label='frequency')\n",
    "plt.ylim(0,3)\n",
    "plt.savefig('../figs/sig_hexbin_sl_20m', dpi=300)"
   ]
  },
  {
   "cell_type": "code",
   "execution_count": null,
   "metadata": {},
   "outputs": [],
   "source": [
    "mu_time = stdize.mean(dim='time')\n",
    "m_flat = mu_time.values.flatten()\n",
    "print(e_flat.shape, m_flat.shape)"
   ]
  },
  {
   "cell_type": "code",
   "execution_count": null,
   "metadata": {},
   "outputs": [],
   "source": [
    "#mean SDV by elevation\n",
    "plt.figure(figsize=(15,10))\n",
    "plt.scatter(e_flat[::100], a_flat[::100], c=m_flat[::100], s=10, cmap='jet', vmax=3)\n",
    "plt.xlabel('Elevation [m]')\n",
    "plt.ylabel('Aspect')\n",
    "# plt.title('Mean SDV by Elevation')\n",
    "plt.colorbar(label='SDV')\n",
    "# plt.ylim(0,3)\n",
    "# plt.savefig('../figs/meanSDV_elev_asp_20m', dpi=300)"
   ]
  },
  {
   "cell_type": "code",
   "execution_count": null,
   "metadata": {},
   "outputs": [],
   "source": [
    "muu_time = ds.snow.mean(dim='time')\n",
    "mm_flat = muu_time.values.flatten()\n",
    "print(e_flat.shape, mm_flat.shape)"
   ]
  },
  {
   "cell_type": "code",
   "execution_count": null,
   "metadata": {},
   "outputs": [],
   "source": [
    "#meanSD by aspect and elevation\n",
    "plt.figure(figsize=(15,10))\n",
    "plt.scatter(e_flat, a_flat, c=mm_flat, s=10, cmap='jet', vmax=250)\n",
    "plt.xlabel('Elevation [m]')\n",
    "plt.ylabel('Aspect')\n",
    "# plt.title('Mean SDV by Elevation')\n",
    "plt.colorbar(label='Mean Snow Depth [cm]')\n",
    "\n",
    "plt.savefig('../figs/meanSD_elev_asp_20m', dpi=300)"
   ]
  },
  {
   "cell_type": "code",
   "execution_count": null,
   "metadata": {},
   "outputs": [],
   "source": [
    "#meanSD by slope and elevation\n",
    "plt.figure(figsize=(15,10))\n",
    "plt.scatter(e_flat, slp_flat, c=mm_flat, s=10, cmap='jet', vmax=250)\n",
    "plt.xlabel('Elevation [m]')\n",
    "plt.ylabel('Slope')\n",
    "# plt.title('Mean SDV by Elevation')\n",
    "plt.colorbar(label='Mean Snow Depth [cm]')\n",
    "\n",
    "plt.savefig('../figs/meanSD_elev_slp_20m', dpi=300)"
   ]
  },
  {
   "cell_type": "code",
   "execution_count": null,
   "metadata": {},
   "outputs": [],
   "source": [
    "#mean snow depth by slope and aspect\n",
    "plt.figure(figsize=(15,10))\n",
    "plt.scatter(a_flat, slp_flat, c=mm_flat, s=10, cmap='jet', vmax=250)\n",
    "plt.xlabel('Aspect')\n",
    "plt.ylabel('Slope')\n",
    "# plt.title('Mean SDV by Elevation')\n",
    "plt.colorbar(label='Mean Snow Depth [cm]')\n",
    "\n",
    "plt.savefig('../figs/meanSD_asp_slp_20m', dpi=300)"
   ]
  },
  {
   "cell_type": "code",
   "execution_count": null,
   "metadata": {},
   "outputs": [],
   "source": []
  },
  {
   "cell_type": "code",
   "execution_count": null,
   "metadata": {},
   "outputs": [],
   "source": [
    "stdize"
   ]
  },
  {
   "cell_type": "code",
   "execution_count": null,
   "metadata": {},
   "outputs": [],
   "source": []
  },
  {
   "cell_type": "markdown",
   "metadata": {},
   "source": [
    "#### groupby testing"
   ]
  },
  {
   "cell_type": "code",
   "execution_count": 6,
   "metadata": {},
   "outputs": [
    {
     "data": {
      "text/plain": [
       "<xarray.Dataset>\n",
       "Dimensions:  (time: 51, x: 2637, y: 2739)\n",
       "Coordinates:\n",
       "  * x        (x) float32 254000.0 254020.0 254040.0 ... 306700.0 306720.0\n",
       "  * y        (y) float32 4234060.0 4234040.0 4234020.0 ... 4179320.0 4179300.0\n",
       "  * time     (time) datetime64[ns] 2013-04-03 2013-04-29 ... 2018-05-28\n",
       "    mask     (y, x) uint8 dask.array<chunksize=(1000, 1000), meta=np.ndarray>\n",
       "    dem      (y, x) float32 dask.array<chunksize=(1000, 1000), meta=np.ndarray>\n",
       "    veg      (y, x) float32 dask.array<chunksize=(1000, 1000), meta=np.ndarray>\n",
       "Data variables:\n",
       "    snow     (time, y, x) float64 dask.array<chunksize=(1, 1000, 1000), meta=np.ndarray>"
      ]
     },
     "execution_count": 6,
     "metadata": {},
     "output_type": "execute_result"
    }
   ],
   "source": [
    "ds"
   ]
  },
  {
   "cell_type": "code",
   "execution_count": 7,
   "metadata": {},
   "outputs": [
    {
     "data": {
      "text/plain": [
       "<xarray.DataArray 'snow' (time: 51, y: 2739, x: 2637)>\n",
       "dask.array<sub, shape=(51, 2739, 2637), dtype=float64, chunksize=(1, 1000, 1000), chunktype=numpy.ndarray>\n",
       "Coordinates:\n",
       "  * x        (x) float32 254000.0 254020.0 254040.0 ... 306700.0 306720.0\n",
       "  * y        (y) float32 4234060.0 4234040.0 4234020.0 ... 4179320.0 4179300.0\n",
       "  * time     (time) datetime64[ns] 2013-04-03 2013-04-29 ... 2018-05-28\n",
       "    mask     (y, x) uint8 dask.array<chunksize=(1000, 1000), meta=np.ndarray>\n",
       "    dem      (y, x) float32 dask.array<chunksize=(1000, 1000), meta=np.ndarray>\n",
       "    veg      (y, x) float32 dask.array<chunksize=(1000, 1000), meta=np.ndarray>"
      ]
     },
     "execution_count": 7,
     "metadata": {},
     "output_type": "execute_result"
    }
   ],
   "source": [
    "stan"
   ]
  },
  {
   "cell_type": "code",
   "execution_count": 8,
   "metadata": {},
   "outputs": [
    {
     "data": {
      "text/plain": [
       "{2013: [0, 1, 2, 3, 4, 5],\n",
       " 2014: [6, 7, 8, 9, 10, 11, 12, 13, 14, 15, 16],\n",
       " 2015: [17, 18, 19, 20, 21, 22, 23, 24, 25, 26],\n",
       " 2016: [27, 28, 29, 30, 31, 32, 33, 34, 35, 36, 37, 38, 39],\n",
       " 2017: [40, 41, 42, 43, 44, 45, 46, 47, 48],\n",
       " 2018: [49, 50]}"
      ]
     },
     "execution_count": 8,
     "metadata": {},
     "output_type": "execute_result"
    }
   ],
   "source": [
    "ds.groupby('time.year').groups"
   ]
  },
  {
   "cell_type": "code",
   "execution_count": 11,
   "metadata": {},
   "outputs": [],
   "source": [
    "# list(ds.groupby('time.year'))"
   ]
  },
  {
   "cell_type": "code",
   "execution_count": null,
   "metadata": {},
   "outputs": [],
   "source": []
  },
  {
   "cell_type": "code",
   "execution_count": null,
   "metadata": {},
   "outputs": [],
   "source": []
  },
  {
   "cell_type": "markdown",
   "metadata": {},
   "source": [
    "### group elevation bins in ds.dem"
   ]
  },
  {
   "cell_type": "code",
   "execution_count": null,
   "metadata": {},
   "outputs": [],
   "source": []
  },
  {
   "cell_type": "code",
   "execution_count": null,
   "metadata": {},
   "outputs": [],
   "source": []
  },
  {
   "cell_type": "code",
   "execution_count": null,
   "metadata": {},
   "outputs": [],
   "source": []
  },
  {
   "cell_type": "code",
   "execution_count": null,
   "metadata": {},
   "outputs": [],
   "source": []
  },
  {
   "cell_type": "code",
   "execution_count": 73,
   "metadata": {},
   "outputs": [],
   "source": [
    "bin_sz = 250\n",
    "bins = np.arange(1500, 4000, bin_sz)\n",
    "bin_labels = ['1500-1750','1750-2000','2000-2250','2250-2500','2500-2750','2750-3000','3000-3250','3250-3500','3500-3750'] #do better\n",
    "elev=ds.groupby_bins(group='dem', bins=bins, labels=bin_labels).groups"
   ]
  },
  {
   "cell_type": "code",
   "execution_count": 74,
   "metadata": {},
   "outputs": [
    {
     "name": "stdout",
     "output_type": "stream",
     "text": [
      "<class 'dict'>\n"
     ]
    }
   ],
   "source": [
    "print(type(elev))"
   ]
  },
  {
   "cell_type": "code",
   "execution_count": 44,
   "metadata": {},
   "outputs": [
    {
     "data": {
      "text/plain": [
       "<xarray.DataArray 'snow' (time: 51, y: 2739, x: 2637)>\n",
       "dask.array<astype, shape=(51, 2739, 2637), dtype=int16, chunksize=(1, 1000, 1000), chunktype=numpy.ndarray>\n",
       "Coordinates:\n",
       "  * x        (x) float32 254000.0 254020.0 254040.0 ... 306700.0 306720.0\n",
       "  * y        (y) float32 4234060.0 4234040.0 4234020.0 ... 4179320.0 4179300.0\n",
       "  * time     (time) datetime64[ns] 2013-04-03 2013-04-29 ... 2018-05-28\n",
       "    mask     (y, x) uint8 dask.array<chunksize=(1000, 1000), meta=np.ndarray>\n",
       "    dem      (y, x) float32 dask.array<chunksize=(1000, 1000), meta=np.ndarray>\n",
       "    veg      (y, x) float32 dask.array<chunksize=(1000, 1000), meta=np.ndarray>"
      ]
     },
     "execution_count": 44,
     "metadata": {},
     "output_type": "execute_result"
    }
   ],
   "source": [
    "sno = ds['snow'] #make a data array\n",
    "sno=sno.astype(np.int16, copy=False) #back to int16\n",
    "sno"
   ]
  },
  {
   "cell_type": "code",
   "execution_count": 63,
   "metadata": {},
   "outputs": [
    {
     "data": {
      "text/plain": [
       "array([ 29.59721037,  17.83915349,  14.28066456,   6.68476644,\n",
       "         5.02066209,   2.70537191,  21.4413351 ,  29.62632853,\n",
       "        23.72092597,  20.54355444,  21.86521367,  15.82316081,\n",
       "        12.35766952,   8.3186979 ,   5.63930989,   3.89477266,\n",
       "         2.48503221,  10.93322938,  13.88808781,   8.82240888,\n",
       "         6.03797657,  15.58294612,   8.74790782,  10.64929709,\n",
       "         4.76767566,   3.84457691,   1.34719303,  60.27940673,\n",
       "        60.94979719,  52.88984268,  49.22201925,  46.65049179,\n",
       "        41.98258003,  23.87233313,  13.21506317,   9.33294608,\n",
       "         6.29114465,   3.3091536 ,   2.03459351,   1.14745631,\n",
       "        96.57972698, 125.68027036, 112.66055154,  98.96218348,\n",
       "        61.97552453,  12.76478895,   7.8166385 ,   4.26952946,\n",
       "         1.54954344,  39.04632201,  10.88569966])"
      ]
     },
     "execution_count": 63,
     "metadata": {},
     "output_type": "execute_result"
    }
   ],
   "source": [
    "sno.groupby('time').mean().values#.plot(col='time', col_wrap=3)"
   ]
  },
  {
   "cell_type": "code",
   "execution_count": 93,
   "metadata": {},
   "outputs": [],
   "source": [
    "#~~~~~ CLOSEST YET!! ~~~~~ grabs meanSD for each elevation bin......just need to add a time dimension\n",
    "w = sno.groupby_bins('dem', bins, bin_labels).mean() #.mean(dim='time')"
   ]
  },
  {
   "cell_type": "code",
   "execution_count": 94,
   "metadata": {},
   "outputs": [
    {
     "data": {
      "text/plain": [
       "array([  1.10441469,   3.15117151,  10.10965356,  28.39359948,\n",
       "        50.29719057,  72.51814815,  99.66789971, 100.97724845,\n",
       "        92.56737336])"
      ]
     },
     "execution_count": 94,
     "metadata": {},
     "output_type": "execute_result"
    }
   ],
   "source": [
    "w.values"
   ]
  },
  {
   "cell_type": "code",
   "execution_count": 104,
   "metadata": {},
   "outputs": [
    {
     "name": "stdout",
     "output_type": "stream",
     "text": [
      "2013\n",
      "2014\n",
      "2015\n",
      "2016\n",
      "2017\n",
      "2018\n"
     ]
    }
   ],
   "source": [
    "# for layer in list(elev):\n",
    "#     print(layer)\n",
    "    \n",
    "for label, group in ds.groupby('time.year'):\n",
    "    print(label)\n",
    "#     print(group)\n"
   ]
  },
  {
   "cell_type": "code",
   "execution_count": 116,
   "metadata": {},
   "outputs": [],
   "source": [
    "snow_el_grp = sno.mean(['time']).groupby_bins('dem', bins, bin_labels) #snow_el_grp = sno.mean([('x','y')]).groupby_bins('dem', bins, bin_labels) # SHOULDN'T BE TAKING THE MEAN OVER TIME\n"
   ]
  },
  {
   "cell_type": "code",
   "execution_count": 121,
   "metadata": {},
   "outputs": [
    {
     "ename": "AttributeError",
     "evalue": "'DataArrayGroupBy' object has no attribute 'plot'",
     "output_type": "error",
     "traceback": [
      "\u001b[0;31m---------------------------------------------------------------------------\u001b[0m",
      "\u001b[0;31mAttributeError\u001b[0m                            Traceback (most recent call last)",
      "\u001b[0;32m<ipython-input-121-056b8a190b10>\u001b[0m in \u001b[0;36m<module>\u001b[0;34m\u001b[0m\n\u001b[0;32m----> 1\u001b[0;31m \u001b[0msnow_el_grp\u001b[0m\u001b[0;34m.\u001b[0m\u001b[0mplot\u001b[0m\u001b[0;34m(\u001b[0m\u001b[0;34m)\u001b[0m\u001b[0;34m\u001b[0m\u001b[0;34m\u001b[0m\u001b[0m\n\u001b[0m\u001b[1;32m      2\u001b[0m \u001b[0;31m# print(type(snow_el_grp))\u001b[0m\u001b[0;34m\u001b[0m\u001b[0;34m\u001b[0m\u001b[0;34m\u001b[0m\u001b[0m\n",
      "\u001b[0;31mAttributeError\u001b[0m: 'DataArrayGroupBy' object has no attribute 'plot'"
     ]
    }
   ],
   "source": [
    "snow_el_grp.plot()\n",
    "# print(type(snow_el_grp))"
   ]
  },
  {
   "cell_type": "code",
   "execution_count": 34,
   "metadata": {},
   "outputs": [
    {
     "ename": "AttributeError",
     "evalue": "'DataArrayGroupBy' object has no attribute 'plot'",
     "output_type": "error",
     "traceback": [
      "\u001b[0;31m---------------------------------------------------------------------------\u001b[0m",
      "\u001b[0;31mAttributeError\u001b[0m                            Traceback (most recent call last)",
      "\u001b[0;32m<ipython-input-34-b266d2607443>\u001b[0m in \u001b[0;36m<module>\u001b[0;34m\u001b[0m\n\u001b[0;32m----> 1\u001b[0;31m \u001b[0msnow_el_grp\u001b[0m\u001b[0;34m.\u001b[0m\u001b[0mplot\u001b[0m\u001b[0;34m(\u001b[0m\u001b[0;34m)\u001b[0m\u001b[0;34m\u001b[0m\u001b[0;34m\u001b[0m\u001b[0m\n\u001b[0m",
      "\u001b[0;31mAttributeError\u001b[0m: 'DataArrayGroupBy' object has no attribute 'plot'"
     ]
    }
   ],
   "source": [
    "snow_el_grp.plot()"
   ]
  },
  {
   "cell_type": "code",
   "execution_count": null,
   "metadata": {},
   "outputs": [],
   "source": [
    "ds.dem.plot()"
   ]
  },
  {
   "cell_type": "markdown",
   "metadata": {},
   "source": [
    "### dummy ds"
   ]
  },
  {
   "cell_type": "code",
   "execution_count": 25,
   "metadata": {},
   "outputs": [
    {
     "data": {
      "text/plain": [
       "<xarray.Dataset>\n",
       "Dimensions:  (x: 4, y: 3)\n",
       "Coordinates:\n",
       "  * x        (x) int64 10 20 30 40\n",
       "    letters  (x) <U1 'a' 'b' 'b' 'a'\n",
       "Dimensions without coordinates: y\n",
       "Data variables:\n",
       "    foo      (x, y) float64 0.2524 0.3088 0.1327 0.8945 ... 0.2224 0.2482 0.2842"
      ]
     },
     "execution_count": 25,
     "metadata": {},
     "output_type": "execute_result"
    }
   ],
   "source": [
    "bla = xr.Dataset({\"foo\": ((\"x\", \"y\"), np.random.rand(4, 3))},coords={\"x\": [10, 20, 30, 40], \"letters\": (\"x\", list(\"abba\"))})\n",
    "bla"
   ]
  },
  {
   "cell_type": "code",
   "execution_count": 27,
   "metadata": {},
   "outputs": [
    {
     "name": "stdout",
     "output_type": "stream",
     "text": [
      "<class 'xarray.core.dataarray.DataArray'>\n"
     ]
    }
   ],
   "source": [
    "arr = bla[\"foo\"]\n",
    "print(type(arr))"
   ]
  },
  {
   "cell_type": "code",
   "execution_count": null,
   "metadata": {},
   "outputs": [],
   "source": []
  }
 ],
 "metadata": {
  "kernelspec": {
   "display_name": "Python 3",
   "language": "python",
   "name": "python3"
  },
  "language_info": {
   "codemirror_mode": {
    "name": "ipython",
    "version": 3
   },
   "file_extension": ".py",
   "mimetype": "text/x-python",
   "name": "python",
   "nbconvert_exporter": "python",
   "pygments_lexer": "ipython3",
   "version": "3.6.9"
  }
 },
 "nbformat": 4,
 "nbformat_minor": 4
}
