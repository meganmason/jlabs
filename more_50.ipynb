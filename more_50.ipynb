{
 "cells": [
  {
   "cell_type": "code",
   "execution_count": 1,
   "metadata": {},
   "outputs": [],
   "source": [
    "%matplotlib inline \n",
    "\n",
    "import numpy as np\n",
    "import pandas as pd\n",
    "import matplotlib.pyplot as plt\n",
    "import glob\n",
    "import os\n",
    "import xarray as xr"
   ]
  },
  {
   "cell_type": "code",
   "execution_count": 2,
   "metadata": {},
   "outputs": [],
   "source": [
    "#lidar data (clipped, downscaled [50m], 2013-2016)\n",
    "lidar_path = '/Users/megmason/research/sierra/data/depths_13-16_50m_downscale_clipped/*.nc'\n",
    "flist = glob.glob(lidar_path)"
   ]
  },
  {
   "cell_type": "code",
   "execution_count": 14,
   "metadata": {},
   "outputs": [],
   "source": [
    "ds=xr.open_mfdataset(flist, concat_dim='time') \n",
    "ds.close()"
   ]
  },
  {
   "cell_type": "code",
   "execution_count": 15,
   "metadata": {},
   "outputs": [
    {
     "data": {
      "text/plain": [
       "Frozen(SortedKeysDict({'x': 1054, 'y': 1007, 'time': 40}))"
      ]
     },
     "execution_count": 15,
     "metadata": {},
     "output_type": "execute_result"
    }
   ],
   "source": [
    "ds.dims"
   ]
  },
  {
   "cell_type": "code",
   "execution_count": 17,
   "metadata": {},
   "outputs": [
    {
     "name": "stdout",
     "output_type": "stream",
     "text": [
      "<class 'numpy.ndarray'>\n",
      "(1007, 1054)\n"
     ]
    }
   ],
   "source": [
    "sig = ds.Band1.std(dim='time')\n",
    "sig = np.where(sig>.001, sig, np.nan)\n",
    "print(type(sig))\n",
    "print(sig.shape)\n",
    "# sig_f = sig.flatten()\n",
    "# print(type(sig_f))"
   ]
  },
  {
   "cell_type": "code",
   "execution_count": 69,
   "metadata": {},
   "outputs": [
    {
     "name": "stdout",
     "output_type": "stream",
     "text": [
      "[[0. 0. 0. ... 0. 0. 0.]\n",
      " [0. 0. 0. ... 0. 0. 0.]\n",
      " [0. 0. 0. ... 0. 0. 0.]\n",
      " ...\n",
      " [0. 0. 0. ... 0. 0. 0.]\n",
      " [0. 0. 0. ... 0. 0. 0.]\n",
      " [0. 0. 0. ... 0. 0. 0.]]\n",
      "40\n",
      "hist [997088  28512  15990   8557   4351   2499   1520    959    572    362\n",
      "    244    161    112     74     64     49     53     65     65     40\n",
      "     10     11      8      8      4] bins [0.         0.2161968  0.43239361 0.64859041 0.86478722 1.08098402\n",
      " 1.29718082 1.51337763 1.72957443 1.94577124 2.16196804 2.37816484\n",
      " 2.59436165 2.81055845 3.02675526 3.24295206 3.45914886 3.67534567\n",
      " 3.89154247 4.10773928 4.32393608 4.54013288 4.75632969 4.97252649\n",
      " 5.1887233  5.4049201 ]\n",
      "25 25\n"
     ]
    },
    {
     "data": {
      "image/png": "[encoded data removed]",
      "text/plain": [
       "<Figure size 432x288 with 1 Axes>"
      ]
     },
     "metadata": {
      "needs_background": "light"
     },
     "output_type": "display_data"
    }
   ],
   "source": [
    "d=ds['Band1'] # makes a dataArray\n",
    "# print(type(d))\n",
    "# print(d.shape)\n",
    "print(d.values[0])\n",
    "print(len(flist))\n",
    "for i in range(len(flist)):\n",
    "    pass\n",
    "hist, bins = np.histogram(d.values[15], bins=25)\n",
    "\n",
    "print('hist', hist, 'bins',bins)\n",
    "print(len(hist), len(bins[:-1]))\n",
    "\n",
    "\n",
    "plt.bar(bins[:-1],hist, width=.7, align='edge')\n",
    "plt.show()"
   ]
  },
  {
   "cell_type": "code",
   "execution_count": 33,
   "metadata": {},
   "outputs": [
    {
     "name": "stdout",
     "output_type": "stream",
     "text": [
      "<class 'tuple'>\n"
     ]
    }
   ],
   "source": [
    "# hist\n",
    "print(type(hist))"
   ]
  },
  {
   "cell_type": "code",
   "execution_count": null,
   "metadata": {},
   "outputs": [],
   "source": []
  }
 ],
 "metadata": {
  "kernelspec": {
   "display_name": "Python 3",
   "language": "python",
   "name": "python3"
  },
  "language_info": {
   "codemirror_mode": {
    "name": "ipython",
    "version": 3
   },
   "file_extension": ".py",
   "mimetype": "text/x-python",
   "name": "python",
   "nbconvert_exporter": "python",
   "pygments_lexer": "ipython3",
   "version": "3.6.8"
  }
 },
 "nbformat": 4,
 "nbformat_minor": 4
}
